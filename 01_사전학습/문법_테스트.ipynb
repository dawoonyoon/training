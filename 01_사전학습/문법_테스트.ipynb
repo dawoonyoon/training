{
  "cells": [
    {
      "cell_type": "markdown",
      "id": "1973598f",
      "metadata": {
        "id": "1973598f"
      },
      "source": [
        "### 포멧 문자열"
      ]
    },
    {
      "cell_type": "code",
      "execution_count": null,
      "id": "6f984a47",
      "metadata": {
        "id": "6f984a47"
      },
      "outputs": [],
      "source": [
        "a1 = '홍길동'\n",
        "a2 = 30"
      ]
    },
    {
      "cell_type": "code",
      "execution_count": null,
      "id": "b8052232",
      "metadata": {
        "id": "b8052232",
        "outputId": "70af1842-100c-4ae6-bce6-75992df673f7"
      },
      "outputs": [
        {
          "name": "stdout",
          "output_type": "stream",
          "text": [
            "이름은 홍길동이고 나이는 30입니다\n"
          ]
        }
      ],
      "source": [
        "str1 = '이름은 ' + a1 + '이고 나이는 ' + str(a2) + '입니다'\n",
        "print(str1)"
      ]
    },
    {
      "cell_type": "code",
      "execution_count": null,
      "id": "84e63ddd",
      "metadata": {
        "id": "84e63ddd",
        "outputId": "beb9ae93-ae8f-406e-e286-b3d1e41398cc"
      },
      "outputs": [
        {
          "name": "stdout",
          "output_type": "stream",
          "text": [
            "이름은 홍길동 이고 나이는 30 살 입니다\n"
          ]
        }
      ],
      "source": [
        "str2 = '이름은 %s 이고 나이는 %d 살 입니다' % (a1, a2)\n",
        "print(str2)"
      ]
    },
    {
      "cell_type": "code",
      "execution_count": null,
      "id": "6d765dae",
      "metadata": {
        "id": "6d765dae",
        "outputId": "600afef1-e54b-4408-9249-08cb4c2044a7"
      },
      "outputs": [
        {
          "name": "stdout",
          "output_type": "stream",
          "text": [
            "이름은 홍길동이고 나이는 30살 입니다. 홍길동는 파스타를 좋아합니다\n"
          ]
        }
      ],
      "source": [
        "a1 = '홍길동'\n",
        "a2 = 30\n",
        "a3 = '파스타'\n",
        "\n",
        "str3 = '이름은 %s이고 나이는 %d살 입니다. %s는 %s를 좋아합니다' % (a1, a2, a1, a3)\n",
        "print(str3)"
      ]
    },
    {
      "cell_type": "code",
      "execution_count": null,
      "id": "df1dbcc7",
      "metadata": {
        "id": "df1dbcc7",
        "outputId": "eb2630e7-956a-400c-b5a5-a469c2fa2d8b"
      },
      "outputs": [
        {
          "name": "stdout",
          "output_type": "stream",
          "text": [
            "이름은 홍길동이고 나이는 30입니다. 홍길동은 파스타를 좋아합니다\n"
          ]
        }
      ],
      "source": [
        "str4 = '이름은 {0}이고 나이는 {1}입니다. {0}은 {2}를 좋아합니다'.format(a1, a2, a3)\n",
        "print(str4)"
      ]
    },
    {
      "cell_type": "code",
      "execution_count": null,
      "id": "956b8d1c",
      "metadata": {
        "id": "956b8d1c",
        "outputId": "d30fef04-8078-4318-c3bf-5f4621b74484"
      },
      "outputs": [
        {
          "name": "stdout",
          "output_type": "stream",
          "text": [
            "이름은 홍길동이고 나이는 30입니다. 홍길동은 파스타를 좋아합니다\n"
          ]
        }
      ],
      "source": [
        "str5 = f'이름은 {a1}이고 나이는 {a2}입니다. {a1}은 {a3}를 좋아합니다'\n",
        "print(str5)"
      ]
    },
    {
      "cell_type": "markdown",
      "id": "e4856e69",
      "metadata": {
        "id": "e4856e69"
      },
      "source": [
        "### apply 함수"
      ]
    },
    {
      "cell_type": "code",
      "execution_count": null,
      "id": "6c2f6d80",
      "metadata": {
        "id": "6c2f6d80",
        "outputId": "3c1a8361-1819-4c92-d4d5-64e5d6d0c658"
      },
      "outputs": [
        {
          "data": {
            "text/plain": [
              "0    11\n",
              "1    12\n",
              "2    13\n",
              "3    14\n",
              "4    15\n",
              "dtype: int64"
            ]
          },
          "execution_count": 10,
          "metadata": {},
          "output_type": "execute_result"
        }
      ],
      "source": [
        "import pandas as pd\n",
        "\n",
        "a1 = pd.Series([1, 2, 3, 4, 5])\n",
        "\n",
        "a1.apply(lambda x : x + 10)"
      ]
    },
    {
      "cell_type": "code",
      "execution_count": null,
      "id": "438d1bbe",
      "metadata": {
        "id": "438d1bbe"
      },
      "outputs": [],
      "source": [
        ""
      ]
    }
  ],
  "metadata": {
    "kernelspec": {
      "display_name": "Python 3",
      "language": "python",
      "name": "python3"
    },
    "language_info": {
      "codemirror_mode": {
        "name": "ipython",
        "version": 3
      },
      "file_extension": ".py",
      "mimetype": "text/x-python",
      "name": "python",
      "nbconvert_exporter": "python",
      "pygments_lexer": "ipython3",
      "version": "3.8.8"
    },
    "colab": {
      "name": "문법 테스트.ipynb",
      "provenance": []
    }
  },
  "nbformat": 4,
  "nbformat_minor": 5
}