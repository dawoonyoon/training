{
 "cells": [
  {
   "cell_type": "markdown",
   "id": "cf88dffc",
   "metadata": {},
   "source": [
    "### 변수\n",
    "- 값 하나를 저장하고 저장된 값을 가져다 사용할 수 있도록 제공되는 요소\n",
    "- 메모리에 기억장소가 마련되고 데이터를 저장한다."
   ]
  },
  {
   "cell_type": "code",
   "execution_count": 1,
   "id": "b5bcd892",
   "metadata": {},
   "outputs": [
    {
     "name": "stdout",
     "output_type": "stream",
     "text": [
      "100\n",
      "11.11\n",
      "True\n",
      "문자열\n",
      "(10+3j)\n",
      "1000000000\n"
     ]
    }
   ],
   "source": [
    "a1 = 100\n",
    "a2 = 11.11\n",
    "a3 = True\n",
    "a4 = '문자열'\n",
    "a5 = 10 +3j\n",
    "a6 = 1_000_000_000\n",
    "\n",
    "print(a1)\n",
    "print(a2)\n",
    "print(a3)\n",
    "print(a4)\n",
    "print(a5)\n",
    "print(a6)"
   ]
  },
  {
   "cell_type": "markdown",
   "id": "c2ac989f",
   "metadata": {},
   "source": [
    "### 튜플\n",
    "- 인덱스 번호(0부터 시작)를 통해 데이터를 관리한다. \n",
    "- 읽기 전용\n",
    "- 리스트에 비해 속도가 빠르고 메모리 사용량이 적다. "
   ]
  },
  {
   "cell_type": "code",
   "execution_count": 2,
   "id": "8e506985",
   "metadata": {},
   "outputs": [
    {
     "name": "stdout",
     "output_type": "stream",
     "text": [
      "()\n",
      "()\n",
      "(10, 20, 30, 40, 50)\n",
      "(10, 20, 30, 40, 50)\n"
     ]
    }
   ],
   "source": [
    "# 튜플생성\n",
    "t1 = tuple()\n",
    "t2 = ()\n",
    "t3 = (10, 20, 30, 40, 50)\n",
    "t4 = 10, 20, 30, 40, 50\n",
    "\n",
    "print(t1)\n",
    "print(t2)\n",
    "print(t3)\n",
    "print(t4)"
   ]
  },
  {
   "cell_type": "code",
   "execution_count": 7,
   "id": "0b2d5f5f",
   "metadata": {},
   "outputs": [
    {
     "name": "stdout",
     "output_type": "stream",
     "text": [
      "10\n",
      "20\n",
      "30\n",
      "40\n",
      "50\n"
     ]
    }
   ],
   "source": [
    "# 언패킹\n",
    "# 튜플이나 리스트가 가지고 있는 값의 수 만큼 변수를 작성해주면\n",
    "# 1:1 대응되서 값이 들어간다. \n",
    "a1, a2, a3, a4, a5 = t4\n",
    "print(a1)\n",
    "print(a2)\n",
    "print(a3)\n",
    "print(a4)\n",
    "print(a5)"
   ]
  },
  {
   "cell_type": "code",
   "execution_count": 8,
   "id": "eb2c7788",
   "metadata": {},
   "outputs": [],
   "source": [
    "def test1(a1, a2):\n",
    "    r1 = a1 + a2\n",
    "    r2 = a1 - a2\n",
    "    r3 = a1 * a2\n",
    "    r4 = a1 // a2\n",
    "    \n",
    "    return r1, r2, r3, r4"
   ]
  },
  {
   "cell_type": "code",
   "execution_count": 9,
   "id": "30d5d1b8",
   "metadata": {},
   "outputs": [
    {
     "name": "stdout",
     "output_type": "stream",
     "text": [
      "13\n",
      "7\n",
      "30\n",
      "3\n"
     ]
    }
   ],
   "source": [
    "v1, v2, v3, v4 = test1(10, 3)\n",
    "print(v1)\n",
    "print(v2)\n",
    "print(v3)\n",
    "print(v4)"
   ]
  },
  {
   "cell_type": "code",
   "execution_count": 10,
   "id": "3636022d",
   "metadata": {},
   "outputs": [],
   "source": [
    "t1 = 10, 20, 30, 40, 50, 60, 70, 80, 90, 100"
   ]
  },
  {
   "cell_type": "code",
   "execution_count": 11,
   "id": "60fd4f98",
   "metadata": {},
   "outputs": [
    {
     "name": "stdout",
     "output_type": "stream",
     "text": [
      "10\n",
      "20\n",
      "100\n",
      "90\n"
     ]
    }
   ],
   "source": [
    "# indexing, 원하는 데이터 하나를 가져오는 것\n",
    "# 0부터 1씩 증가하는 index를 사용한다. \n",
    "print(t1[0])\n",
    "print(t1[1])\n",
    "print(t1[-1])\n",
    "print(t1[-2])"
   ]
  },
  {
   "cell_type": "code",
   "execution_count": 13,
   "id": "aa19c680",
   "metadata": {},
   "outputs": [
    {
     "name": "stdout",
     "output_type": "stream",
     "text": [
      "(30, 40, 50)\n"
     ]
    }
   ],
   "source": [
    "# slicing, 원하는 범위에 해당하는 값을 추출하여 새로운 요소를 생성해서 반환한다.\n",
    "# 2~5 - 1\n",
    "print(t1[2:5])"
   ]
  },
  {
   "cell_type": "markdown",
   "id": "18d1e019",
   "metadata": {},
   "source": [
    "### 리스트\n",
    "- 기본적으로는 튜플과 동일하다. \n",
    "- 추가, 수정, 삭제 등이 가능하다. "
   ]
  },
  {
   "cell_type": "code",
   "execution_count": 14,
   "id": "40776eed",
   "metadata": {},
   "outputs": [],
   "source": [
    "list1 = [10, 20, 30, 40, 50]"
   ]
  },
  {
   "cell_type": "code",
   "execution_count": 15,
   "id": "4ade764d",
   "metadata": {},
   "outputs": [
    {
     "name": "stdout",
     "output_type": "stream",
     "text": [
      "[10, 20, 30, 40, 50]\n",
      "[10, 20, 30, 40, 50, 60, 70]\n"
     ]
    }
   ],
   "source": [
    "# 추가\n",
    "print(list1)\n",
    "\n",
    "list1.append(60)\n",
    "list1.append(70)\n",
    "\n",
    "print(list1)"
   ]
  },
  {
   "cell_type": "code",
   "execution_count": 16,
   "id": "a5b6bc3f",
   "metadata": {},
   "outputs": [
    {
     "name": "stdout",
     "output_type": "stream",
     "text": [
      "[10, 20, 30, 40, 50, 60, 70]\n",
      "[10, 20, 30, 40, 50, 60, 70, 80, 90, 100]\n"
     ]
    }
   ],
   "source": [
    "# 다수의 값을 동시에 추가하기 \n",
    "print(list1)\n",
    "\n",
    "list1.extend([80, 90, 100])\n",
    "\n",
    "print(list1)"
   ]
  },
  {
   "cell_type": "code",
   "execution_count": 17,
   "id": "b18e868d",
   "metadata": {},
   "outputs": [
    {
     "name": "stdout",
     "output_type": "stream",
     "text": [
      "[10, 20, 30, 40, 50, 60, 70, 80, 90, 100]\n",
      "[10, 20, 30, 40, 41, 50, 60, 70, 80, 90, 100]\n"
     ]
    }
   ],
   "source": [
    "# 삽입\n",
    "print(list1)\n",
    "\n",
    "# 삽입할 위치, 삽입할 값\n",
    "list1.insert(4, 41)\n",
    "\n",
    "print(list1)"
   ]
  },
  {
   "cell_type": "code",
   "execution_count": 18,
   "id": "80a7a83e",
   "metadata": {},
   "outputs": [
    {
     "name": "stdout",
     "output_type": "stream",
     "text": [
      "[10, 20, 30, 40, 41, 50, 60, 70, 80, 90, 100]\n",
      "[10, 20, 30, 40, 50, 60, 70, 80, 90, 100]\n"
     ]
    }
   ],
   "source": [
    "# 삭제, 인덱스를 통한 삭제\n",
    "print(list1)\n",
    "\n",
    "del list1[4]\n",
    "\n",
    "print(list1)"
   ]
  },
  {
   "cell_type": "code",
   "execution_count": 19,
   "id": "be21042a",
   "metadata": {},
   "outputs": [
    {
     "name": "stdout",
     "output_type": "stream",
     "text": [
      "[10, 20, 30, 40, 50, 60, 70, 80, 90, 100]\n",
      "[10, 20, 30, 40, 50, 60, 80, 90, 100]\n"
     ]
    }
   ],
   "source": [
    "# 삭제, 값을 통한 삭제\n",
    "# 동일한 값이 있을 경우에는 제일 좌측의 값이 삭제된다. \n",
    "print(list1)\n",
    "\n",
    "list1.remove(70)\n",
    "\n",
    "print(list1)"
   ]
  },
  {
   "cell_type": "markdown",
   "id": "9289677b",
   "metadata": {},
   "source": [
    "### 딕셔너리\n",
    "- 데이터를 이름을 가지고 관리한다. \n",
    "- 추가, 수정, 삭제 등이 가능하다. "
   ]
  },
  {
   "cell_type": "code",
   "execution_count": 20,
   "id": "4c1e59b0",
   "metadata": {},
   "outputs": [],
   "source": [
    "d1 = {\n",
    "    'a1' : 100,\n",
    "    'a2' : 200,\n",
    "    10 : '안녕하세요'\n",
    "}"
   ]
  },
  {
   "cell_type": "code",
   "execution_count": 21,
   "id": "91d50923",
   "metadata": {},
   "outputs": [
    {
     "name": "stdout",
     "output_type": "stream",
     "text": [
      "100\n",
      "200\n",
      "안녕하세요\n"
     ]
    }
   ],
   "source": [
    "print(d1['a1'])\n",
    "print(d1['a2'])\n",
    "print(d1[10])"
   ]
  },
  {
   "cell_type": "code",
   "execution_count": null,
   "id": "c0d86666",
   "metadata": {},
   "outputs": [],
   "source": []
  }
 ],
 "metadata": {
  "kernelspec": {
   "display_name": "Python 3",
   "language": "python",
   "name": "python3"
  },
  "language_info": {
   "codemirror_mode": {
    "name": "ipython",
    "version": 3
   },
   "file_extension": ".py",
   "mimetype": "text/x-python",
   "name": "python",
   "nbconvert_exporter": "python",
   "pygments_lexer": "ipython3",
   "version": "3.8.8"
  }
 },
 "nbformat": 4,
 "nbformat_minor": 5
}
