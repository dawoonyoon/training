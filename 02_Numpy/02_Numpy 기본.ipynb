{
 "cells": [
  {
   "cell_type": "markdown",
   "id": "3f000e68",
   "metadata": {},
   "source": [
    "### Numpy\n",
    "- 파이썬에서 제공하는 list, tuple로는 행렬에 관련된 작업을 하기가 어렵다. \n",
    "- 행렬에 관련된 연산을 위해 제공하는 라이브러리 \n",
    "- 수학에서의 행렬에 대한 작업을 할 수 있다. "
   ]
  },
  {
   "cell_type": "code",
   "execution_count": 1,
   "id": "bca01d98",
   "metadata": {},
   "outputs": [
    {
     "name": "stdout",
     "output_type": "stream",
     "text": [
      "[10, 20, 30, 40, 50, 60, 70, 80, 90, 100]\n",
      "[10, 20, 30, 40, 50, 10, 20, 30, 40, 50, 10, 20, 30, 40, 50]\n"
     ]
    }
   ],
   "source": [
    "# 라이브러리를 불러온다. \n",
    "import numpy as np\n",
    "list1 = [10, 20, 30, 40, 50]\n",
    "list2 = [60, 70, 80, 90, 100]\n",
    "\n",
    "list3 = list1 + list2\n",
    "print(list3)\n",
    "\n",
    "list4 = list1 *3\n",
    "print(list4)"
   ]
  },
  {
   "cell_type": "code",
   "execution_count": 2,
   "id": "0cec7725",
   "metadata": {},
   "outputs": [
    {
     "name": "stdout",
     "output_type": "stream",
     "text": [
      "[ 70  90 110 130 150]\n",
      "[ 30  60  90 120 150]\n"
     ]
    }
   ],
   "source": [
    "array1 = np.array([10, 20, 30, 40, 50])\n",
    "array2 = np.array([60, 70, 80, 90, 100])\n",
    "\n",
    "array3 = array1 + array2\n",
    "print(array3)\n",
    "\n",
    "array4 = array1 * 3\n",
    "print(array4)"
   ]
  },
  {
   "cell_type": "markdown",
   "id": "7144eb23",
   "metadata": {},
   "source": [
    "### 행렬 생성"
   ]
  },
  {
   "cell_type": "code",
   "execution_count": 3,
   "id": "74be941e",
   "metadata": {},
   "outputs": [
    {
     "name": "stdout",
     "output_type": "stream",
     "text": [
      "[10, 20, 30, 40, 50]\n",
      "[10 20 30 40 50]\n"
     ]
    },
    {
     "data": {
      "text/plain": [
       "[10, 20, 30, 40, 50]"
      ]
     },
     "metadata": {},
     "output_type": "display_data"
    },
    {
     "data": {
      "text/plain": [
       "array([10, 20, 30, 40, 50])"
      ]
     },
     "metadata": {},
     "output_type": "display_data"
    }
   ],
   "source": [
    "# 1차원 리스트\n",
    "list1 = [10, 20, 30, 40, 50]\n",
    "\n",
    "# 1차원 행렬(함수안에 리스트나 튜플을 넣어준다)\n",
    "array1 = np.array([10, 20, 30, 40, 50])\n",
    "\n",
    "print(list1)\n",
    "print(array1)\n",
    "\n",
    "display(list1)\n",
    "display(array1)"
   ]
  },
  {
   "cell_type": "code",
   "execution_count": 4,
   "id": "dd26e755",
   "metadata": {},
   "outputs": [
    {
     "name": "stdout",
     "output_type": "stream",
     "text": [
      "<class 'list'>\n",
      "<class 'numpy.ndarray'>\n"
     ]
    }
   ],
   "source": [
    "print(type(list1))\n",
    "print(type(array1))"
   ]
  },
  {
   "cell_type": "code",
   "execution_count": 5,
   "id": "ab81752c",
   "metadata": {},
   "outputs": [
    {
     "name": "stdout",
     "output_type": "stream",
     "text": [
      "[[1, 2, 3], [4, 5, 6], [7, 8, 9]]\n",
      "[[1 2 3]\n",
      " [4 5 6]\n",
      " [7 8 9]]\n"
     ]
    }
   ],
   "source": [
    "# 2차원 리스트 \n",
    "list2 = [\n",
    "    [1, 2, 3],\n",
    "    [4, 5, 6],\n",
    "    [7, 8, 9]\n",
    "]\n",
    "\n",
    "# 2차원 행렬\n",
    "array2 = np.array([\n",
    "    [1, 2, 3],\n",
    "    [4, 5, 6],\n",
    "    [7, 8, 9]\n",
    "])\n",
    "\n",
    "print(list2)\n",
    "print(array2)"
   ]
  },
  {
   "cell_type": "markdown",
   "id": "9d85508d",
   "metadata": {},
   "source": [
    "### 행렬과 데이터 타입의 관계"
   ]
  },
  {
   "cell_type": "code",
   "execution_count": 12,
   "id": "f668850f",
   "metadata": {},
   "outputs": [
    {
     "data": {
      "text/plain": [
       "[True, 100, 11.11, '문자열']"
      ]
     },
     "metadata": {},
     "output_type": "display_data"
    },
    {
     "data": {
      "text/plain": [
       "array(['True', '100', '11.11', '문자열'], dtype='<U32')"
      ]
     },
     "metadata": {},
     "output_type": "display_data"
    }
   ],
   "source": [
    "list1 = [True, 100, 11.11, '문자열']\n",
    "# ndarray는 같은 타입의 값만 담을 수 있다.\n",
    "# 다양한 타입의 값이 섞여져 있을 경우 더 많은 값의 종류를 표현할 수 있는\n",
    "# 형태로 변횐된다. \n",
    "# 논리형 -> 정수 -> 실수 -> 문자열\n",
    "array1 = np.array([True, 100, 11.11, '문자열'])\n",
    "\n",
    "display(list1)\n",
    "display(array1)"
   ]
  },
  {
   "cell_type": "code",
   "execution_count": 15,
   "id": "c55d4af7",
   "metadata": {},
   "outputs": [
    {
     "data": {
      "text/plain": [
       "array([0., 1., 2., 3., 4.])"
      ]
     },
     "execution_count": 15,
     "metadata": {},
     "output_type": "execute_result"
    }
   ],
   "source": [
    "# 생성시 타입을 지정할 수 있다.\n",
    "# 정수 : int, 실수 : float, 논리 : bool 문자열 : str\n",
    "array2 = np.array([0, 1, 2, 3, 4], dtype='float')\n",
    "array2"
   ]
  },
  {
   "cell_type": "code",
   "execution_count": 16,
   "id": "5c2bd75f",
   "metadata": {},
   "outputs": [
    {
     "data": {
      "text/plain": [
       "array([False,  True,  True,  True,  True])"
      ]
     },
     "execution_count": 16,
     "metadata": {},
     "output_type": "execute_result"
    }
   ],
   "source": [
    "array3 = np.array([0, 1, 2, 3, 4], dtype='bool')\n",
    "array3"
   ]
  },
  {
   "cell_type": "code",
   "execution_count": 17,
   "id": "ccdda5b8",
   "metadata": {},
   "outputs": [
    {
     "name": "stdout",
     "output_type": "stream",
     "text": [
      "int32\n"
     ]
    }
   ],
   "source": [
    "# 행렬의 타입확인\n",
    "array4 = np.array([0, 1, 2, 3, 4])\n",
    "print(array4.dtype)"
   ]
  },
  {
   "cell_type": "code",
   "execution_count": 18,
   "id": "f8ed1a49",
   "metadata": {},
   "outputs": [
    {
     "name": "stdout",
     "output_type": "stream",
     "text": [
      "<U11\n"
     ]
    },
    {
     "data": {
      "text/plain": [
       "array(['0', '1', '2', '3', '4'], dtype='<U11')"
      ]
     },
     "execution_count": 18,
     "metadata": {},
     "output_type": "execute_result"
    }
   ],
   "source": [
    "# 행렬의 타입을 변경한다. \n",
    "array5 = array4.astype('str')\n",
    "print(array5.dtype)\n",
    "array5"
   ]
  },
  {
   "cell_type": "markdown",
   "id": "1cf61fb5",
   "metadata": {},
   "source": [
    "### 특별한 행렬을 만드는 함수들"
   ]
  },
  {
   "cell_type": "code",
   "execution_count": 20,
   "id": "ce8a85e2",
   "metadata": {},
   "outputs": [
    {
     "data": {
      "text/plain": [
       "array([0., 0., 0., 0., 0.])"
      ]
     },
     "metadata": {},
     "output_type": "display_data"
    },
    {
     "data": {
      "text/plain": [
       "array([[0., 0., 0., 0.],\n",
       "       [0., 0., 0., 0.],\n",
       "       [0., 0., 0., 0.]])"
      ]
     },
     "metadata": {},
     "output_type": "display_data"
    }
   ],
   "source": [
    "# 0 행렬 : 0으로 구성된 행렬\n",
    "array1 = np.zeros(5)\n",
    "display(array1)\n",
    "\n",
    "array2 = np.zeros([3, 4])\n",
    "display(array2)"
   ]
  },
  {
   "cell_type": "code",
   "execution_count": 22,
   "id": "d0288454",
   "metadata": {},
   "outputs": [
    {
     "data": {
      "text/plain": [
       "array([1., 1., 1., 1., 1.])"
      ]
     },
     "metadata": {},
     "output_type": "display_data"
    },
    {
     "data": {
      "text/plain": [
       "array([[1., 1., 1., 1.],\n",
       "       [1., 1., 1., 1.],\n",
       "       [1., 1., 1., 1.]])"
      ]
     },
     "metadata": {},
     "output_type": "display_data"
    }
   ],
   "source": [
    "# 1로 채워진 행렬\n",
    "array3 = np.ones(5)\n",
    "display(array3)\n",
    "\n",
    "array4 = np.ones([3, 4])\n",
    "display(array4)"
   ]
  },
  {
   "cell_type": "code",
   "execution_count": 23,
   "id": "7298ef60",
   "metadata": {},
   "outputs": [
    {
     "data": {
      "text/plain": [
       "array([7, 7, 7, 7, 7])"
      ]
     },
     "metadata": {},
     "output_type": "display_data"
    },
    {
     "data": {
      "text/plain": [
       "array([[7, 7, 7, 7],\n",
       "       [7, 7, 7, 7],\n",
       "       [7, 7, 7, 7]])"
      ]
     },
     "metadata": {},
     "output_type": "display_data"
    }
   ],
   "source": [
    "# 7로 채워진 5개짜리 1차원 행렬\n",
    "array5 = np.full(5, 7)\n",
    "display(array5)\n",
    "\n",
    "# 7이 채워진 3행 4열 2차원 행렬\n",
    "array6 = np.full([3, 4], 7)\n",
    "display(array6)"
   ]
  },
  {
   "cell_type": "code",
   "execution_count": 24,
   "id": "bf51c4a3",
   "metadata": {},
   "outputs": [
    {
     "data": {
      "text/plain": [
       "array([0, 1, 2, 3, 4, 5])"
      ]
     },
     "metadata": {},
     "output_type": "display_data"
    }
   ],
   "source": [
    "# 특정 범위에 해당하는 값을 가지고 있는 1차원 행렬 생성\n",
    "# 0 ~ 6 -1 까지\n",
    "array7 = np.arange(6)\n",
    "display(array7)"
   ]
  },
  {
   "cell_type": "code",
   "execution_count": 25,
   "id": "2119fb8c",
   "metadata": {},
   "outputs": [
    {
     "data": {
      "text/plain": [
       "array([ 3,  4,  5,  6,  7,  8,  9, 10, 11, 12])"
      ]
     },
     "metadata": {},
     "output_type": "display_data"
    }
   ],
   "source": [
    "# 3 ~ 13 -1 까지\n",
    "array8 = np.arange(3, 13)\n",
    "display(array8)"
   ]
  },
  {
   "cell_type": "code",
   "execution_count": 26,
   "id": "b0d0338f",
   "metadata": {},
   "outputs": [
    {
     "data": {
      "text/plain": [
       "array([ 3,  6,  9, 12])"
      ]
     },
     "metadata": {},
     "output_type": "display_data"
    }
   ],
   "source": [
    "# 3 ~ 13 -1 까지, 3씩 증가\n",
    "array9 = np.arange(3, 13, 3)\n",
    "display(array9)"
   ]
  },
  {
   "cell_type": "markdown",
   "id": "d8442239",
   "metadata": {},
   "source": [
    "### 행렬 계산(산수)"
   ]
  },
  {
   "cell_type": "code",
   "execution_count": 37,
   "id": "0be42b28",
   "metadata": {},
   "outputs": [],
   "source": [
    "array1 = np.array([\n",
    "    [10, 20, 30],\n",
    "    [40, 50, 60],\n",
    "    [70, 80, 90]\n",
    "])\n",
    "\n",
    "array2 = np.array([\n",
    "    [1, 2, 3],\n",
    "    [4, 5, 6],\n",
    "    [7, 8, 9]\n",
    "])"
   ]
  },
  {
   "cell_type": "code",
   "execution_count": 38,
   "id": "d7b83bf7",
   "metadata": {},
   "outputs": [
    {
     "data": {
      "text/plain": [
       "array([[11, 22, 33],\n",
       "       [44, 55, 66],\n",
       "       [77, 88, 99]])"
      ]
     },
     "metadata": {},
     "output_type": "display_data"
    },
    {
     "data": {
      "text/plain": [
       "array([[ 9, 18, 27],\n",
       "       [36, 45, 54],\n",
       "       [63, 72, 81]])"
      ]
     },
     "metadata": {},
     "output_type": "display_data"
    },
    {
     "data": {
      "text/plain": [
       "array([[ 10,  40,  90],\n",
       "       [160, 250, 360],\n",
       "       [490, 640, 810]])"
      ]
     },
     "metadata": {},
     "output_type": "display_data"
    },
    {
     "data": {
      "text/plain": [
       "array([[10, 10, 10],\n",
       "       [10, 10, 10],\n",
       "       [10, 10, 10]], dtype=int32)"
      ]
     },
     "metadata": {},
     "output_type": "display_data"
    }
   ],
   "source": [
    "# 행렬과 행렬의 연산\n",
    "# 행렬의 각 원소를 1:1 매칭하여 연산하고 그 결과가 담겨 있는 행렬을 반환한다. \n",
    "# 연산을 하는 두 행렬은 행과 열이 일치해야 한다. \n",
    "a1 = array1 + array2\n",
    "a2 = array1 - array2\n",
    "a3 = array1 * array2\n",
    "a4 = array1 // array2\n",
    "\n",
    "display(a1)\n",
    "display(a2)\n",
    "display(a3)\n",
    "display(a4)"
   ]
  },
  {
   "cell_type": "code",
   "execution_count": 40,
   "id": "626384d8",
   "metadata": {},
   "outputs": [
    {
     "data": {
      "text/plain": [
       "array([[ 20,  30,  40],\n",
       "       [ 50,  60,  70],\n",
       "       [ 80,  90, 100]])"
      ]
     },
     "metadata": {},
     "output_type": "display_data"
    },
    {
     "data": {
      "text/plain": [
       "array([[ 0, 10, 20],\n",
       "       [30, 40, 50],\n",
       "       [60, 70, 80]])"
      ]
     },
     "metadata": {},
     "output_type": "display_data"
    },
    {
     "data": {
      "text/plain": [
       "array([[100, 200, 300],\n",
       "       [400, 500, 600],\n",
       "       [700, 800, 900]])"
      ]
     },
     "metadata": {},
     "output_type": "display_data"
    },
    {
     "data": {
      "text/plain": [
       "array([[1, 2, 3],\n",
       "       [4, 5, 6],\n",
       "       [7, 8, 9]], dtype=int32)"
      ]
     },
     "metadata": {},
     "output_type": "display_data"
    }
   ],
   "source": [
    "# 행렬과 숫자간의 연산\n",
    "# 행렬의 각 원소에 지정된 값을 연산한다. \n",
    "a1 = array1 + 10\n",
    "a2 = array1 - 10\n",
    "a3 = array1 * 10\n",
    "a4 = array1 // 10\n",
    "\n",
    "display(a1, a2, a3, a4)"
   ]
  },
  {
   "cell_type": "markdown",
   "id": "3b6d5e0a",
   "metadata": {},
   "source": [
    "### 색인과 슬라이싱\n",
    "- 색인 : 원하는 값 하나를 가져오는 것\n",
    "- 슬라이싱 : 원하는 부분을 발췌하는 것"
   ]
  },
  {
   "cell_type": "code",
   "execution_count": 41,
   "id": "f3154176",
   "metadata": {},
   "outputs": [],
   "source": [
    "list1 = [10, 20, 30, 40, 50, 60, 70, 80, 90, 100]\n",
    "array1 = np.array(list1)"
   ]
  },
  {
   "cell_type": "code",
   "execution_count": 42,
   "id": "f74a0e2e",
   "metadata": {},
   "outputs": [
    {
     "data": {
      "text/plain": [
       "30"
      ]
     },
     "metadata": {},
     "output_type": "display_data"
    },
    {
     "data": {
      "text/plain": [
       "30"
      ]
     },
     "metadata": {},
     "output_type": "display_data"
    }
   ],
   "source": [
    "# 인덱스 번호 2번\n",
    "display(list1[2])\n",
    "display(array1[2])"
   ]
  },
  {
   "cell_type": "code",
   "execution_count": 43,
   "id": "8e4c94a5",
   "metadata": {},
   "outputs": [
    {
     "data": {
      "text/plain": [
       "[30, 40, 50, 60]"
      ]
     },
     "metadata": {},
     "output_type": "display_data"
    },
    {
     "data": {
      "text/plain": [
       "array([30, 40, 50, 60])"
      ]
     },
     "metadata": {},
     "output_type": "display_data"
    }
   ],
   "source": [
    "# 2 ~ 6 - 1 까지\n",
    "display(list1[2:6])\n",
    "display(array1[2:6])"
   ]
  },
  {
   "cell_type": "code",
   "execution_count": 44,
   "id": "2c93696e",
   "metadata": {},
   "outputs": [
    {
     "data": {
      "text/plain": [
       "[10, 20, 30, 40, 50, 60]"
      ]
     },
     "metadata": {},
     "output_type": "display_data"
    },
    {
     "data": {
      "text/plain": [
       "array([10, 20, 30, 40, 50, 60])"
      ]
     },
     "metadata": {},
     "output_type": "display_data"
    }
   ],
   "source": [
    "# 처음부터 6 -1 까지\n",
    "display(list1[:6])\n",
    "display(array1[:6])"
   ]
  },
  {
   "cell_type": "code",
   "execution_count": 45,
   "id": "90a3a543",
   "metadata": {},
   "outputs": [
    {
     "data": {
      "text/plain": [
       "[30, 40, 50, 60, 70, 80, 90, 100]"
      ]
     },
     "metadata": {},
     "output_type": "display_data"
    },
    {
     "data": {
      "text/plain": [
       "array([ 30,  40,  50,  60,  70,  80,  90, 100])"
      ]
     },
     "metadata": {},
     "output_type": "display_data"
    }
   ],
   "source": [
    "# 2 ~  끝까지\n",
    "display(list1[2:])\n",
    "display(array1[2:])"
   ]
  },
  {
   "cell_type": "code",
   "execution_count": 46,
   "id": "ba8808d2",
   "metadata": {},
   "outputs": [],
   "source": [
    "list2d = [\n",
    "    [1, 2, 3],\n",
    "    [4, 5, 6],\n",
    "    [7, 8, 9]\n",
    "]\n",
    "\n",
    "array2d = np.array([\n",
    "    [1, 2, 3],\n",
    "    [4, 5, 6],\n",
    "    [7, 8, 9]\n",
    "])"
   ]
  },
  {
   "cell_type": "code",
   "execution_count": 48,
   "id": "8faf658f",
   "metadata": {},
   "outputs": [
    {
     "data": {
      "text/plain": [
       "6"
      ]
     },
     "metadata": {},
     "output_type": "display_data"
    },
    {
     "data": {
      "text/plain": [
       "6"
      ]
     },
     "metadata": {},
     "output_type": "display_data"
    },
    {
     "data": {
      "text/plain": [
       "6"
      ]
     },
     "metadata": {},
     "output_type": "display_data"
    }
   ],
   "source": [
    "# 2행 3열 데이터를 가져온다.\n",
    "display(list2d[1][2])\n",
    "display(array2d[1][2])\n",
    "display(array2d[1, 2])"
   ]
  },
  {
   "cell_type": "code",
   "execution_count": 51,
   "id": "d9ef6c73",
   "metadata": {},
   "outputs": [
    {
     "name": "stdout",
     "output_type": "stream",
     "text": [
      "[[7, 8, 9]]\n",
      "[[7 8 9]]\n",
      "[[5 6]\n",
      " [8 9]]\n"
     ]
    }
   ],
   "source": [
    "# slicing\n",
    "# 1 ~ 3 -1 행, 1 ~ 3 - 1열의 데이터를 가져온다. \n",
    "print(list2d[1:3][1:3])\n",
    "print(array2d[1:3][1:3])\n",
    "print(array2d[1:3, 1:3])"
   ]
  },
  {
   "cell_type": "code",
   "execution_count": 52,
   "id": "ce3382f7",
   "metadata": {},
   "outputs": [
    {
     "data": {
      "text/plain": [
       "array([10, 20, 30, 40, 50])"
      ]
     },
     "execution_count": 52,
     "metadata": {},
     "output_type": "execute_result"
    }
   ],
   "source": [
    "# 테스트를 위한 새로운 행렬을 생성한다. \n",
    "array1 = np.array([10, 20, 30, 40, 50])\n",
    "array1"
   ]
  },
  {
   "cell_type": "code",
   "execution_count": 53,
   "id": "dce0b250",
   "metadata": {},
   "outputs": [
    {
     "data": {
      "text/plain": [
       "array([10, 30, 50])"
      ]
     },
     "execution_count": 53,
     "metadata": {},
     "output_type": "execute_result"
    }
   ],
   "source": [
    "# True나 False를 지정한다. \n",
    "a1 = [True, False, True, False, True]\n",
    "array2 = array1[a1]\n",
    "array2"
   ]
  },
  {
   "cell_type": "code",
   "execution_count": 54,
   "id": "b1e6b7fd",
   "metadata": {},
   "outputs": [
    {
     "data": {
      "text/plain": [
       "array([ 0,  1,  2,  3,  4,  5,  6,  7,  8,  9, 10, 11, 12, 13, 14, 15, 16,\n",
       "       17, 18, 19, 20, 21, 22, 23, 24, 25, 26, 27, 28, 29, 30, 31, 32, 33,\n",
       "       34, 35, 36, 37, 38, 39, 40, 41, 42, 43, 44, 45, 46, 47, 48, 49, 50,\n",
       "       51, 52, 53, 54, 55, 56, 57, 58, 59, 60, 61, 62, 63, 64, 65, 66, 67,\n",
       "       68, 69, 70, 71, 72, 73, 74, 75, 76, 77, 78, 79, 80, 81, 82, 83, 84,\n",
       "       85, 86, 87, 88, 89, 90, 91, 92, 93, 94, 95, 96, 97, 98, 99])"
      ]
     },
     "metadata": {},
     "output_type": "display_data"
    }
   ],
   "source": [
    "# True나 False 구성된 요소를 넣어서 True 자리에 해당하는 것만 가져오는 것을 \n",
    "# 이용해 검색 기능을 만들 수 있다. \n",
    "array1 = np.arange(100)\n",
    "display(array1)"
   ]
  },
  {
   "cell_type": "code",
   "execution_count": 55,
   "id": "211dc16d",
   "metadata": {},
   "outputs": [
    {
     "data": {
      "text/plain": [
       "array([ True, False, False,  True, False, False,  True, False, False,\n",
       "        True, False, False,  True, False, False,  True, False, False,\n",
       "        True, False, False,  True, False, False,  True, False, False,\n",
       "        True, False, False,  True, False, False,  True, False, False,\n",
       "        True, False, False,  True, False, False,  True, False, False,\n",
       "        True, False, False,  True, False, False,  True, False, False,\n",
       "        True, False, False,  True, False, False,  True, False, False,\n",
       "        True, False, False,  True, False, False,  True, False, False,\n",
       "        True, False, False,  True, False, False,  True, False, False,\n",
       "        True, False, False,  True, False, False,  True, False, False,\n",
       "        True, False, False,  True, False, False,  True, False, False,\n",
       "        True])"
      ]
     },
     "execution_count": 55,
     "metadata": {},
     "output_type": "execute_result"
    }
   ],
   "source": [
    "array2 = array1 % 3 == 0\n",
    "array2"
   ]
  },
  {
   "cell_type": "code",
   "execution_count": 56,
   "id": "cc16a5dd",
   "metadata": {},
   "outputs": [
    {
     "data": {
      "text/plain": [
       "array([ 0,  3,  6,  9, 12, 15, 18, 21, 24, 27, 30, 33, 36, 39, 42, 45, 48,\n",
       "       51, 54, 57, 60, 63, 66, 69, 72, 75, 78, 81, 84, 87, 90, 93, 96, 99])"
      ]
     },
     "execution_count": 56,
     "metadata": {},
     "output_type": "execute_result"
    }
   ],
   "source": [
    "array1[array2]"
   ]
  },
  {
   "cell_type": "code",
   "execution_count": 57,
   "id": "31c3a879",
   "metadata": {},
   "outputs": [
    {
     "data": {
      "text/plain": [
       "array([ 0,  3,  6,  9, 12, 15, 18, 21, 24, 27, 30, 33, 36, 39, 42, 45, 48,\n",
       "       51, 54, 57, 60, 63, 66, 69, 72, 75, 78, 81, 84, 87, 90, 93, 96, 99])"
      ]
     },
     "execution_count": 57,
     "metadata": {},
     "output_type": "execute_result"
    }
   ],
   "source": [
    "array1[array1 % 3 == 0]"
   ]
  },
  {
   "cell_type": "code",
   "execution_count": null,
   "id": "25d166b9",
   "metadata": {},
   "outputs": [],
   "source": []
  }
 ],
 "metadata": {
  "kernelspec": {
   "display_name": "Python 3",
   "language": "python",
   "name": "python3"
  },
  "language_info": {
   "codemirror_mode": {
    "name": "ipython",
    "version": 3
   },
   "file_extension": ".py",
   "mimetype": "text/x-python",
   "name": "python",
   "nbconvert_exporter": "python",
   "pygments_lexer": "ipython3",
   "version": "3.8.8"
  }
 },
 "nbformat": 4,
 "nbformat_minor": 5
}
