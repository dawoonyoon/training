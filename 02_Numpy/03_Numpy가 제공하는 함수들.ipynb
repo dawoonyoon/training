{
 "cells": [
  {
   "cell_type": "code",
   "execution_count": 1,
   "id": "8eb31888",
   "metadata": {},
   "outputs": [],
   "source": [
    "import numpy as np"
   ]
  },
  {
   "cell_type": "markdown",
   "id": "59f9ef1b",
   "metadata": {},
   "source": [
    "### 행렬의 차원을 변경"
   ]
  },
  {
   "cell_type": "code",
   "execution_count": 2,
   "id": "b917481a",
   "metadata": {},
   "outputs": [
    {
     "data": {
      "text/plain": [
       "array([ 0,  1,  2,  3,  4,  5,  6,  7,  8,  9, 10, 11, 12, 13, 14])"
      ]
     },
     "execution_count": 2,
     "metadata": {},
     "output_type": "execute_result"
    }
   ],
   "source": [
    "# 1차원 행렬을 생성한다. \n",
    "array1 = np.arange(15)\n",
    "array1"
   ]
  },
  {
   "cell_type": "code",
   "execution_count": 3,
   "id": "4e192992",
   "metadata": {},
   "outputs": [
    {
     "data": {
      "text/plain": [
       "array([[ 0,  1,  2,  3,  4],\n",
       "       [ 5,  6,  7,  8,  9],\n",
       "       [10, 11, 12, 13, 14]])"
      ]
     },
     "execution_count": 3,
     "metadata": {},
     "output_type": "execute_result"
    }
   ],
   "source": [
    "# 1차원 -> 2차원으로 변환\n",
    "array2 = array1.reshape(3, 5)\n",
    "array2"
   ]
  },
  {
   "cell_type": "code",
   "execution_count": 11,
   "id": "971a8f15",
   "metadata": {},
   "outputs": [
    {
     "data": {
      "text/plain": [
       "array([ 0,  1,  2,  3,  4,  5,  6,  7,  8,  9, 10, 11, 12, 13, 14])"
      ]
     },
     "metadata": {},
     "output_type": "display_data"
    },
    {
     "data": {
      "text/plain": [
       "array([ 0,  1,  2,  3,  4,  5,  6,  7,  8,  9, 10, 11, 12, 13, 14])"
      ]
     },
     "metadata": {},
     "output_type": "display_data"
    }
   ],
   "source": [
    "# 2차원 -> 1차원    (-1)\n",
    "array3 = array2.reshape(15)\n",
    "display(array3)\n",
    "\n",
    "array4 = array2.reshape(-1)\n",
    "display(array4)"
   ]
  },
  {
   "cell_type": "markdown",
   "id": "0877fa78",
   "metadata": {},
   "source": [
    "### 통계함수"
   ]
  },
  {
   "cell_type": "code",
   "execution_count": 12,
   "id": "955a4dd1",
   "metadata": {},
   "outputs": [
    {
     "data": {
      "text/plain": [
       "array([[ 0,  1,  2,  3,  4],\n",
       "       [ 5,  6,  7,  8,  9],\n",
       "       [10, 11, 12, 13, 14]])"
      ]
     },
     "execution_count": 12,
     "metadata": {},
     "output_type": "execute_result"
    }
   ],
   "source": [
    "array1 = np.arange(15).reshape(3, 5)\n",
    "array1"
   ]
  },
  {
   "cell_type": "code",
   "execution_count": 14,
   "id": "c1cfdd08",
   "metadata": {},
   "outputs": [
    {
     "name": "stdout",
     "output_type": "stream",
     "text": [
      "7.0\n",
      "7.0\n"
     ]
    }
   ],
   "source": [
    "# 행렬이 제공하는 함수 사용하기 \n",
    "mean1 = array1.mean()\n",
    "# numpy가 제공하는 함수 사용하기 \n",
    "mean2 = np.mean(array1)\n",
    "\n",
    "print(mean1)\n",
    "print(mean2)"
   ]
  },
  {
   "cell_type": "markdown",
   "id": "8b5808d9",
   "metadata": {},
   "source": [
    "### 로또 번호 추첨해보기..."
   ]
  },
  {
   "cell_type": "code",
   "execution_count": 15,
   "id": "82ca782a",
   "metadata": {},
   "outputs": [
    {
     "data": {
      "text/plain": [
       "array([ 1,  2,  3,  4,  5,  6,  7,  8,  9, 10, 11, 12, 13, 14, 15, 16, 17,\n",
       "       18, 19, 20, 21, 22, 23, 24, 25, 26, 27, 28, 29, 30, 31, 32, 33, 34,\n",
       "       35, 36, 37, 38, 39, 40, 41, 42, 43, 44])"
      ]
     },
     "execution_count": 15,
     "metadata": {},
     "output_type": "execute_result"
    }
   ],
   "source": [
    "# 1 ~ 45까지 가지\n",
    "array1 = np.arange(1, 45)\n",
    "array1"
   ]
  },
  {
   "cell_type": "code",
   "execution_count": 18,
   "id": "e779e8de",
   "metadata": {},
   "outputs": [
    {
     "data": {
      "text/plain": [
       "array([ 6,  7, 12, 17, 31, 36])"
      ]
     },
     "metadata": {},
     "output_type": "display_data"
    },
    {
     "data": {
      "text/plain": [
       "array([ 5, 10, 18, 26, 28, 32])"
      ]
     },
     "metadata": {},
     "output_type": "display_data"
    },
    {
     "data": {
      "text/plain": [
       "array([16, 25, 32, 34, 38, 40])"
      ]
     },
     "metadata": {},
     "output_type": "display_data"
    },
    {
     "data": {
      "text/plain": [
       "array([ 1, 12, 14, 29, 34, 39])"
      ]
     },
     "metadata": {},
     "output_type": "display_data"
    },
    {
     "data": {
      "text/plain": [
       "array([ 9, 12, 14, 25, 27, 44])"
      ]
     },
     "metadata": {},
     "output_type": "display_data"
    },
    {
     "data": {
      "text/plain": [
       "array([ 2,  4,  7, 29, 31, 41])"
      ]
     },
     "metadata": {},
     "output_type": "display_data"
    },
    {
     "data": {
      "text/plain": [
       "array([12, 23, 31, 34, 38, 41])"
      ]
     },
     "metadata": {},
     "output_type": "display_data"
    },
    {
     "data": {
      "text/plain": [
       "array([ 3,  4, 11, 29, 31, 39])"
      ]
     },
     "metadata": {},
     "output_type": "display_data"
    },
    {
     "data": {
      "text/plain": [
       "array([ 6, 13, 18, 27, 34, 36])"
      ]
     },
     "metadata": {},
     "output_type": "display_data"
    },
    {
     "data": {
      "text/plain": [
       "array([ 4,  8, 19, 20, 22, 41])"
      ]
     },
     "metadata": {},
     "output_type": "display_data"
    }
   ],
   "source": [
    "for _ in range(10):\n",
    "    array2 = np.random.permutation(array1)\n",
    "    array3 = array2[:6]\n",
    "    array3.sort()\n",
    "    display(array3)"
   ]
  },
  {
   "cell_type": "code",
   "execution_count": null,
   "id": "b2face36",
   "metadata": {},
   "outputs": [],
   "source": []
  }
 ],
 "metadata": {
  "kernelspec": {
   "display_name": "Python 3",
   "language": "python",
   "name": "python3"
  },
  "language_info": {
   "codemirror_mode": {
    "name": "ipython",
    "version": 3
   },
   "file_extension": ".py",
   "mimetype": "text/x-python",
   "name": "python",
   "nbconvert_exporter": "python",
   "pygments_lexer": "ipython3",
   "version": "3.8.8"
  }
 },
 "nbformat": 4,
 "nbformat_minor": 5
}
