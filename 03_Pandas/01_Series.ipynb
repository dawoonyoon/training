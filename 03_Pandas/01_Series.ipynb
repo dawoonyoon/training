{
 "cells": [
  {
   "cell_type": "markdown",
   "id": "cc9a8be0",
   "metadata": {},
   "source": [
    "### Series\n",
    "- 값과 행으로 구성된 1열 데이터\n",
    "- 특성 하나의 데이터"
   ]
  },
  {
   "cell_type": "markdown",
   "id": "68c21c0b",
   "metadata": {},
   "source": [
    "### 필요한 라이브러리 "
   ]
  },
  {
   "cell_type": "code",
   "execution_count": 1,
   "id": "46a70669",
   "metadata": {},
   "outputs": [],
   "source": [
    "import numpy as np\n",
    "import pandas as pd"
   ]
  },
  {
   "cell_type": "markdown",
   "id": "76686367",
   "metadata": {},
   "source": [
    "### Series 생성\n",
    "- Series는 list, tuple, ndarray로 생성할 수 있다. \n",
    "- list, tuple 인 경우에는 ndarray로 생성한 다음 관리한다. \n",
    "- ndarray 인 경우에는 해당 행렬 데이터를 관리한다. "
   ]
  },
  {
   "cell_type": "code",
   "execution_count": 3,
   "id": "eb8f1132",
   "metadata": {},
   "outputs": [
    {
     "name": "stdout",
     "output_type": "stream",
     "text": [
      "0    10\n",
      "1    20\n",
      "2    30\n",
      "3    40\n",
      "4    50\n",
      "dtype: int64\n"
     ]
    }
   ],
   "source": [
    "s1 = pd.Series([10, 20, 30, 40, 50])\n",
    "print(s1)\n",
    "# display(s1)"
   ]
  },
  {
   "cell_type": "markdown",
   "id": "a3691f10",
   "metadata": {},
   "source": [
    "### Series가 관리하는 데이터에 접근하기"
   ]
  },
  {
   "cell_type": "code",
   "execution_count": 4,
   "id": "76146049",
   "metadata": {},
   "outputs": [
    {
     "name": "stdout",
     "output_type": "stream",
     "text": [
      "10\n",
      "20\n",
      "30\n"
     ]
    }
   ],
   "source": [
    "print(s1[0])\n",
    "print(s1[1])\n",
    "print(s1[2])"
   ]
  },
  {
   "cell_type": "code",
   "execution_count": 5,
   "id": "9d63b3f5",
   "metadata": {},
   "outputs": [
    {
     "name": "stdout",
     "output_type": "stream",
     "text": [
      "<class 'numpy.ndarray'>\n",
      "[10 20 30 40 50]\n"
     ]
    }
   ],
   "source": [
    "# 관리하는 값들을 모두 가져온다. \n",
    "array1 = s1.values\n",
    "print(type(array1))\n",
    "print(array1)"
   ]
  },
  {
   "cell_type": "code",
   "execution_count": 6,
   "id": "bf122022",
   "metadata": {},
   "outputs": [
    {
     "name": "stdout",
     "output_type": "stream",
     "text": [
      "<class 'pandas.core.indexes.range.RangeIndex'>\n",
      "RangeIndex(start=0, stop=5, step=1)\n"
     ]
    }
   ],
   "source": [
    "# index를 추출한다. \n",
    "array2 = s1.index\n",
    "print(type(array2))\n",
    "print(array2)"
   ]
  },
  {
   "cell_type": "markdown",
   "id": "9d0a68b0",
   "metadata": {},
   "source": [
    "### index 지정하기\n",
    "- Series 생성시 index를 지정하지 않으면 0 부터 1씩 증가되는 값으로 지정된다.\n",
    "- index를 지정하고 싶다면 생성시 지정하거나 생성 후 필요할 때 지정할 수 있다."
   ]
  },
  {
   "cell_type": "code",
   "execution_count": 7,
   "id": "a1041807",
   "metadata": {},
   "outputs": [
    {
     "data": {
      "text/plain": [
       "0    1000\n",
       "1    2000\n",
       "2    3000\n",
       "dtype: int64"
      ]
     },
     "execution_count": 7,
     "metadata": {},
     "output_type": "execute_result"
    }
   ],
   "source": [
    "s1 = pd.Series([1000, 2000, 3000])\n",
    "s1"
   ]
  },
  {
   "cell_type": "code",
   "execution_count": 8,
   "id": "52499fdf",
   "metadata": {},
   "outputs": [
    {
     "data": {
      "text/plain": [
       "값1    1000\n",
       "값2    2000\n",
       "값3    3000\n",
       "dtype: int64"
      ]
     },
     "execution_count": 8,
     "metadata": {},
     "output_type": "execute_result"
    }
   ],
   "source": [
    "# 생성한 Series에 인덱스를 변경한다.\n",
    "# 새롭게 설정하는 인덱스의 갯수는 Series의 전체 행의 갯수와 일치해야 한다. \n",
    "s1.index = ['값1', '값2', '값3']\n",
    "s1"
   ]
  },
  {
   "cell_type": "code",
   "execution_count": 9,
   "id": "45dd9517",
   "metadata": {},
   "outputs": [
    {
     "data": {
      "text/plain": [
       "값1    1000\n",
       "값2    2000\n",
       "값3    3000\n",
       "dtype: int64"
      ]
     },
     "execution_count": 9,
     "metadata": {},
     "output_type": "execute_result"
    }
   ],
   "source": [
    "# 생성할 때 index를 지정한다. \n",
    "s2 = pd.Series([1000, 2000, 3000], index=['값1', '값2', '값3'])\n",
    "s2"
   ]
  },
  {
   "cell_type": "markdown",
   "id": "a53182db",
   "metadata": {},
   "source": [
    "### 값을 가져온다"
   ]
  },
  {
   "cell_type": "code",
   "execution_count": 10,
   "id": "f5828372",
   "metadata": {},
   "outputs": [
    {
     "data": {
      "text/plain": [
       "0    10\n",
       "1    20\n",
       "2    30\n",
       "3    40\n",
       "4    50\n",
       "dtype: int64"
      ]
     },
     "execution_count": 10,
     "metadata": {},
     "output_type": "execute_result"
    }
   ],
   "source": [
    "# 기본 index\n",
    "s1 = pd.Series([10, 20, 30, 40, 50])\n",
    "s1"
   ]
  },
  {
   "cell_type": "code",
   "execution_count": 11,
   "id": "c7470141",
   "metadata": {},
   "outputs": [
    {
     "name": "stdout",
     "output_type": "stream",
     "text": [
      "10\n",
      "20\n",
      "30\n"
     ]
    }
   ],
   "source": [
    "# index가 숫자로 되어 있을 경우 숫자를 지정하면 순서가 아닌\n",
    "# index 값을 통해 접근한다. \n",
    "print(s1[0])\n",
    "print(s1[1])\n",
    "print(s1[2])"
   ]
  },
  {
   "cell_type": "code",
   "execution_count": 12,
   "id": "33901038",
   "metadata": {},
   "outputs": [
    {
     "data": {
      "text/plain": [
       "3    10\n",
       "0    20\n",
       "4    30\n",
       "1    40\n",
       "2    50\n",
       "dtype: int64"
      ]
     },
     "execution_count": 12,
     "metadata": {},
     "output_type": "execute_result"
    }
   ],
   "source": [
    "s2 = pd.Series([10, 20, 30, 40, 50], index=[3, 0, 4, 1, 2])\n",
    "s2"
   ]
  },
  {
   "cell_type": "code",
   "execution_count": 13,
   "id": "c893ba66",
   "metadata": {},
   "outputs": [
    {
     "name": "stdout",
     "output_type": "stream",
     "text": [
      "20\n",
      "40\n",
      "50\n"
     ]
    }
   ],
   "source": [
    "# index를 지정하였더라도 숫자로 구성되어 있으면 []의 숫자는 순서가 아닌\n",
    "# index 값을 의미한다. \n",
    "print(s2[0])\n",
    "print(s2[1])\n",
    "print(s2[2])"
   ]
  },
  {
   "cell_type": "code",
   "execution_count": 15,
   "id": "12229e6a",
   "metadata": {},
   "outputs": [
    {
     "data": {
      "text/plain": [
       "값1    10\n",
       "값2    20\n",
       "값3    30\n",
       "값4    40\n",
       "값5    50\n",
       "dtype: int64"
      ]
     },
     "execution_count": 15,
     "metadata": {},
     "output_type": "execute_result"
    }
   ],
   "source": [
    "# index가 문자열인 Series\n",
    "a1 = ['값1', '값2', '값3', '값4', '값5']\n",
    "s3 = pd.Series([10, 20, 30, 40, 50], index=a1)\n",
    "s3"
   ]
  },
  {
   "cell_type": "code",
   "execution_count": 16,
   "id": "d2f17c60",
   "metadata": {},
   "outputs": [
    {
     "name": "stdout",
     "output_type": "stream",
     "text": [
      "10\n",
      "20\n",
      "30\n"
     ]
    }
   ],
   "source": [
    "print(s3['값1'])\n",
    "print(s3['값2'])\n",
    "print(s3['값3'])"
   ]
  },
  {
   "cell_type": "code",
   "execution_count": 17,
   "id": "c1192154",
   "metadata": {},
   "outputs": [
    {
     "name": "stdout",
     "output_type": "stream",
     "text": [
      "10\n",
      "20\n",
      "30\n"
     ]
    }
   ],
   "source": [
    "# index가 숫자가 아닌 Seires에 숫자를 통해 접근을 하게 되면 순서에 해당한다. \n",
    "# 0 부터 1씩 증가\n",
    "print(s3[0])\n",
    "print(s3[1])\n",
    "print(s3[2])"
   ]
  },
  {
   "cell_type": "markdown",
   "id": "5371b67e",
   "metadata": {},
   "source": [
    "### Series의 연산\n",
    "- Series는 내부적으로 1차원 ndarray를 관리하기 때문에 연산 등의 작업은 ndarray와 동일하다."
   ]
  },
  {
   "cell_type": "code",
   "execution_count": 26,
   "id": "e859f90b",
   "metadata": {},
   "outputs": [],
   "source": [
    "s1 = pd.Series([10, 20, 30, 40, 50])\n",
    "s2 = pd.Series([1, 2, 3, 4, 5])"
   ]
  },
  {
   "cell_type": "code",
   "execution_count": 27,
   "id": "6fb71a89",
   "metadata": {},
   "outputs": [
    {
     "name": "stdout",
     "output_type": "stream",
     "text": [
      "0    11\n",
      "1    22\n",
      "2    33\n",
      "3    44\n",
      "4    55\n",
      "dtype: int64\n",
      "0     9\n",
      "1    18\n",
      "2    27\n",
      "3    36\n",
      "4    45\n",
      "dtype: int64\n",
      "0     10\n",
      "1     40\n",
      "2     90\n",
      "3    160\n",
      "4    250\n",
      "dtype: int64\n",
      "0    10\n",
      "1    10\n",
      "2    10\n",
      "3    10\n",
      "4    10\n",
      "dtype: int64\n"
     ]
    }
   ],
   "source": [
    "# Series와 Series의 연산\n",
    "# 각 Series의 데이터를 1:1 매칭하여 연산을 한다. \n",
    "# 개수가 다르면 NaN 값을 결과값으로 설정한다. \n",
    "s10 = s1 + s2\n",
    "s11 = s1 - s2\n",
    "s12 = s1 * s2\n",
    "s13 = s1 // s2\n",
    "\n",
    "print(s10)\n",
    "print(s11)\n",
    "print(s12)\n",
    "print(s13)"
   ]
  },
  {
   "cell_type": "code",
   "execution_count": 28,
   "id": "81a18e60",
   "metadata": {},
   "outputs": [
    {
     "data": {
      "text/plain": [
       "0    11.0\n",
       "1    22.0\n",
       "2    33.0\n",
       "3     NaN\n",
       "dtype: float64"
      ]
     },
     "execution_count": 28,
     "metadata": {},
     "output_type": "execute_result"
    }
   ],
   "source": [
    "# 갯수가 다른 두 Series의 연산\n",
    "# Pandas는 연산이 성립하지 않는 상황이라면, 오류가 발생하는 것이 아니라 \n",
    "# NaN이라는 값을 결과로 결정한다. \n",
    "# NaN : Not a Number. 결측치를 의미하는 값이다. \n",
    "# 결측치 : 츠겆ㅇ의 되지 않는 값. 값이 비어있는 공간\n",
    "a100 = pd.Series([1, 2, 3])\n",
    "a200 = pd.Series([10, 20, 30, 40])\n",
    "\n",
    "a100 + a200"
   ]
  },
  {
   "cell_type": "code",
   "execution_count": 29,
   "id": "42261d9b",
   "metadata": {},
   "outputs": [
    {
     "name": "stdout",
     "output_type": "stream",
     "text": [
      "0    20\n",
      "1    30\n",
      "2    40\n",
      "3    50\n",
      "4    60\n",
      "dtype: int64\n",
      "0     0\n",
      "1    10\n",
      "2    20\n",
      "3    30\n",
      "4    40\n",
      "dtype: int64\n",
      "0    100\n",
      "1    200\n",
      "2    300\n",
      "3    400\n",
      "4    500\n",
      "dtype: int64\n",
      "0    1\n",
      "1    2\n",
      "2    3\n",
      "3    4\n",
      "4    5\n",
      "dtype: int64\n"
     ]
    }
   ],
   "source": [
    "# Series와 특정 값의 계산\n",
    "s20 = s1 + 10\n",
    "s21 = s1 - 10\n",
    "s22 = s1 * 10\n",
    "s23 = s1 // 10\n",
    "\n",
    "print(s20)\n",
    "print(s21)\n",
    "print(s22)\n",
    "print(s23)"
   ]
  },
  {
   "cell_type": "code",
   "execution_count": 30,
   "id": "dc944cf2",
   "metadata": {},
   "outputs": [
    {
     "data": {
      "text/plain": [
       "0    False\n",
       "1    False\n",
       "2    False\n",
       "3     True\n",
       "4     True\n",
       "dtype: bool"
      ]
     },
     "execution_count": 30,
     "metadata": {},
     "output_type": "execute_result"
    }
   ],
   "source": [
    "r1 = s1 > 30 \n",
    "r1"
   ]
  },
  {
   "cell_type": "markdown",
   "id": "b0d330dd",
   "metadata": {},
   "source": [
    "### slicing"
   ]
  },
  {
   "cell_type": "code",
   "execution_count": 31,
   "id": "40bf821f",
   "metadata": {},
   "outputs": [
    {
     "data": {
      "text/plain": [
       "a1    10\n",
       "a2    20\n",
       "a3    30\n",
       "a4    40\n",
       "a5    50\n",
       "dtype: int64"
      ]
     },
     "execution_count": 31,
     "metadata": {},
     "output_type": "execute_result"
    }
   ],
   "source": [
    "s1 = pd.Series([10, 20, 30, 40, 50], index=['a1', 'a2', 'a3', 'a4', 'a5'])\n",
    "s1"
   ]
  },
  {
   "cell_type": "code",
   "execution_count": 32,
   "id": "9fa58a95",
   "metadata": {},
   "outputs": [
    {
     "data": {
      "text/plain": [
       "a2    20\n",
       "a3    30\n",
       "a4    40\n",
       "dtype: int64"
      ]
     },
     "execution_count": 32,
     "metadata": {},
     "output_type": "execute_result"
    }
   ],
   "source": [
    "# s2 ~ s4까지\n",
    "s2 = s1['a2' : 'a4']\n",
    "s2"
   ]
  },
  {
   "cell_type": "code",
   "execution_count": 33,
   "id": "0733d010",
   "metadata": {},
   "outputs": [
    {
     "data": {
      "text/plain": [
       "a2    20\n",
       "a3    30\n",
       "a4    40\n",
       "dtype: int64"
      ]
     },
     "execution_count": 33,
     "metadata": {},
     "output_type": "execute_result"
    }
   ],
   "source": [
    "# 순서 1 ~ 4 -1 까지\n",
    "s3 = s1[1:4]\n",
    "s3"
   ]
  },
  {
   "cell_type": "code",
   "execution_count": 34,
   "id": "908fdf8c",
   "metadata": {},
   "outputs": [
    {
     "data": {
      "text/plain": [
       "a1    10\n",
       "a3    30\n",
       "a5    50\n",
       "dtype: int64"
      ]
     },
     "execution_count": 34,
     "metadata": {},
     "output_type": "execute_result"
    }
   ],
   "source": [
    "# a1, a3, a5만 가져온다. \n",
    "# 원하는 것만 골라서 가져온다. \n",
    "s4 = s1[['a1', 'a3', 'a5']]\n",
    "s4"
   ]
  },
  {
   "cell_type": "code",
   "execution_count": 36,
   "id": "e0a97a2a",
   "metadata": {},
   "outputs": [
    {
     "data": {
      "text/plain": [
       "a1    10\n",
       "a3    30\n",
       "a5    50\n",
       "dtype: int64"
      ]
     },
     "execution_count": 36,
     "metadata": {},
     "output_type": "execute_result"
    }
   ],
   "source": [
    "# 순서 index\n",
    "# 0, 2, 4\n",
    "s5 = s1[[0, 2, 4]]\n",
    "s5"
   ]
  },
  {
   "cell_type": "code",
   "execution_count": 37,
   "id": "b4740804",
   "metadata": {},
   "outputs": [
    {
     "data": {
      "text/plain": [
       "a1    10\n",
       "a3    30\n",
       "a5    50\n",
       "dtype: int64"
      ]
     },
     "execution_count": 37,
     "metadata": {},
     "output_type": "execute_result"
    }
   ],
   "source": [
    "# True나 False를 넣으면 True 자리에 해당하는 것만 추출한다. \n",
    "# 단, 데이터의 개수와 일치해야 한다. \n",
    "s6 = s1[[True, False, True, False, True]]\n",
    "s6"
   ]
  },
  {
   "cell_type": "code",
   "execution_count": 38,
   "id": "e64a483b",
   "metadata": {},
   "outputs": [
    {
     "data": {
      "text/plain": [
       "a1    False\n",
       "a2    False\n",
       "a3    False\n",
       "a4     True\n",
       "a5     True\n",
       "dtype: bool"
      ]
     },
     "execution_count": 38,
     "metadata": {},
     "output_type": "execute_result"
    }
   ],
   "source": [
    "# 조건에 따라 가져온다\n",
    "s7 = s1 > 30\n",
    "s7"
   ]
  },
  {
   "cell_type": "code",
   "execution_count": 39,
   "id": "506123d2",
   "metadata": {},
   "outputs": [
    {
     "data": {
      "text/plain": [
       "a4    40\n",
       "a5    50\n",
       "dtype: int64"
      ]
     },
     "execution_count": 39,
     "metadata": {},
     "output_type": "execute_result"
    }
   ],
   "source": [
    "s8 = s1[s7]\n",
    "s8"
   ]
  },
  {
   "cell_type": "code",
   "execution_count": 41,
   "id": "c407573f",
   "metadata": {},
   "outputs": [
    {
     "data": {
      "text/plain": [
       "a4    40\n",
       "a5    50\n",
       "dtype: int64"
      ]
     },
     "execution_count": 41,
     "metadata": {},
     "output_type": "execute_result"
    }
   ],
   "source": [
    "s9 = s1[s1 > 30]\n",
    "s9"
   ]
  }
 ],
 "metadata": {
  "kernelspec": {
   "display_name": "Python 3",
   "language": "python",
   "name": "python3"
  },
  "language_info": {
   "codemirror_mode": {
    "name": "ipython",
    "version": 3
   },
   "file_extension": ".py",
   "mimetype": "text/x-python",
   "name": "python",
   "nbconvert_exporter": "python",
   "pygments_lexer": "ipython3",
   "version": "3.8.8"
  }
 },
 "nbformat": 4,
 "nbformat_minor": 5
}
