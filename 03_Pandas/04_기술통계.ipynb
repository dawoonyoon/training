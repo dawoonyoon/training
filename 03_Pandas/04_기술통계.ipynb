{
 "cells": [
  {
   "cell_type": "markdown",
   "id": "038b4d40",
   "metadata": {},
   "source": [
    "### 자료를 그래프나 숫자 등으로 요약하는 통계적 행위를 의미한다"
   ]
  },
  {
   "cell_type": "code",
   "execution_count": 1,
   "id": "a4a66585",
   "metadata": {},
   "outputs": [],
   "source": [
    "import pandas as pd\n",
    "import numpy as np\n",
    "import matplotlib.pyplot as plt"
   ]
  },
  {
   "cell_type": "code",
   "execution_count": 2,
   "id": "c6b01e63",
   "metadata": {},
   "outputs": [
    {
     "data": {
      "text/html": [
       "<div>\n",
       "<style scoped>\n",
       "    .dataframe tbody tr th:only-of-type {\n",
       "        vertical-align: middle;\n",
       "    }\n",
       "\n",
       "    .dataframe tbody tr th {\n",
       "        vertical-align: top;\n",
       "    }\n",
       "\n",
       "    .dataframe thead th {\n",
       "        text-align: right;\n",
       "    }\n",
       "</style>\n",
       "<table border=\"1\" class=\"dataframe\">\n",
       "  <thead>\n",
       "    <tr style=\"text-align: right;\">\n",
       "      <th></th>\n",
       "      <th>국어</th>\n",
       "      <th>영어</th>\n",
       "      <th>수학</th>\n",
       "      <th>과학</th>\n",
       "    </tr>\n",
       "    <tr>\n",
       "      <th>이름</th>\n",
       "      <th></th>\n",
       "      <th></th>\n",
       "      <th></th>\n",
       "      <th></th>\n",
       "    </tr>\n",
       "  </thead>\n",
       "  <tbody>\n",
       "    <tr>\n",
       "      <th>철수</th>\n",
       "      <td>98</td>\n",
       "      <td>NaN</td>\n",
       "      <td>88.0</td>\n",
       "      <td>64.0</td>\n",
       "    </tr>\n",
       "    <tr>\n",
       "      <th>영희</th>\n",
       "      <td>88</td>\n",
       "      <td>90.0</td>\n",
       "      <td>62.0</td>\n",
       "      <td>72.0</td>\n",
       "    </tr>\n",
       "    <tr>\n",
       "      <th>민수</th>\n",
       "      <td>92</td>\n",
       "      <td>70.0</td>\n",
       "      <td>NaN</td>\n",
       "      <td>NaN</td>\n",
       "    </tr>\n",
       "    <tr>\n",
       "      <th>수현</th>\n",
       "      <td>63</td>\n",
       "      <td>60.0</td>\n",
       "      <td>31.0</td>\n",
       "      <td>70.0</td>\n",
       "    </tr>\n",
       "    <tr>\n",
       "      <th>호영</th>\n",
       "      <td>120</td>\n",
       "      <td>50.0</td>\n",
       "      <td>NaN</td>\n",
       "      <td>88.0</td>\n",
       "    </tr>\n",
       "  </tbody>\n",
       "</table>\n",
       "</div>"
      ],
      "text/plain": [
       "     국어    영어    수학    과학\n",
       "이름                       \n",
       "철수   98   NaN  88.0  64.0\n",
       "영희   88  90.0  62.0  72.0\n",
       "민수   92  70.0   NaN   NaN\n",
       "수현   63  60.0  31.0  70.0\n",
       "호영  120  50.0   NaN  88.0"
      ]
     },
     "execution_count": 2,
     "metadata": {},
     "output_type": "execute_result"
    }
   ],
   "source": [
    "df1 = pd.read_csv('data/grade.csv', encoding='euc-kr')\n",
    "df1.set_index('이름', inplace=True)\n",
    "df1.drop(['성별', '학년'], axis=1, inplace=True)\n",
    "df1"
   ]
  },
  {
   "cell_type": "markdown",
   "id": "2e30b6c0",
   "metadata": {},
   "source": [
    "### 요약 통계 정보\n",
    "- count : 결측치를 제외한 데이터의 갯수\n",
    "- mean : 결측치를 제외한 데이터의 평균\n",
    "- min : 최소값\n",
    "- std : 표준편차\n",
    "- 25% : 25% 위치 값\n",
    "- 50% : 50% 위치 값\n",
    "- 75% : 75% 위치 값\n",
    "- max : 최대값"
   ]
  },
  {
   "cell_type": "code",
   "execution_count": 3,
   "id": "29e31fab",
   "metadata": {},
   "outputs": [
    {
     "data": {
      "text/html": [
       "<div>\n",
       "<style scoped>\n",
       "    .dataframe tbody tr th:only-of-type {\n",
       "        vertical-align: middle;\n",
       "    }\n",
       "\n",
       "    .dataframe tbody tr th {\n",
       "        vertical-align: top;\n",
       "    }\n",
       "\n",
       "    .dataframe thead th {\n",
       "        text-align: right;\n",
       "    }\n",
       "</style>\n",
       "<table border=\"1\" class=\"dataframe\">\n",
       "  <thead>\n",
       "    <tr style=\"text-align: right;\">\n",
       "      <th></th>\n",
       "      <th>국어</th>\n",
       "      <th>영어</th>\n",
       "      <th>수학</th>\n",
       "      <th>과학</th>\n",
       "    </tr>\n",
       "  </thead>\n",
       "  <tbody>\n",
       "    <tr>\n",
       "      <th>count</th>\n",
       "      <td>5.000000</td>\n",
       "      <td>4.000000</td>\n",
       "      <td>3.000000</td>\n",
       "      <td>4.000000</td>\n",
       "    </tr>\n",
       "    <tr>\n",
       "      <th>mean</th>\n",
       "      <td>92.200000</td>\n",
       "      <td>67.500000</td>\n",
       "      <td>60.333333</td>\n",
       "      <td>73.500000</td>\n",
       "    </tr>\n",
       "    <tr>\n",
       "      <th>std</th>\n",
       "      <td>20.474374</td>\n",
       "      <td>17.078251</td>\n",
       "      <td>28.536526</td>\n",
       "      <td>10.246951</td>\n",
       "    </tr>\n",
       "    <tr>\n",
       "      <th>min</th>\n",
       "      <td>63.000000</td>\n",
       "      <td>50.000000</td>\n",
       "      <td>31.000000</td>\n",
       "      <td>64.000000</td>\n",
       "    </tr>\n",
       "    <tr>\n",
       "      <th>25%</th>\n",
       "      <td>88.000000</td>\n",
       "      <td>57.500000</td>\n",
       "      <td>46.500000</td>\n",
       "      <td>68.500000</td>\n",
       "    </tr>\n",
       "    <tr>\n",
       "      <th>50%</th>\n",
       "      <td>92.000000</td>\n",
       "      <td>65.000000</td>\n",
       "      <td>62.000000</td>\n",
       "      <td>71.000000</td>\n",
       "    </tr>\n",
       "    <tr>\n",
       "      <th>75%</th>\n",
       "      <td>98.000000</td>\n",
       "      <td>75.000000</td>\n",
       "      <td>75.000000</td>\n",
       "      <td>76.000000</td>\n",
       "    </tr>\n",
       "    <tr>\n",
       "      <th>max</th>\n",
       "      <td>120.000000</td>\n",
       "      <td>90.000000</td>\n",
       "      <td>88.000000</td>\n",
       "      <td>88.000000</td>\n",
       "    </tr>\n",
       "  </tbody>\n",
       "</table>\n",
       "</div>"
      ],
      "text/plain": [
       "               국어         영어         수학         과학\n",
       "count    5.000000   4.000000   3.000000   4.000000\n",
       "mean    92.200000  67.500000  60.333333  73.500000\n",
       "std     20.474374  17.078251  28.536526  10.246951\n",
       "min     63.000000  50.000000  31.000000  64.000000\n",
       "25%     88.000000  57.500000  46.500000  68.500000\n",
       "50%     92.000000  65.000000  62.000000  71.000000\n",
       "75%     98.000000  75.000000  75.000000  76.000000\n",
       "max    120.000000  90.000000  88.000000  88.000000"
      ]
     },
     "execution_count": 3,
     "metadata": {},
     "output_type": "execute_result"
    }
   ],
   "source": [
    "df1.describe()"
   ]
  },
  {
   "cell_type": "code",
   "execution_count": 4,
   "id": "9e5dbb2c",
   "metadata": {},
   "outputs": [
    {
     "data": {
      "text/plain": [
       "count      5.000000\n",
       "mean      92.200000\n",
       "std       20.474374\n",
       "min       63.000000\n",
       "25%       88.000000\n",
       "50%       92.000000\n",
       "75%       98.000000\n",
       "max      120.000000\n",
       "Name: 국어, dtype: float64"
      ]
     },
     "execution_count": 4,
     "metadata": {},
     "output_type": "execute_result"
    }
   ],
   "source": [
    "# 특정 열에 대한 요약 통계 정보\n",
    "df1['국어'].describe()"
   ]
  },
  {
   "cell_type": "markdown",
   "id": "1a430b8e",
   "metadata": {},
   "source": [
    "### 통계 함수"
   ]
  },
  {
   "cell_type": "code",
   "execution_count": 5,
   "id": "f6628bed",
   "metadata": {},
   "outputs": [
    {
     "data": {
      "text/plain": [
       "국어    5\n",
       "영어    4\n",
       "수학    3\n",
       "과학    4\n",
       "dtype: int64"
      ]
     },
     "execution_count": 5,
     "metadata": {},
     "output_type": "execute_result"
    }
   ],
   "source": [
    "# 결측치를 제외한 데이터의 갯수\n",
    "df1.count()"
   ]
  },
  {
   "cell_type": "code",
   "execution_count": 6,
   "id": "20131424",
   "metadata": {},
   "outputs": [
    {
     "data": {
      "text/plain": [
       "국어    92.200000\n",
       "영어    67.500000\n",
       "수학    60.333333\n",
       "과학    73.500000\n",
       "dtype: float64"
      ]
     },
     "execution_count": 6,
     "metadata": {},
     "output_type": "execute_result"
    }
   ],
   "source": [
    "# 결측치를 제외한 평균\n",
    "df1.mean()"
   ]
  },
  {
   "cell_type": "code",
   "execution_count": 7,
   "id": "5a831432",
   "metadata": {},
   "outputs": [
    {
     "data": {
      "text/html": [
       "<div>\n",
       "<style scoped>\n",
       "    .dataframe tbody tr th:only-of-type {\n",
       "        vertical-align: middle;\n",
       "    }\n",
       "\n",
       "    .dataframe tbody tr th {\n",
       "        vertical-align: top;\n",
       "    }\n",
       "\n",
       "    .dataframe thead th {\n",
       "        text-align: right;\n",
       "    }\n",
       "</style>\n",
       "<table border=\"1\" class=\"dataframe\">\n",
       "  <thead>\n",
       "    <tr style=\"text-align: right;\">\n",
       "      <th></th>\n",
       "      <th>국어</th>\n",
       "      <th>영어</th>\n",
       "      <th>수학</th>\n",
       "      <th>과학</th>\n",
       "    </tr>\n",
       "    <tr>\n",
       "      <th>이름</th>\n",
       "      <th></th>\n",
       "      <th></th>\n",
       "      <th></th>\n",
       "      <th></th>\n",
       "    </tr>\n",
       "  </thead>\n",
       "  <tbody>\n",
       "    <tr>\n",
       "      <th>철수</th>\n",
       "      <td>98</td>\n",
       "      <td>NaN</td>\n",
       "      <td>88.0</td>\n",
       "      <td>64.0</td>\n",
       "    </tr>\n",
       "    <tr>\n",
       "      <th>영희</th>\n",
       "      <td>88</td>\n",
       "      <td>90.0</td>\n",
       "      <td>62.0</td>\n",
       "      <td>72.0</td>\n",
       "    </tr>\n",
       "    <tr>\n",
       "      <th>민수</th>\n",
       "      <td>92</td>\n",
       "      <td>70.0</td>\n",
       "      <td>NaN</td>\n",
       "      <td>NaN</td>\n",
       "    </tr>\n",
       "    <tr>\n",
       "      <th>수현</th>\n",
       "      <td>63</td>\n",
       "      <td>60.0</td>\n",
       "      <td>31.0</td>\n",
       "      <td>70.0</td>\n",
       "    </tr>\n",
       "    <tr>\n",
       "      <th>호영</th>\n",
       "      <td>120</td>\n",
       "      <td>50.0</td>\n",
       "      <td>NaN</td>\n",
       "      <td>88.0</td>\n",
       "    </tr>\n",
       "  </tbody>\n",
       "</table>\n",
       "</div>"
      ],
      "text/plain": [
       "     국어    영어    수학    과학\n",
       "이름                       \n",
       "철수   98   NaN  88.0  64.0\n",
       "영희   88  90.0  62.0  72.0\n",
       "민수   92  70.0   NaN   NaN\n",
       "수현   63  60.0  31.0  70.0\n",
       "호영  120  50.0   NaN  88.0"
      ]
     },
     "execution_count": 7,
     "metadata": {},
     "output_type": "execute_result"
    }
   ],
   "source": [
    "df1"
   ]
  },
  {
   "cell_type": "code",
   "execution_count": 8,
   "id": "cbb4dc2e",
   "metadata": {},
   "outputs": [
    {
     "data": {
      "text/plain": [
       "국어    63.0\n",
       "영어    50.0\n",
       "수학    31.0\n",
       "과학    64.0\n",
       "dtype: float64"
      ]
     },
     "metadata": {},
     "output_type": "display_data"
    },
    {
     "data": {
      "text/plain": [
       "국어    120.0\n",
       "영어     90.0\n",
       "수학     88.0\n",
       "과학     88.0\n",
       "dtype: float64"
      ]
     },
     "metadata": {},
     "output_type": "display_data"
    }
   ],
   "source": [
    "# 결측치를 제외한 최대, 최소\n",
    "display(df1.min())\n",
    "display(df1.max())"
   ]
  },
  {
   "cell_type": "code",
   "execution_count": 9,
   "id": "de1cb210",
   "metadata": {},
   "outputs": [
    {
     "data": {
      "text/plain": [
       "국어    20.474374\n",
       "영어    17.078251\n",
       "수학    28.536526\n",
       "과학    10.246951\n",
       "dtype: float64"
      ]
     },
     "metadata": {},
     "output_type": "display_data"
    },
    {
     "data": {
      "text/plain": [
       "국어    419.200000\n",
       "영어    291.666667\n",
       "수학    814.333333\n",
       "과학    105.000000\n",
       "dtype: float64"
      ]
     },
     "metadata": {},
     "output_type": "display_data"
    }
   ],
   "source": [
    "# 표준편차와 분산\n",
    "display(df1.std())\n",
    "display(df1.var())"
   ]
  },
  {
   "cell_type": "code",
   "execution_count": 11,
   "id": "8aeaeb86",
   "metadata": {},
   "outputs": [
    {
     "data": {
      "text/plain": [
       "국어    92.0\n",
       "영어    65.0\n",
       "수학    62.0\n",
       "과학    71.0\n",
       "Name: 0.5, dtype: float64"
      ]
     },
     "execution_count": 11,
     "metadata": {},
     "output_type": "execute_result"
    }
   ],
   "source": [
    "# 50% 위치 값\n",
    "df1.quantile()"
   ]
  },
  {
   "cell_type": "code",
   "execution_count": 12,
   "id": "e1abc6d8",
   "metadata": {},
   "outputs": [
    {
     "data": {
      "text/plain": [
       "국어    92.0\n",
       "영어    65.0\n",
       "수학    62.0\n",
       "과학    71.0\n",
       "dtype: float64"
      ]
     },
     "execution_count": 12,
     "metadata": {},
     "output_type": "execute_result"
    }
   ],
   "source": [
    "# 중간값\n",
    "df1.median()"
   ]
  },
  {
   "cell_type": "code",
   "execution_count": 13,
   "id": "968a6432",
   "metadata": {},
   "outputs": [
    {
     "data": {
      "text/plain": [
       "국어    73.0\n",
       "영어    53.0\n",
       "수학    37.2\n",
       "과학    65.8\n",
       "Name: 0.1, dtype: float64"
      ]
     },
     "execution_count": 13,
     "metadata": {},
     "output_type": "execute_result"
    }
   ],
   "source": [
    "# 10% 위치 값\n",
    "df1.quantile(q=0.1)"
   ]
  },
  {
   "cell_type": "markdown",
   "id": "a49a6cff",
   "metadata": {},
   "source": [
    "### box plot\n",
    "- 요약 통계 정보를 그래프로 표현한 것. 1 ~ 3분위 구간, 극단치 경계, 극단치 존재 여부를 파악하는데 도움이 된다.\n",
    "- 개념적인 이상치 : 사회 통념상 이상한 데이터들\n",
    "- 통계학적 이상치 : 극단치 \n",
    "- 극단치 : 상하위 0.3% 값이나 표준편차가 +- 3 이상되는 값들"
   ]
  },
  {
   "cell_type": "code",
   "execution_count": 15,
   "id": "a1dbaf3f",
   "metadata": {},
   "outputs": [
    {
     "data": {
      "image/png": "[encoded data removed]",
      "text/plain": [
       "<Figure size 432x288 with 1 Axes>"
      ]
     },
     "metadata": {
      "needs_background": "light"
     },
     "output_type": "display_data"
    }
   ],
   "source": [
    "plt.rcParams['font.family'] = 'Malgun Gothic'\n",
    "# plt.rcParams['font.family'] = 'AppleGothic'\n",
    "\n",
    "df1.boxplot()\n",
    "plt.show()"
   ]
  },
  {
   "cell_type": "markdown",
   "id": "bca39513",
   "metadata": {},
   "source": [
    "<img src='image/1.png'/>"
   ]
  },
  {
   "cell_type": "code",
   "execution_count": null,
   "id": "01b29202",
   "metadata": {},
   "outputs": [],
   "source": [
    " "
   ]
  }
 ],
 "metadata": {
  "kernelspec": {
   "display_name": "Python 3",
   "language": "python",
   "name": "python3"
  },
  "language_info": {
   "codemirror_mode": {
    "name": "ipython",
    "version": 3
   },
   "file_extension": ".py",
   "mimetype": "text/x-python",
   "name": "python",
   "nbconvert_exporter": "python",
   "pygments_lexer": "ipython3",
   "version": "3.8.8"
  }
 },
 "nbformat": 4,
 "nbformat_minor": 5
}
