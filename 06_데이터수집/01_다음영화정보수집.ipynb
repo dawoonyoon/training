{
 "cells": [
  {
   "cell_type": "code",
   "execution_count": 1,
   "id": "79cd227e",
   "metadata": {},
   "outputs": [],
   "source": [
    "from selenium import webdriver\n",
    "import requests\n",
    "import time\n",
    "import pandas as pd\n",
    "from IPython.display import clear_output"
   ]
  },
  {
   "cell_type": "code",
   "execution_count": 2,
   "id": "191e4320",
   "metadata": {},
   "outputs": [],
   "source": [
    "# webdriver 실행\n",
    "driver = webdriver.Chrome('chromedriver')"
   ]
  },
  {
   "cell_type": "code",
   "execution_count": 3,
   "id": "aca9d2a6",
   "metadata": {},
   "outputs": [],
   "source": [
    "# 다음 영화 사이트 접속\n",
    "site = 'https://movie.daum.net/premovie/theater'\n",
    "time.sleep(1)\n",
    "driver.get(site)"
   ]
  },
  {
   "cell_type": "code",
   "execution_count": 4,
   "id": "89e5cfff",
   "metadata": {},
   "outputs": [],
   "source": [
    "# 스크롤:\n",
    "for idx in range(10):\n",
    "    time.sleep(1)\n",
    "    script = 'window.scrollTo(0, document.body.scrollHeight)'\n",
    "    driver.execute_script(script)"
   ]
  },
  {
   "cell_type": "code",
   "execution_count": 5,
   "id": "31fc7881",
   "metadata": {
    "scrolled": true
   },
   "outputs": [
    {
     "data": {
      "text/plain": [
       "[<selenium.webdriver.remote.webelement.WebElement (session=\"26c74ee5f1407428b23ba1d7b9e34b59\", element=\"8ff707c4-50cd-495f-82f8-86ccc3a32aa1\")>]"
      ]
     },
     "execution_count": 5,
     "metadata": {},
     "output_type": "execute_result"
    }
   ],
   "source": [
    "# 영화 전체 목록 가져오기\n",
    "a1 = driver.find_elements_by_css_selector('#mainContent > div > div.box_movie > ol')\n",
    "a1"
   ]
  },
  {
   "cell_type": "code",
   "execution_count": 6,
   "id": "11659646",
   "metadata": {
    "scrolled": true
   },
   "outputs": [
    {
     "data": {
      "text/plain": [
       "[<selenium.webdriver.remote.webelement.WebElement (session=\"26c74ee5f1407428b23ba1d7b9e34b59\", element=\"9ab43d24-aa44-41a3-bff8-8866e72fa028\")>,\n",
       " <selenium.webdriver.remote.webelement.WebElement (session=\"26c74ee5f1407428b23ba1d7b9e34b59\", element=\"5810918c-5d5a-4ad3-b0fe-4cc4c699329b\")>,\n",
       " <selenium.webdriver.remote.webelement.WebElement (session=\"26c74ee5f1407428b23ba1d7b9e34b59\", element=\"857b75d3-1b93-491d-9212-e884f8dff356\")>,\n",
       " <selenium.webdriver.remote.webelement.WebElement (session=\"26c74ee5f1407428b23ba1d7b9e34b59\", element=\"44797556-9a45-4fe8-b0b8-2f58461af2f9\")>,\n",
       " <selenium.webdriver.remote.webelement.WebElement (session=\"26c74ee5f1407428b23ba1d7b9e34b59\", element=\"c96888ad-67f4-465e-aca4-5f0ea9194641\")>,\n",
       " <selenium.webdriver.remote.webelement.WebElement (session=\"26c74ee5f1407428b23ba1d7b9e34b59\", element=\"7b8d0943-f09d-44ba-8b13-3de36fcff04e\")>,\n",
       " <selenium.webdriver.remote.webelement.WebElement (session=\"26c74ee5f1407428b23ba1d7b9e34b59\", element=\"198f3c7d-9ea8-459a-b498-d83c6a93d987\")>,\n",
       " <selenium.webdriver.remote.webelement.WebElement (session=\"26c74ee5f1407428b23ba1d7b9e34b59\", element=\"323d0176-3251-4439-b9e7-9c513f6b5e19\")>,\n",
       " <selenium.webdriver.remote.webelement.WebElement (session=\"26c74ee5f1407428b23ba1d7b9e34b59\", element=\"180d61cf-17bb-455d-88f0-a25e531ecc20\")>,\n",
       " <selenium.webdriver.remote.webelement.WebElement (session=\"26c74ee5f1407428b23ba1d7b9e34b59\", element=\"29a77ed4-97bc-4ecc-b18f-f6b0ec337fb5\")>,\n",
       " <selenium.webdriver.remote.webelement.WebElement (session=\"26c74ee5f1407428b23ba1d7b9e34b59\", element=\"4bce782d-0fbf-4488-b182-48c50cccdec6\")>,\n",
       " <selenium.webdriver.remote.webelement.WebElement (session=\"26c74ee5f1407428b23ba1d7b9e34b59\", element=\"3f6b0aee-e26e-4f69-99c9-91b1c8689e27\")>,\n",
       " <selenium.webdriver.remote.webelement.WebElement (session=\"26c74ee5f1407428b23ba1d7b9e34b59\", element=\"c6ea171a-06d2-4774-a2f5-fed3f6f50de5\")>,\n",
       " <selenium.webdriver.remote.webelement.WebElement (session=\"26c74ee5f1407428b23ba1d7b9e34b59\", element=\"7175d3c6-2617-4639-a843-cc70d611d03d\")>,\n",
       " <selenium.webdriver.remote.webelement.WebElement (session=\"26c74ee5f1407428b23ba1d7b9e34b59\", element=\"5d0fe654-bbd3-41bc-9cbb-40966fc06a77\")>,\n",
       " <selenium.webdriver.remote.webelement.WebElement (session=\"26c74ee5f1407428b23ba1d7b9e34b59\", element=\"c499036d-dba8-4e2f-9203-22fbae04d8ed\")>,\n",
       " <selenium.webdriver.remote.webelement.WebElement (session=\"26c74ee5f1407428b23ba1d7b9e34b59\", element=\"dd0f7a20-ee50-4d34-8c4e-7ad76d834c58\")>,\n",
       " <selenium.webdriver.remote.webelement.WebElement (session=\"26c74ee5f1407428b23ba1d7b9e34b59\", element=\"2deaee12-c485-4a8a-b293-6be8063e6a83\")>,\n",
       " <selenium.webdriver.remote.webelement.WebElement (session=\"26c74ee5f1407428b23ba1d7b9e34b59\", element=\"490a458c-1c98-4286-823f-4780a3f9871b\")>,\n",
       " <selenium.webdriver.remote.webelement.WebElement (session=\"26c74ee5f1407428b23ba1d7b9e34b59\", element=\"0ac5911a-55b5-483a-96b9-a18a19001dfc\")>,\n",
       " <selenium.webdriver.remote.webelement.WebElement (session=\"26c74ee5f1407428b23ba1d7b9e34b59\", element=\"12bd1cf9-b94a-4a54-b690-7cd67eae3f5d\")>,\n",
       " <selenium.webdriver.remote.webelement.WebElement (session=\"26c74ee5f1407428b23ba1d7b9e34b59\", element=\"0581b526-d239-4d2c-bc76-4025cdfc1266\")>,\n",
       " <selenium.webdriver.remote.webelement.WebElement (session=\"26c74ee5f1407428b23ba1d7b9e34b59\", element=\"6df9d79b-28b7-4e91-8261-5592116e17a6\")>,\n",
       " <selenium.webdriver.remote.webelement.WebElement (session=\"26c74ee5f1407428b23ba1d7b9e34b59\", element=\"73c0f52f-d568-4044-92cb-d397030e038c\")>,\n",
       " <selenium.webdriver.remote.webelement.WebElement (session=\"26c74ee5f1407428b23ba1d7b9e34b59\", element=\"e9350fc8-6e0e-491d-b6ba-b23c16ca2db3\")>,\n",
       " <selenium.webdriver.remote.webelement.WebElement (session=\"26c74ee5f1407428b23ba1d7b9e34b59\", element=\"d94062ea-3640-4ab0-ae0f-65e15c6c5923\")>,\n",
       " <selenium.webdriver.remote.webelement.WebElement (session=\"26c74ee5f1407428b23ba1d7b9e34b59\", element=\"02215d48-e0b9-4e50-a1f8-7a18d5095fe3\")>,\n",
       " <selenium.webdriver.remote.webelement.WebElement (session=\"26c74ee5f1407428b23ba1d7b9e34b59\", element=\"4188d17a-38b7-479d-83e3-d4303ff7b377\")>,\n",
       " <selenium.webdriver.remote.webelement.WebElement (session=\"26c74ee5f1407428b23ba1d7b9e34b59\", element=\"099e3f6b-6bbb-440d-99a8-6aa4a4ca6eb7\")>,\n",
       " <selenium.webdriver.remote.webelement.WebElement (session=\"26c74ee5f1407428b23ba1d7b9e34b59\", element=\"cc7d823e-365d-428d-bb38-59df1f2fb4d3\")>,\n",
       " <selenium.webdriver.remote.webelement.WebElement (session=\"26c74ee5f1407428b23ba1d7b9e34b59\", element=\"b8e27f85-4e60-497f-b833-4d3c1bcc66e0\")>,\n",
       " <selenium.webdriver.remote.webelement.WebElement (session=\"26c74ee5f1407428b23ba1d7b9e34b59\", element=\"a024291c-dd06-4af6-8c96-be5fff2d194e\")>,\n",
       " <selenium.webdriver.remote.webelement.WebElement (session=\"26c74ee5f1407428b23ba1d7b9e34b59\", element=\"0af4eb3f-1609-4cb2-84d7-1cbd9ac3f27c\")>,\n",
       " <selenium.webdriver.remote.webelement.WebElement (session=\"26c74ee5f1407428b23ba1d7b9e34b59\", element=\"d0306904-f1f4-45a1-a852-b26abd663f5a\")>]"
      ]
     },
     "execution_count": 6,
     "metadata": {},
     "output_type": "execute_result"
    }
   ],
   "source": [
    "# 영화 전체 목록에서 li tag 가져오기 \n",
    "li_list = a1[0].find_elements_by_css_selector('li')\n",
    "li_list"
   ]
  },
  {
   "cell_type": "code",
   "execution_count": 7,
   "id": "b9344519",
   "metadata": {
    "scrolled": true
   },
   "outputs": [
    {
     "name": "stdout",
     "output_type": "stream",
     "text": [
      "저장완료\n"
     ]
    }
   ],
   "source": [
    "# 데이터를 담을 딕셔너리 \n",
    "data_dict = {\n",
    "    '제목' : [],\n",
    "    '예매율' : [],\n",
    "    '평점' : [],\n",
    "    '개봉일' : []\n",
    "}\n",
    "\n",
    "# 영화의 수 만큼 반복\n",
    "for movie_tag in li_list:\n",
    "    # 영화 제목 가져오기\n",
    "    title_tag = movie_tag.find_element_by_css_selector('div > div.thumb_cont > strong > a')\n",
    "    title = title_tag.text.strip()\n",
    "    \n",
    "    # 평점\n",
    "    rating_tag = movie_tag.find_element_by_css_selector('div > div.thumb_cont > span.txt_append > span:nth-child(1) > span')\n",
    "    rating = rating_tag.text.strip()\n",
    "    \n",
    "    # 예매율\n",
    "    ticket_tag = movie_tag.find_element_by_css_selector('div > div.thumb_cont > span.txt_append > span:nth-child(2) > span')\n",
    "    ticket = ticket_tag.text.strip()\n",
    "    \n",
    "    # 개봉일\n",
    "    open_date_tag = movie_tag.find_element_by_css_selector('div > div.thumb_cont > span.txt_info > span')\n",
    "    open_date = open_date_tag.text.strip()\n",
    "    \n",
    "    # 영화 포스터\n",
    "    poster_tag = movie_tag.find_element_by_css_selector('div > div.thumb_item > div.poster_movie > img')\n",
    "    # src 속성의 값 가져오기\n",
    "    src_attr = poster_tag.get_attribute('src')\n",
    "#     print(src_attr)\n",
    "    \n",
    "    # 영화의 제목을 파일명으로 사용할 것이기 때문에\n",
    "    # os에서 거부하는 파일명을 정제한다\n",
    "    char_list = ['\\\\', '/', ':', '*', '?', '\"', '<', '>', '|']\n",
    "    \n",
    "    file_name = title\n",
    "\n",
    "    for c1 in char_list:\n",
    "        file_name = file_name.replace(c1, ' ')\n",
    "    \n",
    "    # 이미지 데이터 내려받기\n",
    "    img_res = requests.get(src_attr)\n",
    "    \n",
    "    # 저장! \n",
    "    with open(f'poster/{file_name}.jpg', 'wb') as fp:\n",
    "        fp.write(img_res.content)\n",
    "\n",
    "    \n",
    "#     print(title)\n",
    "#     print(rating)\n",
    "#     print(ticket[:-1])\n",
    "#     print(open_date)\n",
    "#     print('------------------------')\n",
    "\n",
    "    # 데이터 담기\n",
    "    data_dict['제목'].append(title)\n",
    "    data_dict['예매율'].append(ticket[:-1])\n",
    "    data_dict['평점'].append(rating)\n",
    "    data_dict['개봉일'].append(open_date)\n",
    "    \n",
    "# DataFrame 생성\n",
    "df1 = pd.DataFrame(data_dict)\n",
    "\n",
    "# 저장\n",
    "df1.to_csv('daum_movie.csv', encoding='utf-8-sig', index=False)\n",
    "print('저장완료')"
   ]
  },
  {
   "cell_type": "code",
   "execution_count": null,
   "id": "d9b79349",
   "metadata": {},
   "outputs": [],
   "source": []
  }
 ],
 "metadata": {
  "kernelspec": {
   "display_name": "Python 3",
   "language": "python",
   "name": "python3"
  },
  "language_info": {
   "codemirror_mode": {
    "name": "ipython",
    "version": 3
   },
   "file_extension": ".py",
   "mimetype": "text/x-python",
   "name": "python",
   "nbconvert_exporter": "python",
   "pygments_lexer": "ipython3",
   "version": "3.8.8"
  }
 },
 "nbformat": 4,
 "nbformat_minor": 5
}
