{
  "nbformat": 4,
  "nbformat_minor": 0,
  "metadata": {
    "colab": {
      "name": "DL_day#1.ipynb",
      "provenance": [],
      "collapsed_sections": [
        "v7x0Q6rCJwFs",
        "Y-UowC9fJ_X0",
        "9zOfikC5OH07",
        "GQdKo1RbOn_c",
        "5fDWmp4bTIAa",
        "GsMXHS2kT_7c",
        "jtLLkXkvWHyL"
      ]
    },
    "kernelspec": {
      "name": "python3",
      "display_name": "Python 3"
    },
    "language_info": {
      "name": "python"
    }
  },
  "cells": [
    {
      "cell_type": "markdown",
      "metadata": {
        "id": "v7x0Q6rCJwFs"
      },
      "source": [
        "# 딥러닝을 시작하기에 앞서"
      ]
    },
    {
      "cell_type": "markdown",
      "metadata": {
        "id": "Y-UowC9fJ_X0"
      },
      "source": [
        "### 파이썬 리스트 복습하기"
      ]
    },
    {
      "cell_type": "code",
      "metadata": {
        "colab": {
          "base_uri": "https://localhost:8080/"
        },
        "id": "gEOyXYHrJ00V",
        "outputId": "308015f3-fe3f-45b1-ac93-589447031f62"
      },
      "source": [
        "# 2개의 숫자와 하나의 문자열로 이루어진 파이썬 리스트\n",
        "my_list = [10, 'hello list', 20]\n",
        "print(my_list)"
      ],
      "execution_count": null,
      "outputs": [
        {
          "output_type": "stream",
          "name": "stdout",
          "text": [
            "[10, 'hello list', 20]\n"
          ]
        }
      ]
    },
    {
      "cell_type": "code",
      "metadata": {
        "colab": {
          "base_uri": "https://localhost:8080/"
        },
        "id": "w3ExLZblKTxS",
        "outputId": "df7c9134-475d-4341-f154-c1122b50cb20"
      },
      "source": [
        "# 리스트의 인덱스는 0부터 시작하기 때문에 두 번째 요소를 참조하기 위해 인덱스 1을 사용\n",
        "print(my_list[1])"
      ],
      "execution_count": null,
      "outputs": [
        {
          "output_type": "stream",
          "name": "stdout",
          "text": [
            "hello list\n"
          ]
        }
      ]
    },
    {
      "cell_type": "code",
      "metadata": {
        "id": "fG4tHXtqKo5b"
      },
      "source": [
        "# 3개의 요소를 가진 1차원 배열을 2개 쌓은 예 -> '2x3', 2개의 행과 3개의 열\n",
        "my_list_2 = [[10,20,30], [40,50,60]]"
      ],
      "execution_count": null,
      "outputs": []
    },
    {
      "cell_type": "code",
      "metadata": {
        "colab": {
          "base_uri": "https://localhost:8080/"
        },
        "id": "0JVqLo3pNDVz",
        "outputId": "45238e08-7e21-4597-ef80-e0c85fe7564f"
      },
      "source": [
        "# 2차원 배열의 요소를 선택할 때는 2개의 대괄호를 사용\n",
        "# 첫 번째 대괄호에서는 행의 인덱스, 두 번째 대괄호에서는 열의 인덱스\n",
        "print(my_list_2[1][1])"
      ],
      "execution_count": null,
      "outputs": [
        {
          "output_type": "stream",
          "name": "stdout",
          "text": [
            "50\n"
          ]
        }
      ]
    },
    {
      "cell_type": "markdown",
      "metadata": {
        "id": "9zOfikC5OH07"
      },
      "source": [
        "### 넘파이 준비하기"
      ]
    },
    {
      "cell_type": "code",
      "metadata": {
        "colab": {
          "base_uri": "https://localhost:8080/"
        },
        "id": "lpQMZBV0OLMy",
        "outputId": "36add4eb-7895-4261-ec10-4bb78c0e20e9"
      },
      "source": [
        "# 1. 코랩에서 넘파이 임포트하고 버전 확인\n",
        "import numpy as np\n",
        "print(np.__version__)"
      ],
      "execution_count": null,
      "outputs": [
        {
          "output_type": "stream",
          "name": "stdout",
          "text": [
            "1.19.5\n"
          ]
        }
      ]
    },
    {
      "cell_type": "markdown",
      "metadata": {
        "id": "GQdKo1RbOn_c"
      },
      "source": [
        "### 넘파이로 배열 만들기"
      ]
    },
    {
      "cell_type": "code",
      "metadata": {
        "colab": {
          "base_uri": "https://localhost:8080/"
        },
        "id": "JonxLpvMOAGL",
        "outputId": "5106b0b0-b385-4628-e428-93697665eb83"
      },
      "source": [
        "# 1. array() 함수로 2차원 배열 만들기\n",
        "my_arr = np.array([[10,20,30], [40,50,60]])\n",
        "print(my_arr)"
      ],
      "execution_count": null,
      "outputs": [
        {
          "output_type": "stream",
          "name": "stdout",
          "text": [
            "[[10 20 30]\n",
            " [40 50 60]]\n"
          ]
        }
      ]
    },
    {
      "cell_type": "code",
      "metadata": {
        "colab": {
          "base_uri": "https://localhost:8080/"
        },
        "id": "HBK7BnInO0fr",
        "outputId": "837690e8-0660-481f-f22a-c9af9200ed16"
      },
      "source": [
        "# 2. type() 함수로 넘파이 배열인지 확인하기\n",
        "type(my_arr)"
      ],
      "execution_count": null,
      "outputs": [
        {
          "output_type": "execute_result",
          "data": {
            "text/plain": [
              "numpy.ndarray"
            ]
          },
          "metadata": {},
          "execution_count": 8
        }
      ]
    },
    {
      "cell_type": "code",
      "metadata": {
        "colab": {
          "base_uri": "https://localhost:8080/"
        },
        "id": "7OLrkDIIO6U7",
        "outputId": "1051a309-0495-4d6a-f41e-39bd232d1d18"
      },
      "source": [
        "# 3. 넘파이 배열에서 요소 선택하기\n",
        "my_arr[0][2]"
      ],
      "execution_count": null,
      "outputs": [
        {
          "output_type": "execute_result",
          "data": {
            "text/plain": [
              "30"
            ]
          },
          "metadata": {},
          "execution_count": 9
        }
      ]
    },
    {
      "cell_type": "code",
      "metadata": {
        "colab": {
          "base_uri": "https://localhost:8080/"
        },
        "id": "t34_2_LvO_CT",
        "outputId": "a81538a3-0afe-4534-e66c-1c5269f0b440"
      },
      "source": [
        "# 4. 넘파이 내장 함수 사용하기\n",
        "np.sum(my_arr)"
      ],
      "execution_count": null,
      "outputs": [
        {
          "output_type": "execute_result",
          "data": {
            "text/plain": [
              "210"
            ]
          },
          "metadata": {},
          "execution_count": 10
        }
      ]
    },
    {
      "cell_type": "markdown",
      "metadata": {
        "id": "hBJIfOvrPvfb"
      },
      "source": [
        "### 맷플롯립으로 그래프 그리기"
      ]
    },
    {
      "cell_type": "code",
      "metadata": {
        "id": "pdel-z-3PC3z"
      },
      "source": [
        "import matplotlib.pyplot as plt"
      ],
      "execution_count": null,
      "outputs": []
    },
    {
      "cell_type": "code",
      "metadata": {
        "colab": {
          "base_uri": "https://localhost:8080/"
        },
        "id": "llpQ5RGKP30E",
        "outputId": "1e73ec65-29e7-4ad0-f31b-3e5b86664bb2"
      },
      "source": [
        "# 1. 선 그래프 그리기\n",
        "plt.plot([1,2,3,4,5], [1,4,9,16,25])\n",
        "plt.show()"
      ],
      "execution_count": null,
      "outputs": [
        {
          "output_type": "display_data",
          "data": {
            "image/png": "[encoded data removed]",
            "text/plain": [
              "<Figure size 432x288 with 1 Axes>"
            ]
          },
          "metadata": {
            "needs_background": "light"
          }
        }
      ]
    },
    {
      "cell_type": "code",
      "metadata": {
        "colab": {
          "base_uri": "https://localhost:8080/"
        },
        "id": "Sex2-ooDQDcU",
        "outputId": "91e03f19-14f9-45e0-cbda-bc1d5fd30d73"
      },
      "source": [
        "# 2. 산점도 그리기\n",
        "plt.scatter([1,2,3,4,5], [1,4,9,16,25])\n",
        "plt.show()"
      ],
      "execution_count": null,
      "outputs": [
        {
          "output_type": "display_data",
          "data": {
            "image/png": "[encoded data removed]",
            "text/plain": [
              "<Figure size 432x288 with 1 Axes>"
            ]
          },
          "metadata": {
            "needs_background": "light"
          }
        }
      ]
    },
    {
      "cell_type": "code",
      "metadata": {
        "colab": {
          "base_uri": "https://localhost:8080/"
        },
        "id": "YBWVQS0gQLpU",
        "outputId": "5ee38b79-6b89-4652-8a99-807a1ad18cce"
      },
      "source": [
        "# 3. 넘파이 배열로 산점도 그리기\n",
        "x = np.random.randn(1000)\n",
        "y = np.random.randn(1000)\n",
        "plt.scatter(x, y)\n",
        "plt.show()"
      ],
      "execution_count": null,
      "outputs": [
        {
          "output_type": "display_data",
          "data": {
            "image/png": "[encoded data removed]",
            "text/plain": [
              "<Figure size 432x288 with 1 Axes>"
            ]
          },
          "metadata": {
            "needs_background": "light"
          }
        }
      ]
    },
    {
      "cell_type": "markdown",
      "metadata": {
        "id": "1wlGeXZhQ5Ki"
      },
      "source": [
        "# I. 머신러닝의 기초 _ 수치 예측"
      ]
    },
    {
      "cell_type": "markdown",
      "metadata": {
        "id": "enMSIL0sRYHz"
      },
      "source": [
        "### i) 선형회귀"
      ]
    },
    {
      "cell_type": "markdown",
      "metadata": {
        "id": "iSHjMLHKTBNL"
      },
      "source": [
        "#### 문제 해결을 위해 당뇨병 환자의 데이터 준비하기"
      ]
    },
    {
      "cell_type": "markdown",
      "metadata": {
        "id": "5fDWmp4bTIAa"
      },
      "source": [
        "##### 사이킷런에서 당뇨병 환자 데이터 가져오기"
      ]
    },
    {
      "cell_type": "code",
      "metadata": {
        "id": "sdiE9N6mQ9yF"
      },
      "source": [
        "# 1. load_diabetes() 함수로 당뇨병 데이터 준비하기\n",
        "from sklearn.datasets import load_diabetes\n",
        "diabetes = load_diabetes()"
      ],
      "execution_count": null,
      "outputs": []
    },
    {
      "cell_type": "code",
      "metadata": {
        "colab": {
          "base_uri": "https://localhost:8080/"
        },
        "id": "LJA0tUSbTee7",
        "outputId": "4dc9a51a-dc23-4dfb-9eed-e5d91f415011"
      },
      "source": [
        "# 2. 입력과 타깃 데이터의 크기 확인하기\n",
        "print(diabetes.data.shape, diabetes.target.shape)"
      ],
      "execution_count": null,
      "outputs": [
        {
          "output_type": "stream",
          "name": "stdout",
          "text": [
            "(442, 10) (442,)\n"
          ]
        }
      ]
    },
    {
      "cell_type": "code",
      "metadata": {
        "colab": {
          "base_uri": "https://localhost:8080/"
        },
        "id": "vvfp3C9QTst7",
        "outputId": "e547566c-b18f-4491-96c8-501e2c75b4cd"
      },
      "source": [
        "# 3. 입력 데이터 자세히 보기\n",
        "diabetes.data[0:3]"
      ],
      "execution_count": null,
      "outputs": [
        {
          "output_type": "execute_result",
          "data": {
            "text/plain": [
              "array([[ 0.03807591,  0.05068012,  0.06169621,  0.02187235, -0.0442235 ,\n",
              "        -0.03482076, -0.04340085, -0.00259226,  0.01990842, -0.01764613],\n",
              "       [-0.00188202, -0.04464164, -0.05147406, -0.02632783, -0.00844872,\n",
              "        -0.01916334,  0.07441156, -0.03949338, -0.06832974, -0.09220405],\n",
              "       [ 0.08529891,  0.05068012,  0.04445121, -0.00567061, -0.04559945,\n",
              "        -0.03419447, -0.03235593, -0.00259226,  0.00286377, -0.02593034]])"
            ]
          },
          "metadata": {},
          "execution_count": 17
        }
      ]
    },
    {
      "cell_type": "code",
      "metadata": {
        "colab": {
          "base_uri": "https://localhost:8080/"
        },
        "id": "xBorzrb3Tyn8",
        "outputId": "cfc89df7-4a91-49b6-daed-cb898d93591a"
      },
      "source": [
        "# 4. 타깃 데이터 자세히 보기\n",
        "diabetes.target[:3]"
      ],
      "execution_count": null,
      "outputs": [
        {
          "output_type": "execute_result",
          "data": {
            "text/plain": [
              "array([151.,  75., 141.])"
            ]
          },
          "metadata": {},
          "execution_count": 18
        }
      ]
    },
    {
      "cell_type": "markdown",
      "metadata": {
        "id": "GsMXHS2kT_7c"
      },
      "source": [
        "#### 당뇨병 환자 데이터 시각화하기 "
      ]
    },
    {
      "cell_type": "code",
      "metadata": {
        "colab": {
          "base_uri": "https://localhost:8080/"
        },
        "id": "VTjNwLIUT28z",
        "outputId": "35ecfd25-8258-46c5-fc4e-11b2c306a323"
      },
      "source": [
        "# 1. 맷플롯립의 scatter() 함수로 산점도 그리기\n",
        "import matplotlib.pyplot as plt\n",
        "plt.scatter(diabetes.data[:,2], diabetes.target)\n",
        "plt.xlabel('x')\n",
        "plt.ylabel('y')\n",
        "plt.show()"
      ],
      "execution_count": null,
      "outputs": [
        {
          "output_type": "display_data",
          "data": {
            "image/png": "[encoded data removed]",
            "text/plain": [
              "<Figure size 432x288 with 1 Axes>"
            ]
          },
          "metadata": {
            "needs_background": "light"
          }
        }
      ]
    },
    {
      "cell_type": "code",
      "metadata": {
        "id": "y3nIp3bhUlAL"
      },
      "source": [
        "# 2. 훈련 데이터 준비하기\n",
        "x = diabetes.data[:, 2]\n",
        "y = diabetes.target"
      ],
      "execution_count": null,
      "outputs": []
    },
    {
      "cell_type": "markdown",
      "metadata": {
        "id": "1dJCQI6dVEKj"
      },
      "source": [
        "### ii) 경사 하강법"
      ]
    },
    {
      "cell_type": "markdown",
      "metadata": {
        "id": "kCM__3WtV26E"
      },
      "source": [
        "#### 예측값으로 올바른 모델 찾기"
      ]
    },
    {
      "cell_type": "markdown",
      "metadata": {
        "id": "jtLLkXkvWHyL"
      },
      "source": [
        "##### 훈련 데이터에 맞는 w와 b 찾아보기"
      ]
    },
    {
      "cell_type": "markdown",
      "metadata": {
        "id": "2aYtpVhRX6xz"
      },
      "source": [
        "1. w와 b 초기화하기"
      ]
    },
    {
      "cell_type": "code",
      "metadata": {
        "id": "TRDe_yYRUs4b"
      },
      "source": [
        "w = 1.0\n",
        "b = 1.0"
      ],
      "execution_count": null,
      "outputs": []
    },
    {
      "cell_type": "markdown",
      "metadata": {
        "id": "Cb6wQULIXUmD"
      },
      "source": [
        "2. 훈련 데이터의 첫 번째 샘플 데이터로 $\\hat{y}$ 얻기"
      ]
    },
    {
      "cell_type": "code",
      "metadata": {
        "colab": {
          "base_uri": "https://localhost:8080/"
        },
        "id": "MJi475myWY7l",
        "outputId": "9366c9fc-31ab-41c9-f759-e24e53d8c51c"
      },
      "source": [
        "y_hat = x[0] * w + b\n",
        "print(y_hat)"
      ],
      "execution_count": null,
      "outputs": [
        {
          "output_type": "stream",
          "name": "stdout",
          "text": [
            "1.0616962065186886\n"
          ]
        }
      ]
    },
    {
      "cell_type": "markdown",
      "metadata": {
        "id": "tEPV3DgHYJ6E"
      },
      "source": [
        "3. 타깃과 예측 데이터 비교하기"
      ]
    },
    {
      "cell_type": "code",
      "metadata": {
        "colab": {
          "base_uri": "https://localhost:8080/"
        },
        "id": "jON2lRcXYIYc",
        "outputId": "da02321e-14ef-4a8d-fac1-2079eb7956bd"
      },
      "source": [
        "print(y[0])"
      ],
      "execution_count": null,
      "outputs": [
        {
          "output_type": "stream",
          "name": "stdout",
          "text": [
            "151.0\n"
          ]
        }
      ]
    },
    {
      "cell_type": "markdown",
      "metadata": {
        "id": "QsX3yak8YQoz"
      },
      "source": [
        "4. w 값 조절해 예측값 바꾸기"
      ]
    },
    {
      "cell_type": "code",
      "metadata": {
        "colab": {
          "base_uri": "https://localhost:8080/"
        },
        "id": "scP_GyKNYPYs",
        "outputId": "9ee6df5d-70e4-49ba-95a5-3950d95b9c1c"
      },
      "source": [
        "w_inc = w + 0.1\n",
        "y_hat_inc = x[0] * w_inc + b\n",
        "print(y_hat_inc)"
      ],
      "execution_count": null,
      "outputs": [
        {
          "output_type": "stream",
          "name": "stdout",
          "text": [
            "1.0678658271705574\n"
          ]
        }
      ]
    },
    {
      "cell_type": "markdown",
      "metadata": {
        "id": "MVsRgf2KYgOL"
      },
      "source": [
        "5. w 값 조정한 후 예측값 증가 정도 확인하기"
      ]
    },
    {
      "cell_type": "code",
      "metadata": {
        "colab": {
          "base_uri": "https://localhost:8080/"
        },
        "id": "h-edwwKzYcaj",
        "outputId": "b5c07d66-46de-4f2a-ed98-d6a73eb29e59"
      },
      "source": [
        "w_rate = (y_hat_inc - y_hat) / (w_inc - w)\n",
        "print(w_rate)"
      ],
      "execution_count": null,
      "outputs": [
        {
          "output_type": "stream",
          "name": "stdout",
          "text": [
            "0.061696206518688734\n"
          ]
        }
      ]
    },
    {
      "cell_type": "markdown",
      "metadata": {
        "id": "i9p0nu_KY_vk"
      },
      "source": [
        "#### 변화율로 가중치 업데이트하기"
      ]
    },
    {
      "cell_type": "code",
      "metadata": {
        "colab": {
          "base_uri": "https://localhost:8080/"
        },
        "id": "bH4jJtLaYqBr",
        "outputId": "6ffd8717-4dfc-42f5-d5db-1d34e4520c8a"
      },
      "source": [
        "w_new = w + w_rate\n",
        "print(w_new)"
      ],
      "execution_count": null,
      "outputs": [
        {
          "output_type": "stream",
          "name": "stdout",
          "text": [
            "1.0616962065186888\n"
          ]
        }
      ]
    },
    {
      "cell_type": "markdown",
      "metadata": {
        "id": "lgEIEKhqZLo7"
      },
      "source": [
        "#### 변화율로 절편 업데이트하기"
      ]
    },
    {
      "cell_type": "code",
      "metadata": {
        "colab": {
          "base_uri": "https://localhost:8080/"
        },
        "id": "DCVdS0QCZIZE",
        "outputId": "cd2f58b4-aecc-4a51-e3c9-8a27439b2756"
      },
      "source": [
        "b_inc = b + 0.1\n",
        "y_hat_inc = x[0] * w + b_inc\n",
        "print(y_hat_inc)"
      ],
      "execution_count": null,
      "outputs": [
        {
          "output_type": "stream",
          "name": "stdout",
          "text": [
            "1.1616962065186887\n"
          ]
        }
      ]
    },
    {
      "cell_type": "code",
      "metadata": {
        "colab": {
          "base_uri": "https://localhost:8080/"
        },
        "id": "Ej4OWLiIZaO1",
        "outputId": "967e091c-0670-4ba3-f5e8-8ea2c53ba97b"
      },
      "source": [
        "b_rate = (y_hat_inc - y_hat) / (b_inc - b)\n",
        "print(b_rate)"
      ],
      "execution_count": null,
      "outputs": [
        {
          "output_type": "stream",
          "name": "stdout",
          "text": [
            "1.0\n"
          ]
        }
      ]
    },
    {
      "cell_type": "markdown",
      "metadata": {
        "id": "xg05fp1FZtbD"
      },
      "source": [
        "$$b_ _rate = \\frac{y_hat_inc - y_hat}{}$$"
      ]
    },
    {
      "cell_type": "code",
      "metadata": {
        "colab": {
          "base_uri": "https://localhost:8080/"
        },
        "id": "1gODoXmxZfzL",
        "outputId": "dc9ad8ca-13db-4a2e-d686-cda226a62fe1"
      },
      "source": [
        "b_new = b + 1\n",
        "print(b_new)"
      ],
      "execution_count": null,
      "outputs": [
        {
          "output_type": "stream",
          "name": "stdout",
          "text": [
            "2.0\n"
          ]
        }
      ]
    },
    {
      "cell_type": "markdown",
      "metadata": {
        "id": "BrB8Zk2ZbPhj"
      },
      "source": [
        "#### 오차 역전파로 가중치와 절편을 더 적절하게 업데이트"
      ]
    },
    {
      "cell_type": "markdown",
      "metadata": {
        "id": "5_hEvtmWbdoL"
      },
      "source": [
        "가중치와 절편을 더욱 적절하게 업데이트하는 방법"
      ]
    },
    {
      "cell_type": "markdown",
      "metadata": {
        "id": "wDgIt-x0biNj"
      },
      "source": [
        "1. 오차와 변화율을 곱하여 가중치 업데이트하기"
      ]
    },
    {
      "cell_type": "code",
      "metadata": {
        "colab": {
          "base_uri": "https://localhost:8080/"
        },
        "id": "vf1nN-QDZmzD",
        "outputId": "c31eabc3-16fd-414f-f9af-05a08fee7763"
      },
      "source": [
        "err = y[0] - y_hat\n",
        "w_new = w + w_rate * err\n",
        "b_new = b + 1 * err\n",
        "print(w_new, b_new)"
      ],
      "execution_count": null,
      "outputs": [
        {
          "output_type": "stream",
          "name": "stdout",
          "text": [
            "10.250624555904514 150.9383037934813\n"
          ]
        }
      ]
    },
    {
      "cell_type": "markdown",
      "metadata": {
        "id": "XJofhG2Sbx8L"
      },
      "source": [
        "2. 두 번째 샘플 x[1]을 사용할 때"
      ]
    },
    {
      "cell_type": "code",
      "metadata": {
        "colab": {
          "base_uri": "https://localhost:8080/"
        },
        "id": "DnOmoOoBbwsT",
        "outputId": "97213361-ae5f-4e9d-92e9-d9bfca806db1"
      },
      "source": [
        "y_hat = x[1] * w_new + b_new\n",
        "err = y[1] - y_hat\n",
        "w_rate = x[1]\n",
        "w_new = w_new + w_rate * err\n",
        "b_new = b_new + 1 * err\n",
        "print(w_new, b_new)"
      ],
      "execution_count": null,
      "outputs": [
        {
          "output_type": "stream",
          "name": "stdout",
          "text": [
            "14.132317616381767 75.52764127612664\n"
          ]
        }
      ]
    },
    {
      "cell_type": "markdown",
      "metadata": {
        "id": "7CyzCd2hccWL"
      },
      "source": [
        "3. 전체 샘플을 반복하기"
      ]
    },
    {
      "cell_type": "code",
      "metadata": {
        "colab": {
          "base_uri": "https://localhost:8080/"
        },
        "id": "qW62--PUcRgT",
        "outputId": "1ce445f3-61fc-4b9e-da85-7693b2c4b268"
      },
      "source": [
        "for x_i, y_i in zip(x, y):\n",
        "  y_hat = x_i * w + b\n",
        "  err = y_i - y_hat\n",
        "  w_rate = x_i\n",
        "  w = w + w_rate * err\n",
        "  b = b + 1 * err\n",
        "print(w, b)"
      ],
      "execution_count": null,
      "outputs": [
        {
          "output_type": "stream",
          "name": "stdout",
          "text": [
            "587.8654539985689 99.40935564531424\n"
          ]
        }
      ]
    },
    {
      "cell_type": "markdown",
      "metadata": {
        "id": "KF15_ZEecygT"
      },
      "source": [
        "ㄴ> zip() 함수는 여러 개의 배열에서 동시에 요소를 하나씩 꺼내줍니다.   \n",
        "  여기에서는 입력 x와 타깃 y 배열에서 요소를 하나씩 꺼내어 err를 계산하고 w와 b를 업데이트"
      ]
    },
    {
      "cell_type": "markdown",
      "metadata": {
        "id": "uxPNeBlldQs9"
      },
      "source": [
        "4. 과정 3을 통해 얻어낸 모델 시각화"
      ]
    },
    {
      "cell_type": "code",
      "metadata": {
        "colab": {
          "base_uri": "https://localhost:8080/",
          "height": 279
        },
        "id": "cYdJO47ZcuDE",
        "outputId": "32e479f4-5b90-4167-fb01-9fc8537cc52d"
      },
      "source": [
        "plt.scatter(x, y)\n",
        "pt1 = (-0.1, -0.1 * w + b)\n",
        "pt2 = (0.15, 0.15 * w + b)\n",
        "plt.plot([pt1[0], pt2[0]], [pt1[1], pt2[1]])\n",
        "plt.xlabel('x')\n",
        "plt.ylabel('y')\n",
        "plt.show()"
      ],
      "execution_count": null,
      "outputs": [
        {
          "output_type": "display_data",
          "data": {
            "image/png": "[encoded data removed]",
            "text/plain": [
              "<Figure size 432x288 with 1 Axes>"
            ]
          },
          "metadata": {
            "needs_background": "light"
          }
        }
      ]
    },
    {
      "cell_type": "markdown",
      "metadata": {
        "id": "J5px7tOyeGH_"
      },
      "source": [
        "5. 여러 에포크를 반복하기"
      ]
    },
    {
      "cell_type": "code",
      "metadata": {
        "colab": {
          "base_uri": "https://localhost:8080/"
        },
        "id": "A5qzgmExeETU",
        "outputId": "53fbf48e-5704-4c45-94f1-db1473c72bf8"
      },
      "source": [
        "for i in range(1, 100):\n",
        "  for x_i, y_i in zip(x, y):\n",
        "    y_hat = x_i * w + b\n",
        "    err = y_i - y_hat\n",
        "    w_rate = x_i\n",
        "    w = w + w_rate * err\n",
        "    b = b + 1 * err\n",
        "print(w, b)"
      ],
      "execution_count": null,
      "outputs": [
        {
          "output_type": "stream",
          "name": "stdout",
          "text": [
            "913.5973364345905 123.39414383177204\n"
          ]
        }
      ]
    },
    {
      "cell_type": "code",
      "metadata": {
        "colab": {
          "base_uri": "https://localhost:8080/",
          "height": 279
        },
        "id": "Rn1M1npgeY8z",
        "outputId": "88d03593-d68e-425b-ca16-263c8b3cd70c"
      },
      "source": [
        "plt.scatter(x, y)\n",
        "pt1 = (-0.1, -0.1 * w + b)\n",
        "pt2 = (0.15, 0.15 * w + b)\n",
        "plt.plot([pt1[0], pt2[0]], [pt1[1], pt2[1]])\n",
        "plt.xlabel('x')\n",
        "plt.ylabel('y')\n",
        "plt.show()"
      ],
      "execution_count": null,
      "outputs": [
        {
          "output_type": "display_data",
          "data": {
            "image/png": "[encoded data removed]",
            "text/plain": [
              "<Figure size 432x288 with 1 Axes>"
            ]
          },
          "metadata": {
            "needs_background": "light"
          }
        }
      ]
    },
    {
      "cell_type": "markdown",
      "metadata": {
        "id": "Sjr_x4DWe4kz"
      },
      "source": [
        "6. 모델로 예측하기"
      ]
    },
    {
      "cell_type": "code",
      "metadata": {
        "colab": {
          "base_uri": "https://localhost:8080/"
        },
        "id": "2A_QTNmxeglj",
        "outputId": "df9556cc-2a1f-4529-a1f4-ad5ee232d5fc"
      },
      "source": [
        "x_new = 0.18\n",
        "y_pred = x_new * w + b\n",
        "print(y_pred)"
      ],
      "execution_count": null,
      "outputs": [
        {
          "output_type": "stream",
          "name": "stdout",
          "text": [
            "287.8416643899983\n"
          ]
        }
      ]
    },
    {
      "cell_type": "code",
      "metadata": {
        "colab": {
          "base_uri": "https://localhost:8080/",
          "height": 279
        },
        "id": "bz8wJvevfAvj",
        "outputId": "b99d1f7a-8264-4c3c-a535-9ba4cd805883"
      },
      "source": [
        "plt.scatter(x, y)\n",
        "plt.scatter(x_new, y_pred)\n",
        "plt.xlabel('x')\n",
        "plt.ylabel('y')\n",
        "plt.show()"
      ],
      "execution_count": null,
      "outputs": [
        {
          "output_type": "display_data",
          "data": {
            "image/png": "[encoded data removed]",
            "text/plain": [
              "<Figure size 432x288 with 1 Axes>"
            ]
          },
          "metadata": {
            "needs_background": "light"
          }
        }
      ]
    },
    {
      "cell_type": "markdown",
      "metadata": {
        "id": "zzX7wW4axDs-"
      },
      "source": [
        "### iii) 손실 함수와 경사 하강법의 관계"
      ]
    },
    {
      "cell_type": "markdown",
      "metadata": {
        "id": "5fiH0xodxmSn"
      },
      "source": [
        "#### 손실 함수\n",
        "\n",
        "$$SE = (y-\\hat{y})^2$$"
      ]
    },
    {
      "cell_type": "markdown",
      "metadata": {
        "id": "yz1LPFhEyME2"
      },
      "source": [
        "가중치에 대하여 제곱 오차 미분하기"
      ]
    },
    {
      "cell_type": "code",
      "metadata": {
        "id": "FN4jNPjJxF4v"
      },
      "source": [
        "y_hat = x_i * w + b\n",
        "err = y_i - y_hat\n",
        "w_rate = x_i\n",
        "w = w + w_rate * err"
      ],
      "execution_count": null,
      "outputs": []
    },
    {
      "cell_type": "markdown",
      "metadata": {
        "id": "c9911RX7ylg-"
      },
      "source": [
        "절편에 대하여 제곱 오차 미분하기"
      ]
    },
    {
      "cell_type": "code",
      "metadata": {
        "id": "BPxH4flRyXGo"
      },
      "source": [
        "err = y_i - y_hat\n",
        "b = b + i * err"
      ],
      "execution_count": null,
      "outputs": []
    },
    {
      "cell_type": "markdown",
      "metadata": {
        "id": "uZofAfKPy1K2"
      },
      "source": [
        "### iv) 선형 회귀를 위한 뉴런"
      ]
    },
    {
      "cell_type": "markdown",
      "metadata": {
        "id": "4N1tozvny9lO"
      },
      "source": [
        "#### Neuron 클래스 만들기"
      ]
    },
    {
      "cell_type": "code",
      "metadata": {
        "id": "xojnDYHKy6rh"
      },
      "source": [
        "class Neuron:\n",
        "  def __init__(self):\n",
        "  # 초기화 작업을 수행합니다. \n",
        "  ...\n",
        "\n",
        "  # 필요한 메서드를 추가합니다.\n",
        "  ..."
      ],
      "execution_count": null,
      "outputs": []
    },
    {
      "cell_type": "markdown",
      "metadata": {
        "id": "be858j39zPqe"
      },
      "source": [
        "1.   __ init __() 메서드 작성하기"
      ]
    },
    {
      "cell_type": "code",
      "metadata": {
        "id": "oFbpY8DKzTvP"
      },
      "source": [
        "def __init__(self):\n",
        "  self.w = 1.0\n",
        "  self.b = 1.0"
      ],
      "execution_count": null,
      "outputs": []
    },
    {
      "cell_type": "markdown",
      "metadata": {
        "id": "-0wyVrir0W2t"
      },
      "source": [
        "2. 정방향 계산 만들기"
      ]
    },
    {
      "cell_type": "code",
      "metadata": {
        "id": "0pnAyYFu0Tlu"
      },
      "source": [
        "def forpass(self, x):\n",
        "  y_hat = x * self.w + self.b     # 직선 방정식을 계산합니다.\n",
        "  return y_hat"
      ],
      "execution_count": null,
      "outputs": []
    },
    {
      "cell_type": "markdown",
      "metadata": {
        "id": "oZkhcYgR03VQ"
      },
      "source": [
        "3. 역방향 계산 만들기"
      ]
    },
    {
      "cell_type": "code",
      "metadata": {
        "id": "4STlfAka0uV-"
      },
      "source": [
        "def backprop(self, x, err):\n",
        "  w_grad = x * err              # 가중치에 대한 gradient를 계산합니다.\n",
        "  b_grad = 1 * err              # 절편에 대한 gradient를 계산합니다.\n",
        "  return w_grad, b_grad"
      ],
      "execution_count": null,
      "outputs": []
    },
    {
      "cell_type": "markdown",
      "metadata": {
        "id": "zr0AoH2O2_cQ"
      },
      "source": [
        "4. "
      ]
    }
  ]
}