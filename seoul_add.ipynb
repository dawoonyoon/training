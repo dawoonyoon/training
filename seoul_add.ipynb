{
  "nbformat": 4,
  "nbformat_minor": 0,
  "metadata": {
    "colab": {
      "name": "seoul_add.ipynb",
      "provenance": []
    },
    "kernelspec": {
      "name": "python3",
      "display_name": "Python 3"
    },
    "language_info": {
      "name": "python"
    }
  },
  "cells": [
    {
      "cell_type": "code",
      "metadata": {
        "id": "Z2VI5GvXq6FZ"
      },
      "source": [
        "import pandas as pd"
      ],
      "execution_count": 1,
      "outputs": []
    },
    {
      "cell_type": "code",
      "metadata": {
        "colab": {
          "base_uri": "https://localhost:8080/"
        },
        "id": "F-vSGR_urUJh",
        "outputId": "5372fb9c-9a79-4c79-b066-ac35a334ee87"
      },
      "source": [
        "!unzip -qq \"분양.zip\""
      ],
      "execution_count": 3,
      "outputs": [
        {
          "output_type": "stream",
          "name": "stdout",
          "text": [
            "분양권 바꾸기.html:  mismatching \"local\" filename (ы╢ДьЦСъ╢М ы░Фъ╛╕ъ╕░.html),\n",
            "         continuing with \"central\" filename version\n"
          ]
        }
      ]
    },
    {
      "cell_type": "code",
      "metadata": {
        "colab": {
          "base_uri": "https://localhost:8080/",
          "height": 423
        },
        "id": "POc6kdQjrZXF",
        "outputId": "613e0ac1-7b06-4217-f30e-e999229dc6a9"
      },
      "source": [
        "df = pd.read_csv(\"df_seoul.csv\")\n",
        "df"
      ],
      "execution_count": 4,
      "outputs": [
        {
          "output_type": "execute_result",
          "data": {
            "text/html": [
              "<div>\n",
              "<style scoped>\n",
              "    .dataframe tbody tr th:only-of-type {\n",
              "        vertical-align: middle;\n",
              "    }\n",
              "\n",
              "    .dataframe tbody tr th {\n",
              "        vertical-align: top;\n",
              "    }\n",
              "\n",
              "    .dataframe thead th {\n",
              "        text-align: right;\n",
              "    }\n",
              "</style>\n",
              "<table border=\"1\" class=\"dataframe\">\n",
              "  <thead>\n",
              "    <tr style=\"text-align: right;\">\n",
              "      <th></th>\n",
              "      <th>시군구</th>\n",
              "      <th>번지</th>\n",
              "      <th>단지명</th>\n",
              "      <th>전용면적(㎡)</th>\n",
              "      <th>거래금액(만원)</th>\n",
              "      <th>층</th>\n",
              "      <th>계약년월</th>\n",
              "      <th>계약일</th>\n",
              "      <th>분/입구분</th>\n",
              "      <th>해제사유발생일</th>\n",
              "      <th>지역</th>\n",
              "    </tr>\n",
              "  </thead>\n",
              "  <tbody>\n",
              "    <tr>\n",
              "      <th>0</th>\n",
              "      <td>서울특별시 강남구 개포동</td>\n",
              "      <td>138</td>\n",
              "      <td>디에이치 아너힐즈</td>\n",
              "      <td>114.2062</td>\n",
              "      <td>144,476</td>\n",
              "      <td>17</td>\n",
              "      <td>201608</td>\n",
              "      <td>12</td>\n",
              "      <td>입</td>\n",
              "      <td>NaN</td>\n",
              "      <td>서울</td>\n",
              "    </tr>\n",
              "    <tr>\n",
              "      <th>1</th>\n",
              "      <td>서울특별시 강남구 개포동</td>\n",
              "      <td>138</td>\n",
              "      <td>디에이치 아너힐즈</td>\n",
              "      <td>114.2062</td>\n",
              "      <td>139,798</td>\n",
              "      <td>7</td>\n",
              "      <td>201608</td>\n",
              "      <td>23</td>\n",
              "      <td>입</td>\n",
              "      <td>NaN</td>\n",
              "      <td>서울</td>\n",
              "    </tr>\n",
              "    <tr>\n",
              "      <th>2</th>\n",
              "      <td>서울특별시 강남구 개포동</td>\n",
              "      <td>138</td>\n",
              "      <td>디에이치 아너힐즈</td>\n",
              "      <td>103.5749</td>\n",
              "      <td>118,673</td>\n",
              "      <td>7</td>\n",
              "      <td>201609</td>\n",
              "      <td>6</td>\n",
              "      <td>입</td>\n",
              "      <td>NaN</td>\n",
              "      <td>서울</td>\n",
              "    </tr>\n",
              "    <tr>\n",
              "      <th>3</th>\n",
              "      <td>서울특별시 강남구 개포동</td>\n",
              "      <td>138</td>\n",
              "      <td>디에이치 아너힐즈</td>\n",
              "      <td>103.5749</td>\n",
              "      <td>134,571</td>\n",
              "      <td>24</td>\n",
              "      <td>201609</td>\n",
              "      <td>10</td>\n",
              "      <td>입</td>\n",
              "      <td>NaN</td>\n",
              "      <td>서울</td>\n",
              "    </tr>\n",
              "    <tr>\n",
              "      <th>4</th>\n",
              "      <td>서울특별시 강남구 개포동</td>\n",
              "      <td>138</td>\n",
              "      <td>디에이치 아너힐즈</td>\n",
              "      <td>84.3558</td>\n",
              "      <td>138,356</td>\n",
              "      <td>11</td>\n",
              "      <td>201609</td>\n",
              "      <td>24</td>\n",
              "      <td>입</td>\n",
              "      <td>NaN</td>\n",
              "      <td>서울</td>\n",
              "    </tr>\n",
              "    <tr>\n",
              "      <th>...</th>\n",
              "      <td>...</td>\n",
              "      <td>...</td>\n",
              "      <td>...</td>\n",
              "      <td>...</td>\n",
              "      <td>...</td>\n",
              "      <td>...</td>\n",
              "      <td>...</td>\n",
              "      <td>...</td>\n",
              "      <td>...</td>\n",
              "      <td>...</td>\n",
              "      <td>...</td>\n",
              "    </tr>\n",
              "    <tr>\n",
              "      <th>18243</th>\n",
              "      <td>서울특별시 중랑구 묵동</td>\n",
              "      <td>81-17</td>\n",
              "      <td>ｅ편한세상 화랑대</td>\n",
              "      <td>59.9530</td>\n",
              "      <td>42,000</td>\n",
              "      <td>9</td>\n",
              "      <td>201708</td>\n",
              "      <td>1</td>\n",
              "      <td>입</td>\n",
              "      <td>NaN</td>\n",
              "      <td>서울</td>\n",
              "    </tr>\n",
              "    <tr>\n",
              "      <th>18244</th>\n",
              "      <td>서울특별시 중랑구 묵동</td>\n",
              "      <td>81-17</td>\n",
              "      <td>ｅ편한세상 화랑대</td>\n",
              "      <td>84.8340</td>\n",
              "      <td>56,500</td>\n",
              "      <td>3</td>\n",
              "      <td>201708</td>\n",
              "      <td>10</td>\n",
              "      <td>분</td>\n",
              "      <td>NaN</td>\n",
              "      <td>서울</td>\n",
              "    </tr>\n",
              "    <tr>\n",
              "      <th>18245</th>\n",
              "      <td>서울특별시 중랑구 묵동</td>\n",
              "      <td>81-17</td>\n",
              "      <td>ｅ편한세상 화랑대</td>\n",
              "      <td>96.3990</td>\n",
              "      <td>68,000</td>\n",
              "      <td>6</td>\n",
              "      <td>201709</td>\n",
              "      <td>16</td>\n",
              "      <td>분</td>\n",
              "      <td>NaN</td>\n",
              "      <td>서울</td>\n",
              "    </tr>\n",
              "    <tr>\n",
              "      <th>18246</th>\n",
              "      <td>서울특별시 중랑구 묵동</td>\n",
              "      <td>81-17</td>\n",
              "      <td>ｅ편한세상 화랑대</td>\n",
              "      <td>84.9020</td>\n",
              "      <td>61,000</td>\n",
              "      <td>17</td>\n",
              "      <td>201710</td>\n",
              "      <td>25</td>\n",
              "      <td>분</td>\n",
              "      <td>NaN</td>\n",
              "      <td>서울</td>\n",
              "    </tr>\n",
              "    <tr>\n",
              "      <th>18247</th>\n",
              "      <td>서울특별시 중랑구 상봉동</td>\n",
              "      <td>113</td>\n",
              "      <td>상봉어반뷰</td>\n",
              "      <td>13.2600</td>\n",
              "      <td>12,850</td>\n",
              "      <td>6</td>\n",
              "      <td>201707</td>\n",
              "      <td>12</td>\n",
              "      <td>분</td>\n",
              "      <td>NaN</td>\n",
              "      <td>서울</td>\n",
              "    </tr>\n",
              "  </tbody>\n",
              "</table>\n",
              "<p>18248 rows × 11 columns</p>\n",
              "</div>"
            ],
            "text/plain": [
              "                 시군구     번지        단지명   전용면적(㎡)  ... 계약일  분/입구분  해제사유발생일  지역\n",
              "0      서울특별시 강남구 개포동    138  디에이치 아너힐즈  114.2062  ...  12      입      NaN  서울\n",
              "1      서울특별시 강남구 개포동    138  디에이치 아너힐즈  114.2062  ...  23      입      NaN  서울\n",
              "2      서울특별시 강남구 개포동    138  디에이치 아너힐즈  103.5749  ...   6      입      NaN  서울\n",
              "3      서울특별시 강남구 개포동    138  디에이치 아너힐즈  103.5749  ...  10      입      NaN  서울\n",
              "4      서울특별시 강남구 개포동    138  디에이치 아너힐즈   84.3558  ...  24      입      NaN  서울\n",
              "...              ...    ...        ...       ...  ...  ..    ...      ...  ..\n",
              "18243   서울특별시 중랑구 묵동  81-17  ｅ편한세상 화랑대   59.9530  ...   1      입      NaN  서울\n",
              "18244   서울특별시 중랑구 묵동  81-17  ｅ편한세상 화랑대   84.8340  ...  10      분      NaN  서울\n",
              "18245   서울특별시 중랑구 묵동  81-17  ｅ편한세상 화랑대   96.3990  ...  16      분      NaN  서울\n",
              "18246   서울특별시 중랑구 묵동  81-17  ｅ편한세상 화랑대   84.9020  ...  25      분      NaN  서울\n",
              "18247  서울특별시 중랑구 상봉동    113      상봉어반뷰   13.2600  ...  12      분      NaN  서울\n",
              "\n",
              "[18248 rows x 11 columns]"
            ]
          },
          "metadata": {},
          "execution_count": 4
        }
      ]
    },
    {
      "cell_type": "code",
      "metadata": {
        "colab": {
          "base_uri": "https://localhost:8080/"
        },
        "id": "lBBijqt3sP9l",
        "outputId": "cf2337ef-0295-434f-ccc3-2b37764751fa"
      },
      "source": [
        "df.번지.unique()"
      ],
      "execution_count": 95,
      "outputs": [
        {
          "output_type": "execute_result",
          "data": {
            "text/plain": [
              "array(['138', '140', '1029', '633', '894', '893-2', '538-3', '538', '22',\n",
              "       '541', '537', '709', '711-3', '513', '689-1', '67', '693', '688',\n",
              "       '670', '164', '547-1', '447-17', '448', '1', '48-8', '730-640',\n",
              "       '730-327', '730-354', '730-149', '746', '725-1', '748', '277-24',\n",
              "       '1165', '1544-1', '122-2', '859', '468-1', '1147', '448-1',\n",
              "       '441-14', '670-7', '670-20', '1322', '531', '672', '178', '494-1',\n",
              "       '1014', '98', '463-2', '530-15', '1009', '104-27', '373-3',\n",
              "       '597-11', '695', '267-61', '128-12', '394-15', '1159', '197',\n",
              "       '903', '535', '536', '363-164', '900', '232-55', '158-1', '445-1',\n",
              "       '476', '12', '458-16', '172', '93-102', '800', '611-6', '85-17',\n",
              "       '662', '45', '508', '385-1', '108', '369-10', '124', '105-37',\n",
              "       '149', '174', '1017', '450-1', '19-19', '451-13', '473', '1341',\n",
              "       '1342', '02월 01일', '1331-1', '1332-13', '1501-1', '1490-5',\n",
              "       '1311-10', '158', '160', '159', '280', '1553', '12-37', '811',\n",
              "       '718', '528', '999', '1070', '1002', '339-67', '700', '100', '498',\n",
              "       '643', '644', '15', '458', '144-24', '290-9', '192', '479', '618',\n",
              "       '24-3', '895', '883', '884', '897', '896', '388-7', '632-1', '551',\n",
              "       '1323', '929-56', '13', '2039', '4945', '347-50', '203', '41',\n",
              "       '342', '391', '728-4', '93', '117-1', '19', '281', '53', '550',\n",
              "       '645', '372', '766', '620-1', '66-13', '60', '84', '81', 'BL 25',\n",
              "       '60-19', '65', 'Jan-62', 'BL-3', '65-4', '10', '176-1', '217',\n",
              "       '140-23', '13-1', '81-17', '501', '709-5', '67-1', '309-1', '131',\n",
              "       '515', '134', '606', '571', '4', '3-770', '461', '747', '746-1',\n",
              "       '741', '902', '821-1', '1095', '1553-1', '865-6', '244-5', '116-2',\n",
              "       '208-3', '143-6', '143-20', '1007-13', '1150', '670-6', '950',\n",
              "       '951', '717-2', '636', '530-4', '1008', '291-1', '375', '385-65',\n",
              "       '490', '173', '802', '780', '27-19', '387', '1013', '464',\n",
              "       '866-10', '3278', '917-4', '1498-5', '528-1', '1071', '58-56',\n",
              "       '319', '173-114', '230', '234', '51', '135', '972-2', '4950',\n",
              "       '1583-1', '337-246', '240-16', '94-129', '420', '63-70', '361-10',\n",
              "       '36', '419', '455-25', '764', '27', '25', '107', '105', '88',\n",
              "       '154', '155', '94', '92', '6', '88-13', '16-29', '64', '199',\n",
              "       '233', '126', '46', '856', 'Feb-79', '8', '171-7', '164-10',\n",
              "       '520-19', '113'], dtype=object)"
            ]
          },
          "metadata": {},
          "execution_count": 95
        }
      ]
    },
    {
      "cell_type": "code",
      "metadata": {
        "id": "aDimIP5QsTOk"
      },
      "source": [
        "df[df.번지=='Feb-79']\n",
        "df[df.번지=='BL-4']\n",
        "df[df.번지=='BL-3']\n",
        "df[df.번지=='Jan-62']\n",
        "df[df.번지=='BL 25']\n",
        "df[df.번지=='02월 01일']"
      ],
      "execution_count": null,
      "outputs": []
    },
    {
      "cell_type": "code",
      "metadata": {
        "id": "x0yQVoVkuKoc"
      },
      "source": [
        "df.replace({'번지':'Oct-85'},{'번지':'856'}, inplace=True)\n",
        "df.replace({'번지':'Feb-65'},{'번지':'65-4'}, inplace=True)\n",
        "df.replace({'번지':'BL-4'},{'번지':'65-4'}, inplace=True)\n",
        "df.replace({'번지':'BL 84'},{'번지':'84'}, inplace=True)\n",
        "df.replace({'번지':'BL-1'},{'번지':'60'}, inplace=True)\n",
        "df.replace({'번지':'Jan-41'},{'번지':'41'}, inplace=True)\n",
        "df.replace({'번지':'BL-C1-6'},{'번지':'896'}, inplace=True)\n",
        "df.replace({'번지':'03월 24일'},{'번지':'24-3'}, inplace=True)\n",
        "df.replace({'번지':'가-883'},{'번지':'883'}, inplace=True)  # 송파힐스테이트(C1-1) -> 힐스테이트송파위례\n",
        "df.replace({'번지':'07월 13일'},{'번지':'643'}, inplace=True) # 금호어울림 -> 길음역금호어울림센터힐\n",
        "df.replace({'번지':'Aug-64'},{'번지':'159'}, inplace=True)  # 아크로 리버뷰 -> 아크로리버뷰신반포\n",
        "df.replace({'번지':'May-32'},{'번지':'1341'}, inplace=True)\n",
        "df.replace({'번지':'Jan-36'},{'번지':'903'}, inplace=True)\n",
        "df.replace({'번지':'Aug-48'},{'번지':'48-8'}, inplace=True) # 수유 프리미어엠 주상복합 도시형생활주택 -> 수유프리미어엠 (전용면적 23.40 이하)\n",
        "df.replace({'번지':'Jan-70'},{'번지':'1165'}, inplace=True) # 강서힐스테이트(화곡3주구) -> 강서힐스테이트\n",
        "df.replace({'번지':'BL-13'},{'번지':'748'}, inplace=True) # 마곡힐스테이트마스터(13단지) -> 마곡13단지힐스테이트마스터\n",
        "df.replace({'번지':'Jan-91'},{'번지':'508'}, inplace=True)  # e편한세상마포3차 -> e편한세상마포리버파크\n",
        "df.replace({'번지':'Jan-56'},{'번지':'1553'}, inplace=True) # 힐스테이트 금호 -> 힐스테이트서울숲리버\n",
        "df.replace({'번지':'BL-1-5'},{'번지':'897'}, inplace=True)  # 위례중앙푸르지오1단지 (BL5) -> 위례중앙푸르지오1단지 (16년 데이터만 존재)\n",
        "df.replace({'번지':'19-190'},{'번지':'372'}, inplace=True)  # 은평 신사 효성해링턴 플레이스 -> 응암역효성해링턴플레이스\n",
        "\n",
        "\n"
      ],
      "execution_count": 91,
      "outputs": []
    },
    {
      "cell_type": "code",
      "metadata": {
        "colab": {
          "base_uri": "https://localhost:8080/",
          "height": 49
        },
        "id": "Iuf6-Y7DvFIs",
        "outputId": "259e26da-0a3d-44bc-dc9e-b17b3755c511"
      },
      "source": [
        "df[df.번지=='19-190']"
      ],
      "execution_count": 92,
      "outputs": [
        {
          "output_type": "execute_result",
          "data": {
            "text/html": [
              "<div>\n",
              "<style scoped>\n",
              "    .dataframe tbody tr th:only-of-type {\n",
              "        vertical-align: middle;\n",
              "    }\n",
              "\n",
              "    .dataframe tbody tr th {\n",
              "        vertical-align: top;\n",
              "    }\n",
              "\n",
              "    .dataframe thead th {\n",
              "        text-align: right;\n",
              "    }\n",
              "</style>\n",
              "<table border=\"1\" class=\"dataframe\">\n",
              "  <thead>\n",
              "    <tr style=\"text-align: right;\">\n",
              "      <th></th>\n",
              "      <th>시군구</th>\n",
              "      <th>번지</th>\n",
              "      <th>단지명</th>\n",
              "      <th>전용면적(㎡)</th>\n",
              "      <th>거래금액(만원)</th>\n",
              "      <th>층</th>\n",
              "      <th>계약년월</th>\n",
              "      <th>계약일</th>\n",
              "      <th>분/입구분</th>\n",
              "      <th>해제사유발생일</th>\n",
              "      <th>지역</th>\n",
              "    </tr>\n",
              "  </thead>\n",
              "  <tbody>\n",
              "  </tbody>\n",
              "</table>\n",
              "</div>"
            ],
            "text/plain": [
              "Empty DataFrame\n",
              "Columns: [시군구, 번지, 단지명, 전용면적(㎡), 거래금액(만원), 층, 계약년월, 계약일, 분/입구분, 해제사유발생일, 지역]\n",
              "Index: []"
            ]
          },
          "metadata": {},
          "execution_count": 92
        }
      ]
    },
    {
      "cell_type": "code",
      "metadata": {
        "id": "mm9Y8r74vIK7"
      },
      "source": [
        "pd.set_option('display.max_rows', None)"
      ],
      "execution_count": 94,
      "outputs": []
    },
    {
      "cell_type": "code",
      "metadata": {
        "id": "IgZ4u-UKxzby"
      },
      "source": [
        ""
      ],
      "execution_count": null,
      "outputs": []
    }
  ]
}