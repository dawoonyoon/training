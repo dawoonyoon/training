{
  "cells": [
    {
      "cell_type": "code",
      "execution_count": null,
      "metadata": {
        "id": "9lvXC9AH6PkT"
      },
      "outputs": [],
      "source": [
        "import numpy as np"
      ]
    },
    {
      "cell_type": "code",
      "execution_count": null,
      "metadata": {
        "id": "I1T7gYRR6PkX"
      },
      "outputs": [],
      "source": [
        "# 학습할 데이터\n",
        "공부한시간 = [2, 4, 6, 8]\n",
        "성적 = [81, 93, 91, 97]"
      ]
    },
    {
      "cell_type": "code",
      "execution_count": null,
      "metadata": {
        "id": "q3WmgXGH6PkY"
      },
      "outputs": [],
      "source": [
        "# x와 y의 평균을 구하는 함수\n",
        "def getMean(x, y) :\n",
        "    a1 = np.mean(x)\n",
        "    a2 = np.mean(y)\n",
        "    \n",
        "    return a1, a2"
      ]
    },
    {
      "cell_type": "code",
      "execution_count": null,
      "metadata": {
        "id": "pBBIZG6w6PkZ"
      },
      "outputs": [],
      "source": [
        "# 분자를 구하는 함수\n",
        "# (x-x평균)(y - y평균)의 합\n",
        "def getDividend(x, y, x평균, y평균) :\n",
        "    \n",
        "    총합 = 0\n",
        "    \n",
        "    # 데이터의 만큼 반복한다.\n",
        "    for idx in range(len(x)) :\n",
        "        a1 = (x[idx] - x평균) * (y[idx] - y평균)\n",
        "        총합 = 총합 + a1\n",
        "    \n",
        "    return 총합"
      ]
    },
    {
      "cell_type": "code",
      "execution_count": null,
      "metadata": {
        "id": "GbrpngCW6PkZ"
      },
      "outputs": [],
      "source": [
        "# 분모를 구하는 함수\n",
        "# (x - x 평균)의 제곱의 합\n",
        "def getDevider(x, x평균) :\n",
        "    \n",
        "    총합 = 0\n",
        "    \n",
        "    for a1 in x :\n",
        "        a2 = (a1 - x평균) ** 2\n",
        "        총합 = 총합 + a2\n",
        "        \n",
        "    return 총합"
      ]
    },
    {
      "cell_type": "code",
      "execution_count": null,
      "metadata": {
        "id": "U9q7aRwz6Pka"
      },
      "outputs": [],
      "source": [
        "def getAB(분자, 분모, x평균, y평균) :\n",
        "    a = 분자 / 분모\n",
        "    b = y평균 - (x평균 * a)\n",
        "    \n",
        "    return a, b"
      ]
    },
    {
      "cell_type": "code",
      "execution_count": null,
      "metadata": {
        "id": "1qEzJgHZ6Pkb",
        "outputId": "822b78a1-2ec6-4276-eb59-634b059b06a1"
      },
      "outputs": [
        {
          "name": "stdout",
          "output_type": "stream",
          "text": [
            "5.0\n",
            "90.5\n"
          ]
        }
      ],
      "source": [
        "# x(공부한시간), y(성적)의 평균을 각각 구한다.\n",
        "공부시간평균, 성적평균 = getMean(공부한시간, 성적)\n",
        "print(공부시간평균)\n",
        "print(성적평균)"
      ]
    },
    {
      "cell_type": "code",
      "execution_count": null,
      "metadata": {
        "id": "wBvwER-U6Pkc",
        "outputId": "93889e29-8248-40a2-bae5-0a210ea37a1d"
      },
      "outputs": [
        {
          "name": "stdout",
          "output_type": "stream",
          "text": [
            "46.0\n"
          ]
        }
      ],
      "source": [
        "# 분자를 구한다.\n",
        "분자 = getDividend(공부한시간, 성적, 공부시간평균, 성적평균)\n",
        "print(분자)"
      ]
    },
    {
      "cell_type": "code",
      "execution_count": null,
      "metadata": {
        "id": "ZykJNkOk6Pkd",
        "outputId": "7b133a09-c98e-48d0-94db-794c5d7ea539"
      },
      "outputs": [
        {
          "name": "stdout",
          "output_type": "stream",
          "text": [
            "20.0\n"
          ]
        }
      ],
      "source": [
        "# 분모를 구한다.\n",
        "분모 = getDevider(공부한시간, 공부시간평균)\n",
        "print(분모)"
      ]
    },
    {
      "cell_type": "code",
      "execution_count": null,
      "metadata": {
        "id": "-_PyQaL26Pke",
        "outputId": "778018e5-68ea-4a47-d142-58cde3cb5148"
      },
      "outputs": [
        {
          "name": "stdout",
          "output_type": "stream",
          "text": [
            "2.3\n",
            "79.0\n"
          ]
        }
      ],
      "source": [
        "# 기울기와 절편을 구한다.\n",
        "기울기, 절편 = getAB(분자, 분모, 공부시간평균, 성적평균)\n",
        "print(기울기)\n",
        "print(절편)"
      ]
    },
    {
      "cell_type": "code",
      "execution_count": null,
      "metadata": {
        "id": "ihrmG13L6Pkf",
        "outputId": "adca9d46-6faf-41c0-9705-e7c1d33d2303"
      },
      "outputs": [
        {
          "name": "stdout",
          "output_type": "stream",
          "text": [
            "83.6\n",
            "88.2\n",
            "92.8\n",
            "97.4\n"
          ]
        }
      ],
      "source": [
        "# 예측 공부시간을 가져온다.\n",
        "for v1 in 공부한시간 :\n",
        "    예측성적 = (기울기 * v1) + 절편\n",
        "    print(예측성적)"
      ]
    },
    {
      "cell_type": "code",
      "execution_count": null,
      "metadata": {
        "id": "iD1YabwT6Pkf",
        "outputId": "06332daa-a2d1-4744-c27a-e243a5ae55d7"
      },
      "outputs": [
        {
          "data": {
            "text/plain": [
              "[81, 93, 91, 97]"
            ]
          },
          "execution_count": 12,
          "metadata": {},
          "output_type": "execute_result"
        }
      ],
      "source": [
        "성적"
      ]
    },
    {
      "cell_type": "code",
      "execution_count": null,
      "metadata": {
        "id": "toyUPmQ36Pkg"
      },
      "outputs": [],
      "source": [
        ""
      ]
    }
  ],
  "metadata": {
    "kernelspec": {
      "display_name": "Python 3",
      "language": "python",
      "name": "python3"
    },
    "language_info": {
      "codemirror_mode": {
        "name": "ipython",
        "version": 3
      },
      "file_extension": ".py",
      "mimetype": "text/x-python",
      "name": "python",
      "nbconvert_exporter": "python",
      "pygments_lexer": "ipython3",
      "version": "3.8.5"
    },
    "colab": {
      "name": "01_최소제곱법.ipynb",
      "provenance": []
    }
  },
  "nbformat": 4,
  "nbformat_minor": 0
}