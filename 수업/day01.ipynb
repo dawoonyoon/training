{
 "cells": [
  {
   "cell_type": "code",
   "execution_count": 4,
   "id": "136eb77c-13f0-493e-a4e4-6241c751e242",
   "metadata": {},
   "outputs": [
    {
     "name": "stdout",
     "output_type": "stream",
     "text": [
      "3\n",
      "5\n",
      "7\n",
      "9\n",
      "13\n"
     ]
    }
   ],
   "source": [
    "x = [1, 2, 3, 4, 6]\n",
    "\n",
    "# x*2 --> [1, 2, 3, 4, 6, 1, 2, 3, 4, 6]\n",
    "\n",
    "for i in x:\n",
    "    y = 2*i +1\n",
    "    print(y)\n",
    "    \n",
    "y = [2*i for i in x]"
   ]
  },
  {
   "cell_type": "code",
   "execution_count": 6,
   "id": "3d10bb8c-0001-45e1-8f62-ec7ba7a9c5ee",
   "metadata": {},
   "outputs": [
    {
     "name": "stdout",
     "output_type": "stream",
     "text": [
      "[3, 5, 7, 9, 13]\n",
      "[3, 5, 7, 9, 13]\n"
     ]
    }
   ],
   "source": [
    "y = []\n",
    "for i in x:\n",
    "    y.append(2*i + 1)\n",
    "print(y)\n",
    "\n",
    "y = [2*i | 1 for i in x]\n",
    "print(y)"
   ]
  },
  {
   "cell_type": "code",
   "execution_count": 7,
   "id": "a905fe29-9230-4c82-b355-52f963cbe31b",
   "metadata": {},
   "outputs": [
    {
     "name": "stdout",
     "output_type": "stream",
     "text": [
      "[ 3  5  7  9 11 15]\n"
     ]
    }
   ],
   "source": [
    "import numpy as np\n",
    "\n",
    "x = np.array([1, 2, 3, 4, 5, 7])\n",
    "y = 2*x + 1\n",
    "print(y)"
   ]
  },
  {
   "cell_type": "markdown",
   "id": "6899e313-b7f9-4a20-90df-f8dbb9c4a11f",
   "metadata": {},
   "source": [
    "# 1. 오차의 이해"
   ]
  },
  {
   "cell_type": "code",
   "execution_count": 15,
   "id": "2a561b8e-e293-47ff-ae04-e45a59b56ef7",
   "metadata": {},
   "outputs": [
    {
     "name": "stdout",
     "output_type": "stream",
     "text": [
      "0.4\n",
      "4.729999999999999\n"
     ]
    }
   ],
   "source": [
    "x = np.array([1, 2, 3, 4, 5])\n",
    "y = np.array([3, 6, 7, 9, 12])\n",
    "\n",
    "w = 2\n",
    "b = 1\n",
    "\n",
    "# MSE\n",
    "# np.sum((w*x + b - y)**2) / 5\n",
    "e1 = np.mean((w*x +b -y)**2)\n",
    "print(e1)\n",
    "\n",
    "w =3\n",
    "b = 0.1\n",
    "e2 = np.mean((w*x + b -y)**2)\n",
    "print(e2)"
   ]
  },
  {
   "cell_type": "markdown",
   "id": "7add9eb9-d4bd-47a4-8f0d-b253ec4b8aea",
   "metadata": {},
   "source": [
    "# 2. 행렬 기초"
   ]
  },
  {
   "cell_type": "code",
   "execution_count": 23,
   "id": "bfaddd2f-22e7-45c4-bda8-64580ba9478f",
   "metadata": {},
   "outputs": [
    {
     "name": "stdout",
     "output_type": "stream",
     "text": [
      "[[1 2 3]\n",
      " [4 5 6]\n",
      " [7 8 9]]\n",
      "[[15 25 35]\n",
      " [45 55 65]\n",
      " [75 85 95]]\n",
      "[[0 0 1]\n",
      " [1 0 0]\n",
      " [0 1 0]]\n",
      "[[18 28 41]\n",
      " [52 58 68]\n",
      " [78 96 98]]\n",
      "[[ 3  8]\n",
      " [21 32]]\n"
     ]
    }
   ],
   "source": [
    "a = np.array([         [1, 2, 3],\n",
    "                            [4, 5, 6],\n",
    "                            [7, 8, 9]\n",
    "              ])\n",
    "print(a)\n",
    "\n",
    "b = a * 10 + 5\n",
    "print(b)\n",
    "\n",
    "c = np.array([\n",
    "    [0, 0, 1],\n",
    "    [1, 0, 0],\n",
    "    [0, 1, 0]\n",
    "])\n",
    "print(c)\n",
    "\n",
    "d = a * c + b + 3\n",
    "print(d)\n",
    "\n",
    "a = np.array([[1, 2], [3, 4]])\n",
    "b = np.array([[3, 4], [7, 8]])\n",
    "print(a*b)"
   ]
  },
  {
   "cell_type": "markdown",
   "id": "a5c53956-46b3-46cf-a8cd-2145788071f1",
   "metadata": {},
   "source": [
    "# 행렬연산"
   ]
  },
  {
   "cell_type": "code",
   "execution_count": 28,
   "id": "99c6a533-1202-46eb-a3d5-018b38954054",
   "metadata": {},
   "outputs": [
    {
     "name": "stdout",
     "output_type": "stream",
     "text": [
      "[[1. 0. 0.]\n",
      " [0. 1. 0.]\n",
      " [0. 0. 1.]]\n",
      "[[5. 0. 0.]\n",
      " [0. 5. 0.]\n",
      " [0. 0. 5.]]\n"
     ]
    }
   ],
   "source": [
    "I = np.eye(3)\n",
    "print(I)\n",
    "\n",
    "b = 5 * a\n",
    "print(b)"
   ]
  },
  {
   "cell_type": "code",
   "execution_count": 29,
   "id": "062e78a6-5791-49d9-9989-5674ca5d0c63",
   "metadata": {},
   "outputs": [
    {
     "ename": "TypeError",
     "evalue": "Field elements must be 2- or 3-tuples, got '3'",
     "output_type": "error",
     "traceback": [
      "\u001b[1;31m---------------------------------------------------------------------------\u001b[0m",
      "\u001b[1;31mTypeError\u001b[0m                                 Traceback (most recent call last)",
      "\u001b[1;32m<ipython-input-29-a1219ecf1f29>\u001b[0m in \u001b[0;36m<module>\u001b[1;34m\u001b[0m\n\u001b[1;32m----> 1\u001b[1;33m a = np.array([1, 2],\n\u001b[0m\u001b[0;32m      2\u001b[0m                 [3, 4])\n\u001b[0;32m      3\u001b[0m \u001b[1;33m\u001b[0m\u001b[0m\n\u001b[0;32m      4\u001b[0m b = np.array([1, 2],\n\u001b[0;32m      5\u001b[0m                 \u001b[1;33m[\u001b[0m\u001b[1;36m3\u001b[0m\u001b[1;33m,\u001b[0m \u001b[1;36m4\u001b[0m\u001b[1;33m]\u001b[0m\u001b[1;33m,\u001b[0m\u001b[1;33m\u001b[0m\u001b[1;33m\u001b[0m\u001b[0m\n",
      "\u001b[1;31mTypeError\u001b[0m: Field elements must be 2- or 3-tuples, got '3'"
     ]
    }
   ],
   "source": [
    "a = np.array([1, 2],\n",
    "                [3, 4])\n",
    "\n",
    "b = np.array([1, 2],\n",
    "                [3, 4],\n",
    "                [7, 8])\n",
    "\n",
    "c = np.matmul(a, b) # 2by2 2by2 = 2by2\n",
    "print(c)"
   ]
  },
  {
   "cell_type": "code",
   "execution_count": 31,
   "id": "de92f600-36e3-47fe-8f06-23d50d46fd6d",
   "metadata": {},
   "outputs": [
    {
     "data": {
      "text/plain": [
       "array([[1., 2., 3.],\n",
       "       [4., 5., 6.],\n",
       "       [7., 8., 9.]])"
      ]
     },
     "execution_count": 31,
     "metadata": {},
     "output_type": "execute_result"
    }
   ],
   "source": [
    "a = np.array([[1, 2, 3], [4, 5, 6], [7, 8, 9]])\n",
    "np.matmul(I, a)  # 3by3 3by3 = 3by3\n"
   ]
  },
  {
   "cell_type": "markdown",
   "id": "074a5c60-b68b-47aa-a7d1-85098de3dfbb",
   "metadata": {},
   "source": [
    "# 역행렬"
   ]
  },
  {
   "cell_type": "code",
   "execution_count": 37,
   "id": "a2590436-e2a2-4959-8273-f7666e531288",
   "metadata": {},
   "outputs": [
    {
     "name": "stdout",
     "output_type": "stream",
     "text": [
      "[[-1.  1.]\n",
      " [ 2. -1.]]\n",
      "[[1. 0.]\n",
      " [0. 1.]]\n"
     ]
    }
   ],
   "source": [
    "a = np.array([[1, 1], \n",
    "                 [2, 1]])\n",
    "\n",
    "inv = np.linalg.inv(a)\n",
    "print(inv)\n",
    "\n",
    "print(np.matmul(inv, a))"
   ]
  },
  {
   "cell_type": "code",
   "execution_count": 38,
   "id": "04a3b081-a2dc-47f2-a97d-fbef11df039a",
   "metadata": {},
   "outputs": [
    {
     "name": "stdout",
     "output_type": "stream",
     "text": [
      "[[ 0.11111111 -0.22222222]\n",
      " [-0.22222222  1.44444444]]\n",
      "[[ 1.0000000e+00  0.0000000e+00]\n",
      " [-4.4408921e-16  1.0000000e+00]]\n"
     ]
    }
   ],
   "source": [
    "a = np.array([[13, 2], \n",
    "                 [2, 1]])\n",
    "\n",
    "inv = np.linalg.inv(a)\n",
    "print(inv)\n",
    "\n",
    "print(np.matmul(inv, a))"
   ]
  },
  {
   "cell_type": "markdown",
   "id": "6e44a20c-5d33-4ebb-9e99-9255145e31c6",
   "metadata": {},
   "source": [
    "# 역행렬을 이용한 최적해"
   ]
  },
  {
   "cell_type": "code",
   "execution_count": 42,
   "id": "5435e516-6d7c-459b-ad9d-f4684bf4910a",
   "metadata": {},
   "outputs": [
    {
     "name": "stdout",
     "output_type": "stream",
     "text": [
      "[[ 2.4]\n",
      " [-0.4]]\n"
     ]
    }
   ],
   "source": [
    "A = np.array([[1, 1], \n",
    "              [2, 1]])\n",
    "y = np.array([[2], \n",
    "              [4.4]]) \n",
    "\n",
    "inv = np.linalg.inv(A)\n",
    "W = np.matmul(inv, y)\n",
    "print(W)"
   ]
  },
  {
   "cell_type": "code",
   "execution_count": 45,
   "id": "d3e14064-786f-4e22-9f7f-b0dd22ba7483",
   "metadata": {},
   "outputs": [
    {
     "name": "stdout",
     "output_type": "stream",
     "text": [
      "2.4000000000000004\n",
      "-0.40000000000000036\n"
     ]
    }
   ],
   "source": [
    "w = W[0]\n",
    "b = W[1]\n",
    "print(w[0])\n",
    "print(b[0])"
   ]
  },
  {
   "cell_type": "code",
   "execution_count": 46,
   "id": "4422e108-3814-4285-83cb-65e6f8a4f6c6",
   "metadata": {},
   "outputs": [
    {
     "data": {
      "text/plain": [
       "(2.4000000000000004, -0.40000000000000036)"
      ]
     },
     "execution_count": 46,
     "metadata": {},
     "output_type": "execute_result"
    }
   ],
   "source": [
    "w = W[0][0]\n",
    "b = W[1][0]\n",
    "w, b"
   ]
  },
  {
   "cell_type": "code",
   "execution_count": 47,
   "id": "a206affb-b320-4cd3-8243-c493aa684113",
   "metadata": {},
   "outputs": [
    {
     "data": {
      "text/plain": [
       "(2.4000000000000004, -0.40000000000000036)"
      ]
     },
     "execution_count": 47,
     "metadata": {},
     "output_type": "execute_result"
    }
   ],
   "source": [
    "w = W[0, 0]\n",
    "b = W[1, 0]\n",
    "w, b"
   ]
  },
  {
   "cell_type": "code",
   "execution_count": 48,
   "id": "f8226812-7d35-45fb-b61c-bf142449f3a9",
   "metadata": {},
   "outputs": [
    {
     "name": "stdout",
     "output_type": "stream",
     "text": [
      "16.400000000000006\n"
     ]
    }
   ],
   "source": [
    "x = 7\n",
    "h = w * x + b\n",
    "print(h)"
   ]
  },
  {
   "cell_type": "code",
   "execution_count": 56,
   "id": "e8778849-e445-45d0-a0e0-20a406ee34a8",
   "metadata": {},
   "outputs": [
    {
     "name": "stdout",
     "output_type": "stream",
     "text": [
      "[14.  16.4 18.8 23.6]\n",
      "<class 'numpy.float64'>\n"
     ]
    }
   ],
   "source": [
    "x = np.array([6, 7, 8, 10])\n",
    "h = w * x + b\n",
    "print(h)\n",
    "print(type(w))"
   ]
  },
  {
   "cell_type": "code",
   "execution_count": 55,
   "id": "a8556e50-5888-43fb-9371-aac3822f2e90",
   "metadata": {},
   "outputs": [
    {
     "name": "stdout",
     "output_type": "stream",
     "text": [
      "[14.  16.4 18.8 23.6]\n",
      "<class 'numpy.ndarray'>\n"
     ]
    }
   ],
   "source": [
    "x = [6, 7, 8, 10]\n",
    "h = W[0] * x + b\n",
    "print(h)\n",
    "print(type(W[0]))"
   ]
  },
  {
   "cell_type": "code",
   "execution_count": 58,
   "id": "91754fbb-0107-4ec1-9789-fd4a03d1bfed",
   "metadata": {},
   "outputs": [
    {
     "name": "stdout",
     "output_type": "stream",
     "text": [
      "[[16.4]\n",
      " [18.8]\n",
      " [21.2]]\n"
     ]
    }
   ],
   "source": [
    "x = np.array([[7, 1],\n",
    "                 [8, 1],\n",
    "                 [9, 1]])\n",
    "\n",
    "h = np.matmul(x, W)\n",
    "print(h)"
   ]
  },
  {
   "cell_type": "markdown",
   "id": "59af7ff9-f640-4feb-aab3-db75055931c1",
   "metadata": {},
   "source": [
    "# 의사역행렬"
   ]
  },
  {
   "cell_type": "code",
   "execution_count": 63,
   "id": "4b2374bf-bb5b-4eb0-9919-66b3207c760f",
   "metadata": {},
   "outputs": [
    {
     "name": "stdout",
     "output_type": "stream",
     "text": [
      "[[-5.00000000e-01 -3.19189120e-16  5.00000000e-01]\n",
      " [ 1.33333333e+00  3.33333333e-01 -6.66666667e-01]]\n"
     ]
    },
    {
     "data": {
      "text/plain": [
       "array([[ 1.00000000e+00, -2.22044605e-16],\n",
       "       [-4.44089210e-16,  1.00000000e+00]])"
      ]
     },
     "execution_count": 63,
     "metadata": {},
     "output_type": "execute_result"
    }
   ],
   "source": [
    "a = np.array([[1,1],\n",
    "             [2,1],\n",
    "             [3,1]])\n",
    "y = np.array([[2], \n",
    "              [4],\n",
    "              [6.4]])\n",
    "\n",
    "pinv  = np.linalg.pinv(a)\n",
    "print(pinv)\n",
    "\n",
    "np.matmul(pinv, a)\n"
   ]
  },
  {
   "cell_type": "code",
   "execution_count": 74,
   "id": "75181c5c-92e1-4403-b0bd-e374a8046946",
   "metadata": {},
   "outputs": [
    {
     "name": "stdout",
     "output_type": "stream",
     "text": [
      "[[-5.00000000e-01 -3.19189120e-16  5.00000000e-01]\n",
      " [ 1.33333333e+00  3.33333333e-01 -6.66666667e-01]]\n",
      "[[ 2.2       ]\n",
      " [-0.26666667]]\n"
     ]
    }
   ],
   "source": [
    "a = np.array([[1,1],\n",
    "             [2,1],\n",
    "             [3,1]])\n",
    "y = np.array([[2], \n",
    "              [4],\n",
    "              [6.4]])\n",
    "\n",
    "y = np.array([2, 4, 6.4]).reshape(3, 1)\n",
    "y = np.array([2, 4, 6.4]).reshape(-1, 1)\n",
    "y = np.array([[2, 4, 6.4]]).T\n",
    "# y = np.array([2, 4, 6.4]).T  --> 이거 안됨!!!\n",
    "\n",
    "pinv  = np.linalg.pinv(a)\n",
    "print(pinv)\n",
    "\n",
    "np.matmul(pinv, a)\n",
    "\n",
    "W = np.matmul(pinv, y)\n",
    "print(W)"
   ]
  },
  {
   "cell_type": "code",
   "execution_count": 75,
   "id": "a617499d-8294-4177-9169-33ad9eb24afa",
   "metadata": {},
   "outputs": [
    {
     "name": "stdout",
     "output_type": "stream",
     "text": [
      "[[1 1]\n",
      " [2 1]\n",
      " [3 1]]\n",
      "0.008888888888888925\n"
     ]
    }
   ],
   "source": [
    "print(a)\n",
    "mse = np.mean((np.matmul(a, W) - y)**2)\n",
    "print(mse)"
   ]
  },
  {
   "cell_type": "markdown",
   "id": "62310078-24e2-4c18-90fc-f5642cd03715",
   "metadata": {},
   "source": [
    "# 택시비 추정하기"
   ]
  },
  {
   "cell_type": "markdown",
   "id": "4d874120-fcbb-4090-8f66-3ce69c401c3b",
   "metadata": {},
   "source": [
    "- a회사 : 1km 8000    2km 9200    3km 12000\n",
    "- b회사 : 1km 5000    2km 8500    3km 11900\n",
    "- 20km? \n"
   ]
  },
  {
   "cell_type": "code",
   "execution_count": 85,
   "id": "4662ac5e-d849-4c92-b894-551e19e8e4e0",
   "metadata": {},
   "outputs": [
    {
     "name": "stdout",
     "output_type": "stream",
     "text": [
      "[[2000.        ]\n",
      " [5733.33333333]]\n",
      "[[3000.        ]\n",
      " [2166.66666667]]\n"
     ]
    },
    {
     "data": {
      "text/plain": [
       "(array([[45733.33333333]]), array([[62166.66666667]]))"
      ]
     },
     "execution_count": 85,
     "metadata": {},
     "output_type": "execute_result"
    }
   ],
   "source": [
    "# 수학자\n",
    "# 문제 -> 수학적 모델링    ,    행렬식변화,    역행렬\n",
    "# 개발자 -> 코딩\n",
    "\n",
    "A = np.array([ [1, 1],\n",
    "                    [2, 1],\n",
    "                    [3, 1]])\n",
    "\n",
    "y_A = np.array([8000, 9200, 12000]).reshape(-1, 1)\n",
    "y_B = np.array([5000, 8500, 11000]).reshape(-1, 1)\n",
    "\n",
    "pinv = np.linalg.pinv(A)\n",
    "\n",
    "W_A = np.matmul(    pinv,    y_A    )\n",
    "W_B = np.matmul(    pinv,    y_B    )\n",
    "print(W_A)\n",
    "print(W_B)\n",
    "\n",
    "x = np.array([[20, 1]])\n",
    "np.matmul(x, W_A), np.matmul(x, W_B)\n",
    "\n",
    "#  2000x + 5733 = 3000x + 2166"
   ]
  },
  {
   "cell_type": "markdown",
   "id": "3664ca85-aa6d-4e22-ab67-84877dbbbedc",
   "metadata": {},
   "source": [
    "[이자율, 실업률]  -  주가\n",
    "\n",
    "- [3.4, 1.5 ... ]  1900\n",
    "- [2.1, 2.5 ... ]  1700\n",
    "\n",
    "y = w1*이자율 + w2*실업률 + b\n",
    "\n",
    "- [3.4  1.5  1]        1900\n",
    "- [2.1  2.5  1] -1    1700\n",
    "- [3.4  2.1  1]        1500\n",
    "- [1.7  2.4  1]        1000\n",
    "\n",
    "- (4x3)-1 * 4*1\n",
    "- (3x4)  (4x1)  =  3x1"
   ]
  },
  {
   "cell_type": "markdown",
   "id": "98c3f75c-070f-4865-be10-09d6fbfe3d5f",
   "metadata": {},
   "source": [
    "# 주가 분석"
   ]
  },
  {
   "cell_type": "code",
   "execution_count": null,
   "id": "3785c1d9-c457-4b81-b578-23523fde0dd6",
   "metadata": {},
   "outputs": [],
   "source": [
    "[이자율, 실업률]   -  주가\n",
    "\n",
    "[3.4,  1.5   .. ] 1900\n",
    "[2.1,  2.5   .. ] 1700\n",
    "y = w1*이자율 + w2*실업률 + b*1\n",
    "\n",
    "[3.4 1.5 1]          1900\n",
    "[2.1 2.5 1] -1       1700\n",
    "[3.4 2.1 1]          1500\n",
    "[1.7 2.4 1]          1000\n",
    "\n",
    "(4x3)-1 * 4*1 \n",
    "(3x4) (4x1) = 3x1"
   ]
  },
  {
   "cell_type": "code",
   "execution_count": null,
   "id": "b0d1923e-9403-4737-af71-452dfeb413aa",
   "metadata": {},
   "outputs": [],
   "source": [
    "# 이자율, 실업률\n",
    "ir  = [2.75,2.5,2.5,2.5,2.5,2.5,2.5,2.25,2.25,2.25,2,2,2,1.75,1.75,1.75,1.75,1.75,1.75,1.75,1.75,1.75,1.75,1.75],\n",
    "ur =  [5.3,5.3,5.3,5.3,5.4,5.6,5.5,5.5,5.5,5.6,5.7,5.9,6,5.9,5.8,6.1,6.2,6.1,6.1,6.1,5.9,6.2,6.2,6.1]\n",
    "y = [1464,1394,1357,1293,1256,1254,1234,1195,1159,1167,1130,1075,1047,965,943,958,971,949,884,866,876,822,704,719]     \n",
    "\n",
    "\n",
    "이자율 4.5%, 실업률 2.1일때 주가는?\n"
   ]
  },
  {
   "cell_type": "code",
   "execution_count": 114,
   "id": "99906413-07a7-4b26-a8c1-2a0eb800e6b5",
   "metadata": {},
   "outputs": [
    {
     "name": "stdout",
     "output_type": "stream",
     "text": [
      "[[ 345.54008701]\n",
      " [-250.14657137]\n",
      " [1798.40397763]]\n"
     ]
    },
    {
     "data": {
      "text/plain": [
       "array([[2828.0265693]])"
      ]
     },
     "execution_count": 114,
     "metadata": {},
     "output_type": "execute_result"
    }
   ],
   "source": [
    "A = np.hstack((np.array(ir).reshape(-1,1), \n",
    "               np.array(ur).reshape(-1,1), \n",
    "               np.ones((24,1))  ))\n",
    "W = np.matmul(np.linalg.pinv(A), np.array(y).reshape(-1,1))\n",
    "print(W)\n",
    "X = [[4.5, 2.1, 1]]\n",
    "np.matmul(X, W)"
   ]
  },
  {
   "cell_type": "code",
   "execution_count": 115,
   "id": "2c632fae-f43c-4fed-8728-49b13dad8240",
   "metadata": {},
   "outputs": [
    {
     "name": "stderr",
     "output_type": "stream",
     "text": [
      "<ipython-input-115-6f50001621cf>:6: VisibleDeprecationWarning: Creating an ndarray from ragged nested sequences (which is a list-or-tuple of lists-or-tuples-or ndarrays with different lengths or shapes) is deprecated. If you meant to do this, you must specify 'dtype=object' when creating the ndarray.\n",
      "  A = np.array(A).T\n"
     ]
    }
   ],
   "source": [
    "# 이자율, 실업률\n",
    "\n",
    "A =  [ [2.75,2.5,2.5,2.5,2.5,2.5,2.5,2.25,2.25,2.25,2,2,2,1.75,1.75,1.75,1.75,1.75,1.75,1.75,1.75,1.75,1.75,1.75],\n",
    "       [5.3,5.3,5.3,5.3,5.4,5.6,5.5,5.5,5.5,5.6,5.7,5.9,6,5.9,5.8,6.1,6.2,6.1,6.1,6.1,5.9,6.2,6.2,6.1],\n",
    "       [1,1,1,1,1,1,1,1,1,1,1,1,1,1,1,1,1,1,1,1,1,1,1,1,1,1,1]]\n",
    "A = np.array(A).T\n",
    "y = [1464,1394,1357,1293,1256,1254,1234,1195,1159,1167,1130,1075,1047,965,943,958,971,949,884,866,876,822,704,719]     \n",
    "y = np.array(y).reshape(-1, 1)"
   ]
  },
  {
   "cell_type": "markdown",
   "id": "7287c79d-f776-47fa-9b4f-ebc9efb424ed",
   "metadata": {},
   "source": [
    "# 미분"
   ]
  },
  {
   "cell_type": "code",
   "execution_count": 118,
   "id": "452ce715-be93-46d7-ad07-49f5d878425e",
   "metadata": {},
   "outputs": [
    {
     "name": "stdout",
     "output_type": "stream",
     "text": [
      "[4, 5, 6, 10]\n",
      "[1, 1, 4]\n"
     ]
    }
   ],
   "source": [
    "a = [4, 5, 6, 10]\n",
    "b = [5-4, 6-5,  10-6]\n",
    "print(a)\n",
    "print(b)"
   ]
  },
  {
   "cell_type": "code",
   "execution_count": 120,
   "id": "f2e22aad-0854-4de2-9743-e17e279803ba",
   "metadata": {},
   "outputs": [
    {
     "data": {
      "text/plain": [
       "4.000000000559112"
      ]
     },
     "execution_count": 120,
     "metadata": {},
     "output_type": "execute_result"
    }
   ],
   "source": [
    "def f(x):\n",
    "    return 4*x + 7\n",
    "\n",
    "x = 0\n",
    "dx = 0.000001\n",
    "(f(x+dx) - f(x) ) / dx\n",
    "\n",
    "def df(x):\n",
    "    dx = 0.000001\n",
    "    return (f(x+dx) - f(x) ) / dx\n",
    "\n",
    "df(1)"
   ]
  },
  {
   "cell_type": "code",
   "execution_count": 122,
   "id": "6531dbd3-f1e9-4f21-a441-e940b5f7cc9c",
   "metadata": {},
   "outputs": [
    {
     "data": {
      "text/plain": [
       "(195, 60.00000399808414)"
      ]
     },
     "execution_count": 122,
     "metadata": {},
     "output_type": "execute_result"
    }
   ],
   "source": [
    "def f2(x):\n",
    "    return 4*x**2 + 20*x -5\n",
    "\n",
    "def df2(x):\n",
    "    dx = 0.000001\n",
    "    return (f2(x+dx) - f2(x) ) / dx\n",
    "\n",
    "f2(5), df2(5)"
   ]
  },
  {
   "cell_type": "code",
   "execution_count": 124,
   "id": "6245f3c6-bd55-416a-a5fc-83c2b4e34449",
   "metadata": {},
   "outputs": [
    {
     "data": {
      "text/plain": [
       "5.000000001587068"
      ]
     },
     "execution_count": 124,
     "metadata": {},
     "output_type": "execute_result"
    }
   ],
   "source": [
    "def df_g(f, x):\n",
    "    dx = 0.000001\n",
    "    return (f(x+dx) - f(x) ) / dx\n",
    "\n",
    "def fun1(x):\n",
    "    return 5*x + 7\n",
    "\n",
    "df_g(fun1, 6)"
   ]
  },
  {
   "cell_type": "code",
   "execution_count": 125,
   "id": "52c44fb2-a8e9-47e2-9b34-f3c19e6758f0",
   "metadata": {},
   "outputs": [],
   "source": [
    "def sig(x):\n",
    "    return 1 / (1 + np.exp(-x))\n",
    "\n",
    "                 1\n",
    "        -----------------\n",
    "           1 + exp(-x)"
   ]
  },
  {
   "cell_type": "code",
   "execution_count": null,
   "id": "9a53938b-c0e7-4dc6-a83a-1990499a74f6",
   "metadata": {},
   "outputs": [],
   "source": [
    "x = 0               1 / (1 + exp(-0)  )  =  1 / (1 + 1) = 0.5\n",
    "x = inf             1/ (1 + exp(-inf)  )  =  1 / (1 + 0) = 1\n",
    "x = -inf           1/ (1 + exp(inf)  )  =  1 / 무한대  = 0 "
   ]
  },
  {
   "cell_type": "code",
   "execution_count": 127,
   "id": "adae3ef4-29f1-41f8-ba64-eece0e47e8a4",
   "metadata": {},
   "outputs": [
    {
     "data": {
      "text/plain": [
       "0.0"
      ]
     },
     "execution_count": 127,
     "metadata": {},
     "output_type": "execute_result"
    }
   ],
   "source": [
    "df_g(sig, 100000)"
   ]
  },
  {
   "cell_type": "code",
   "execution_count": null,
   "id": "ae3b3cca-573e-4ae3-b3c2-f6f538a5ff17",
   "metadata": {},
   "outputs": [],
   "source": [
    "z = (7x1 + 4x2 - 6)^2"
   ]
  },
  {
   "cell_type": "markdown",
   "id": "c6840566-5720-45ae-a214-d07bd39fd1e6",
   "metadata": {},
   "source": [
    "# 합성함수 미분\n",
    "- (4x + 7)^2   ->    z = sx+7             2(4x+7)4"
   ]
  },
  {
   "cell_type": "code",
   "execution_count": null,
   "id": "cba03011-3781-4797-a54e-16f9feb27db3",
   "metadata": {},
   "outputs": [],
   "source": [
    " MSE = sum (wx + b - y)^2\n",
    "\n",
    " z = wx + b - y\n",
    "\n",
    "MSE/dw =  2zx = 2(wx+b-y)x\n",
    "MSE/db =  2z1 = 2(wx+b-y)\n",
    "\n",
    "(wx+b-y)*x = 0\n",
    "(wx+b-y) = 0\n",
    "\n"
   ]
  }
 ],
 "metadata": {
  "kernelspec": {
   "display_name": "Python 3",
   "language": "python",
   "name": "python3"
  },
  "language_info": {
   "codemirror_mode": {
    "name": "ipython",
    "version": 3
   },
   "file_extension": ".py",
   "mimetype": "text/x-python",
   "name": "python",
   "nbconvert_exporter": "python",
   "pygments_lexer": "ipython3",
   "version": "3.8.8"
  }
 },
 "nbformat": 4,
 "nbformat_minor": 5
}
