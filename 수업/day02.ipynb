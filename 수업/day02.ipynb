{
 "cells": [
  {
   "cell_type": "code",
   "execution_count": 3,
   "id": "47578abc-0ab7-47ec-a363-6182b9229b0b",
   "metadata": {},
   "outputs": [],
   "source": [
    "import numpy as np"
   ]
  },
  {
   "cell_type": "markdown",
   "id": "f60b403e-8d88-4411-9272-604cc43aee65",
   "metadata": {},
   "source": [
    "# 오차 최적화"
   ]
  },
  {
   "cell_type": "code",
   "execution_count": null,
   "id": "71fe9918-9b19-4244-a071-f1fa0485faea",
   "metadata": {},
   "outputs": [],
   "source": [
    "MSE = np.mean ((wx + b - y)**2)"
   ]
  },
  {
   "cell_type": "code",
   "execution_count": null,
   "id": "07505b8c-aac4-4f43-b5d2-d16f2aba932f",
   "metadata": {},
   "outputs": [],
   "source": [
    "h = wx "
   ]
  },
  {
   "cell_type": "code",
   "execution_count": null,
   "id": "db1cbdc6-494b-4742-9425-05b4e4c0ad20",
   "metadata": {},
   "outputs": [],
   "source": [
    "x = [1]\n",
    "y = [2]        # y = 2x\n",
    "\n",
    "MSE  =  (wx - y) **2\n",
    "MSE' = (wx-y)*x\n",
    "\n",
    "(w1 - 2)1 = 0\n",
    "w -2 = 0\n",
    "w = 2\n"
   ]
  },
  {
   "cell_type": "code",
   "execution_count": null,
   "id": "c1a7a93b-3d12-43a9-9250-bdf62aea9327",
   "metadata": {},
   "outputs": [],
   "source": [
    "x = [1, 2]\n",
    "y = [2, 4]\n",
    "\n",
    "MSE  =  (wx - y) **2\n",
    "MSE' = (wx-y)*x\n",
    "\n",
    "(w1 - 2)1 = 0\n",
    "w -2 = 0\n",
    "w = 2\n",
    "\n",
    "(w2 - 4)*2 = 0\n",
    "2w = 4"
   ]
  },
  {
   "cell_type": "code",
   "execution_count": null,
   "id": "7bfa2b0f-1ff5-4c2b-81b2-4344ab723e73",
   "metadata": {},
   "outputs": [],
   "source": [
    "x = [1, 2]\n",
    "y = [2, 4.1]\n",
    "\n",
    "w1 - 2 = 0\n",
    "(w*2 - 4.1)2 = 0\n",
    "\n",
    "w - 2  = 0\n",
    "2w - 4.1 = 0\n",
    "3w - 6.1 = 0\n",
    "\n",
    "3w = 6.1\n",
    "w = 2.05"
   ]
  },
  {
   "cell_type": "code",
   "execution_count": null,
   "id": "44a1f523-75a6-4333-9564-59f8912b5abd",
   "metadata": {},
   "outputs": [],
   "source": [
    "x = [1]    # 2x + 1\n",
    "y = [3]\n",
    "\n",
    "MSE = sum(wx + b - y)**2\n",
    "MSE/dw = 2(wx+b-y)x\n",
    "MSE/db = 2(wx+b-y)1\n",
    "\n",
    "w*1 + b - 3 = 0\n",
    "w*1 + b - 3 = 0"
   ]
  },
  {
   "cell_type": "code",
   "execution_count": null,
   "id": "43be5922-4f5b-4922-8157-e95987357f97",
   "metadata": {},
   "outputs": [],
   "source": [
    "x = [1, 2, 3]    # 2x + 1\n",
    "y = [3, 5, 8]\n",
    "\n",
    "MSE = 2sum(wx + b - y)**2\n",
    "MSE/dw = 2sum(wx+b-y)x = 0\n",
    "MSE/db = 2sum(wx+b-y)1 = 0\n",
    "\n",
    "[  ( w*1 + b - 3)*1 + (w*2 +b -5)*2 + (w*3 + b - 8)*3  ] = 0\n",
    "[  ( w*1 + b - 3)*1 + (w*2 +b -5)*1 + (w*3 + b - 8)*1  ] = 0\n",
    "\n",
    "\n",
    "[ sum (x^2)  sum (x) ]    [w]  =  [ sum(x*y)]\n",
    "[ sum (x)      n ]           [b]  =   [ sum(y)]"
   ]
  },
  {
   "cell_type": "markdown",
   "id": "cf40f099-5fcf-4f4d-9d8d-4508be2f6d95",
   "metadata": {},
   "source": [
    "$ E = \\sum (wx+b - y)^2 $ <br>\n",
    "$ {E \\over \\partial w} = \\sum (wx+b - y)x $ <br>\n",
    "$ {E \\over \\partial b} = \\sum (wx+b - y)1 $"
   ]
  },
  {
   "cell_type": "markdown",
   "id": "4ec9acb8-e7eb-4332-add3-13e374f79e89",
   "metadata": {},
   "source": [
    "# 최소자승법"
   ]
  },
  {
   "cell_type": "code",
   "execution_count": 12,
   "id": "6b3c87c1-2fac-4017-939c-be458eefdb3c",
   "metadata": {},
   "outputs": [
    {
     "name": "stdout",
     "output_type": "stream",
     "text": [
      "[[14  6]\n",
      " [ 6  3]]\n"
     ]
    },
    {
     "data": {
      "text/plain": [
       "array([[2.5       ],\n",
       "       [0.33333333]])"
      ]
     },
     "execution_count": 12,
     "metadata": {},
     "output_type": "execute_result"
    }
   ],
   "source": [
    "x = np.array([1, 2, 3])\n",
    "y = np.array([3, 5, 8])\n",
    "\n",
    "x_ = np.sum(x)\n",
    "xy_ = np.sum(x*y)\n",
    "y_ = np.sum(y)\n",
    "x2_ = np.sum(x**2)\n",
    "n = x.size    # len(x)\n",
    "\n",
    "x_, xy_, y_, x2_, n\n",
    "\n",
    "A = np.array([[x2_, x_],\n",
    "                 [x_, n]])\n",
    "\n",
    "Y = np.array([[xy_],\n",
    "                 [y_]])\n",
    "\n",
    "print(A)\n",
    "np.matmul(np.linalg.inv(A), Y)"
   ]
  },
  {
   "cell_type": "markdown",
   "id": "f827d2e3-19e1-4292-85e1-853f8706f951",
   "metadata": {},
   "source": [
    "# 뉴턴 알고리즘"
   ]
  },
  {
   "cell_type": "code",
   "execution_count": 14,
   "id": "281c9e8e-2611-45ac-9ec7-49fe9b6fa742",
   "metadata": {},
   "outputs": [
    {
     "name": "stdout",
     "output_type": "stream",
     "text": [
      "0.25\n",
      "-0.4305555555555556\n",
      "-0.5781096361848574\n",
      "-0.5857657140599267\n",
      "-0.585786437475068\n",
      "-0.585786437626905\n",
      "-0.585786437626905\n",
      "-0.585786437626905\n",
      "-0.585786437626905\n",
      "-0.585786437626905\n"
     ]
    }
   ],
   "source": [
    "def fun(x):\n",
    "    return x**2 + 4*x + 2\n",
    "\n",
    "def d_fun(x):\n",
    "    return 2*x + 4\n",
    "\n",
    "x = 2\n",
    "\n",
    "for i in range(10):\n",
    "    x = x - fun(x) / d_fun(x)\n",
    "    print(x)"
   ]
  },
  {
   "cell_type": "code",
   "execution_count": 15,
   "id": "9af7effd-a6d8-4102-bacd-2ac62d77b59a",
   "metadata": {},
   "outputs": [
    {
     "name": "stdout",
     "output_type": "stream",
     "text": [
      "6.6899999999999995\n",
      "4.512134420410477\n",
      "3.1226970312253886\n",
      "2.3210839076676133\n",
      "1.980496173212574\n",
      "1.9152099630795483\n",
      "1.912933893065386\n",
      "1.912931182776229\n",
      "1.9129311827723892\n",
      "1.9129311827723892\n"
     ]
    }
   ],
   "source": [
    "def fun(x):\n",
    "    return x**3 - 7\n",
    "\n",
    "def d_fun(x):\n",
    "    return 3*x**2\n",
    "\n",
    "x = 10\n",
    "\n",
    "for i in range(10):\n",
    "    x = x - fun(x) / d_fun(x)\n",
    "    print(x)"
   ]
  },
  {
   "cell_type": "code",
   "execution_count": 17,
   "id": "469ccf09-8ae8-458d-8bc1-c5bdbe680358",
   "metadata": {},
   "outputs": [
    {
     "name": "stdout",
     "output_type": "stream",
     "text": [
      "4.940137608529473\n",
      "2.394004808672576\n",
      "1.2023518985804262\n",
      "0.7142230770685525\n",
      "0.5574045420660778\n",
      "0.5358554454565511\n",
      "0.5354284121781767\n",
      "0.5354282441646829\n",
      "0.5354282441646568\n",
      "0.535428244164657\n",
      "0.5354282441646568\n",
      "0.535428244164657\n",
      "0.5354282441646568\n",
      "0.535428244164657\n",
      "0.5354282441646568\n",
      "0.535428244164657\n",
      "0.5354282441646568\n",
      "0.535428244164657\n",
      "0.5354282441646568\n",
      "0.535428244164657\n"
     ]
    }
   ],
   "source": [
    "# cos(x) -3x^2 = 0\n",
    "\n",
    "def fun(x):\n",
    "    return np.cos(x) - 3*x**2\n",
    "\n",
    "def d_fun(x):\n",
    "    return - np.sin(x) - 6*x\n",
    "\n",
    "x = 10\n",
    "\n",
    "for i in range(20):\n",
    "    x = x - fun(x) / d_fun(x)\n",
    "    print(x)"
   ]
  },
  {
   "cell_type": "code",
   "execution_count": 20,
   "id": "a62c0a59-f325-4744-9871-2e038822d355",
   "metadata": {},
   "outputs": [
    {
     "name": "stdout",
     "output_type": "stream",
     "text": [
      "4.940139804426448\n",
      "2.3940087876499336\n",
      "1.2023556444625911\n",
      "0.7142264098629545\n",
      "0.5574063289439783\n",
      "0.5358557040603139\n",
      "0.5354284163152069\n",
      "0.5354282441662703\n",
      "0.535428244164657\n",
      "0.5354282441646568\n",
      "0.535428244164657\n",
      "0.5354282441646568\n",
      "0.535428244164657\n",
      "0.5354282441646568\n",
      "0.535428244164657\n",
      "0.5354282441646568\n",
      "0.535428244164657\n",
      "0.5354282441646568\n",
      "0.535428244164657\n",
      "0.5354282441646568\n"
     ]
    }
   ],
   "source": [
    "# cos(x) -3x^2 = 0\n",
    "\n",
    "def fun(x):\n",
    "    return np.cos(x) - 3*x**2\n",
    "\n",
    "def d_fun(f, x):\n",
    "    return     ( f(x + 10e-6)  -  f(x))   /  (10e-6)\n",
    "\n",
    "x = 10\n",
    "\n",
    "for i in range(20):\n",
    "    x = x - fun(x) / d_fun(fun, x)\n",
    "    print(x)"
   ]
  },
  {
   "cell_type": "code",
   "execution_count": null,
   "id": "bb19377c-cee8-4141-a094-a07b83a53aae",
   "metadata": {},
   "outputs": [],
   "source": [
    "f(x1) + f' (x1)x2 - f'(x1)x1 = 0    #  x 가 x2인 지점에서 0\n",
    "\n",
    "f'(x1)x2 "
   ]
  },
  {
   "cell_type": "code",
   "execution_count": 33,
   "id": "8d3f28dd-1b97-494a-8b1a-d3530f28189b",
   "metadata": {},
   "outputs": [],
   "source": [
    "from scipy.stats import norm\n",
    "from scipy.stats import ttest_1samp\n",
    "# from scipy.stats import \n",
    "import matplotlib.pyplot as plt"
   ]
  },
  {
   "cell_type": "markdown",
   "id": "03dab081-5715-434c-a915-9000e21c7e75",
   "metadata": {},
   "source": [
    "# 통계 기초"
   ]
  },
  {
   "cell_type": "code",
   "execution_count": 22,
   "id": "92141c50-dc93-4e1d-8d2e-ab93199fde7a",
   "metadata": {},
   "outputs": [
    {
     "data": {
      "text/plain": [
       "(63.75, 11.086778913041726)"
      ]
     },
     "execution_count": 22,
     "metadata": {},
     "output_type": "execute_result"
    }
   ],
   "source": [
    "s = [70, 60, 50, 75]\n",
    "np.mean(s), np.std(s, ddof=1)    #  sum(x - mu)\n"
   ]
  },
  {
   "cell_type": "code",
   "execution_count": 30,
   "id": "2cc84015-ddc9-4532-89cc-7c1e1931d240",
   "metadata": {},
   "outputs": [
    {
     "name": "stdout",
     "output_type": "stream",
     "text": [
      "0.07978845608028654\n",
      "0.5\n"
     ]
    }
   ],
   "source": [
    "n_1 = norm(70, 5)\n",
    "print(n_1.pdf(70))\n",
    "print(n_1.cdf(70))    #  -inf  ~  70    cdf 는 pdf를 누적한 것 맞는지 확인!!!"
   ]
  },
  {
   "cell_type": "code",
   "execution_count": 31,
   "id": "2f4e1dc3-3dff-4251-a29e-1640cea8dcf1",
   "metadata": {},
   "outputs": [
    {
     "data": {
      "text/plain": [
       "0.9544997361036416"
      ]
     },
     "execution_count": 31,
     "metadata": {},
     "output_type": "execute_result"
    }
   ],
   "source": [
    "# 점수가 60 ~ 80 사이일 확률\n",
    "n_1.cdf(80) - n_1.cdf(60)"
   ]
  },
  {
   "cell_type": "code",
   "execution_count": 32,
   "id": "060a5aac-9856-40ba-b9f1-0c7d6c134906",
   "metadata": {},
   "outputs": [
    {
     "data": {
      "text/plain": [
       "0.6826894921370859"
      ]
     },
     "execution_count": 32,
     "metadata": {},
     "output_type": "execute_result"
    }
   ],
   "source": [
    "# 점수가 65 ~ 75 사이일 확률\n",
    "n_1.cdf(75) - n_1.cdf(65)"
   ]
  },
  {
   "cell_type": "code",
   "execution_count": 29,
   "id": "b3f82ab9-4698-41a4-a76e-13b9fbcb52a3",
   "metadata": {},
   "outputs": [
    {
     "name": "stdout",
     "output_type": "stream",
     "text": [
      "[0.04839414 0.05793831 0.06664492 0.07365403 0.07820854 0.07978846\n",
      " 0.07820854 0.07365403 0.06664492 0.05793831]\n"
     ]
    }
   ],
   "source": [
    "x = [65, 66, 67, 68, 69, 70, 71, 72, 73, 74]\n",
    "\n",
    "y = n_1.pdf(x)\n",
    "print(y)"
   ]
  },
  {
   "cell_type": "code",
   "execution_count": 24,
   "id": "762a31be-b964-4650-849f-5d3e0f7baa51",
   "metadata": {},
   "outputs": [],
   "source": [
    "n = norm(np.mean(s), np.std(s))"
   ]
  },
  {
   "cell_type": "markdown",
   "id": "ecb7da4f-79bd-444e-8168-e20869ce6c60",
   "metadata": {},
   "source": [
    "- 확률밀도 함수의 값은 확률이 아니다.\n",
    "- 구간에서는 확율을 의미한다."
   ]
  },
  {
   "cell_type": "code",
   "execution_count": 37,
   "id": "7db3ccde-4150-4738-91be-61c3b41c9c68",
   "metadata": {},
   "outputs": [
    {
     "data": {
      "text/plain": [
       "array([-4., -3., -2., -1.,  0.,  1.,  2.,  3.,  4.])"
      ]
     },
     "execution_count": 37,
     "metadata": {},
     "output_type": "execute_result"
    }
   ],
   "source": [
    "np.linspace( -4, 4, 9)"
   ]
  },
  {
   "cell_type": "code",
   "execution_count": 39,
   "id": "749bc3d1-4661-4e4f-9b84-62cb3d9a9f3e",
   "metadata": {},
   "outputs": [
    {
     "data": {
      "text/plain": [
       "[<matplotlib.lines.Line2D at 0x211f0d2f520>]"
      ]
     },
     "execution_count": 39,
     "metadata": {},
     "output_type": "execute_result"
    },
    {
     "data": {
      "image/png": "[encoded data removed]",
      "text/plain": [
       "<Figure size 432x288 with 1 Axes>"
      ]
     },
     "metadata": {
      "needs_background": "light"
     },
     "output_type": "display_data"
    }
   ],
   "source": [
    "n_1 = norm(70, 20)\n",
    "x = np.linspace(20, 100, 500)\n",
    "y = n_1.pdf(x)\n",
    "plt.plot(y)"
   ]
  },
  {
   "cell_type": "code",
   "execution_count": 40,
   "id": "ab0aa773-d69f-450d-83b9-868e52ee29a7",
   "metadata": {},
   "outputs": [
    {
     "data": {
      "text/plain": [
       "[<matplotlib.lines.Line2D at 0x211f0d931f0>]"
      ]
     },
     "execution_count": 40,
     "metadata": {},
     "output_type": "execute_result"
    },
    {
     "data": {
      "image/png": "[encoded data removed]",
      "text/plain": [
       "<Figure size 432x288 with 1 Axes>"
      ]
     },
     "metadata": {
      "needs_background": "light"
     },
     "output_type": "display_data"
    }
   ],
   "source": [
    "mu = 70\n",
    "sigma = 5\n",
    "x = np.linspace(40, 100, 1000)\n",
    "y = (1 / np.sqrt(2 * np.pi * sigma ** 2)) * np.exp(-(x-mu)**2 / (2 * sigma**2))\n",
    "\n",
    "plt.plot(x, y)"
   ]
  },
  {
   "cell_type": "markdown",
   "id": "3aaeb2bf-130f-476c-bd4b-d99f0993ff67",
   "metadata": {},
   "source": [
    "# 표준정규분포"
   ]
  },
  {
   "cell_type": "code",
   "execution_count": 43,
   "id": "23d09bb6-3719-47ad-a664-032b3ef74722",
   "metadata": {},
   "outputs": [
    {
     "name": "stdout",
     "output_type": "stream",
     "text": [
      "0.19947114020071635\n"
     ]
    },
    {
     "data": {
      "text/plain": [
       "0.3989422804014327"
      ]
     },
     "execution_count": 43,
     "metadata": {},
     "output_type": "execute_result"
    }
   ],
   "source": [
    "n_1 = norm(70, 2)\n",
    "print(n_1.pdf(70))\n",
    "\n",
    "n = norm(0, 1)\n",
    "n.pdf(0)"
   ]
  },
  {
   "cell_type": "code",
   "execution_count": 44,
   "id": "324c39a6-8ef6-4fef-914d-6b4191f71021",
   "metadata": {},
   "outputs": [
    {
     "data": {
      "text/plain": [
       "0.9500150944608786"
      ]
     },
     "execution_count": 44,
     "metadata": {},
     "output_type": "execute_result"
    }
   ],
   "source": [
    "# 전체의 95%,   한 쪽이 5%   양 쪽 10%,    따라서 전체는 보면 90%\n",
    "n.cdf(1.645)    "
   ]
  },
  {
   "cell_type": "code",
   "execution_count": 45,
   "id": "835c7c22-354d-4535-9344-3a0e1db2fdbb",
   "metadata": {},
   "outputs": [
    {
     "data": {
      "text/plain": [
       "0.9750021048517795"
      ]
     },
     "execution_count": 45,
     "metadata": {},
     "output_type": "execute_result"
    }
   ],
   "source": [
    "n.cdf(1.96)"
   ]
  },
  {
   "cell_type": "code",
   "execution_count": 46,
   "id": "e6252589-7a0d-4387-9b22-bb4c728d86da",
   "metadata": {},
   "outputs": [
    {
     "data": {
      "text/plain": [
       "0.9950599842422293"
      ]
     },
     "execution_count": 46,
     "metadata": {},
     "output_type": "execute_result"
    }
   ],
   "source": [
    "n.cdf(2.58)"
   ]
  },
  {
   "cell_type": "code",
   "execution_count": 49,
   "id": "94ed0be0-996a-4609-bc22-0fe9c1bc4eee",
   "metadata": {},
   "outputs": [
    {
     "name": "stdout",
     "output_type": "stream",
     "text": [
      "1 시그마 0.6826894921370859\n",
      "2 시그마 0.9544997361036416\n",
      "3 시그마 0.9973002039367398\n"
     ]
    }
   ],
   "source": [
    "print('1 시그마', norm(0, 1).cdf(1) - norm(0, 1).cdf(-1))\n",
    "print('2 시그마', norm(0, 1).cdf(2) - norm(0, 1).cdf(-2))\n",
    "print('3 시그마', norm(0, 1).cdf(3) - norm(0, 1).cdf(-3))"
   ]
  },
  {
   "cell_type": "code",
   "execution_count": 54,
   "id": "094d99f2-cf1f-40bf-bbfe-d734657a66ef",
   "metadata": {},
   "outputs": [
    {
     "data": {
      "text/plain": [
       "0.950004209703559"
      ]
     },
     "execution_count": 54,
     "metadata": {},
     "output_type": "execute_result"
    }
   ],
   "source": [
    "n.cdf(1.96) - n.cdf(-1.96)"
   ]
  },
  {
   "cell_type": "code",
   "execution_count": 55,
   "id": "571ecdab-b23e-4c64-a13a-fd0da96a122b",
   "metadata": {},
   "outputs": [
    {
     "data": {
      "text/plain": [
       "(44.12, 55.88)"
      ]
     },
     "execution_count": 55,
     "metadata": {},
     "output_type": "execute_result"
    }
   ],
   "source": [
    "mu = 50\n",
    "sigma = 3\n",
    "mu - 1.96*sigma, mu + 1.96*sigma"
   ]
  },
  {
   "cell_type": "code",
   "execution_count": 58,
   "id": "7b875eca-ae90-4698-9748-befedcea49fd",
   "metadata": {},
   "outputs": [
    {
     "name": "stdout",
     "output_type": "stream",
     "text": [
      "43.833333333333336 16.93533452741798\n",
      "10.640077659594098 77.02658900707257\n"
     ]
    }
   ],
   "source": [
    "x = np.array([20, 30, 40, 70, 60, 43])\n",
    "mu = np.mean(x)\n",
    "sigma = np.std(x)\n",
    "print(mu, sigma)\n",
    "print(mu -1.96*sigma, mu + 1.96*sigma)"
   ]
  },
  {
   "cell_type": "code",
   "execution_count": 59,
   "id": "151cc4b9-c063-4b03-912a-b63e1747e842",
   "metadata": {},
   "outputs": [
    {
     "data": {
      "text/plain": [
       "13.551089883733967"
      ]
     },
     "execution_count": 59,
     "metadata": {},
     "output_type": "execute_result"
    }
   ],
   "source": [
    "1.96*sigma/np.sqrt(6)"
   ]
  },
  {
   "cell_type": "code",
   "execution_count": 60,
   "id": "ff82d5f8-8dcb-4a28-ad51-5eca75940939",
   "metadata": {},
   "outputs": [
    {
     "data": {
      "text/plain": [
       "0.9999980000020001"
      ]
     },
     "execution_count": 60,
     "metadata": {},
     "output_type": "execute_result"
    }
   ],
   "source": [
    "(1 - 0.000001) * 0.3333 / ((1-0.000001) * 0.3333 + 0.000001 * 0.6666)"
   ]
  },
  {
   "cell_type": "code",
   "execution_count": 61,
   "id": "efbfdcb1-8710-44ea-ac65-d89225d6a6bf",
   "metadata": {},
   "outputs": [
    {
     "data": {
      "text/plain": [
       "0.3333003333"
      ]
     },
     "execution_count": 61,
     "metadata": {},
     "output_type": "execute_result"
    }
   ],
   "source": [
    "((1-0.000001) * 0.3333 + 0.000001 * 0.6666)"
   ]
  },
  {
   "cell_type": "code",
   "execution_count": 62,
   "id": "9903df8c-18ec-4c12-8217-ac9dc6e2274e",
   "metadata": {},
   "outputs": [
    {
     "data": {
      "text/plain": [
       "0.3332996667"
      ]
     },
     "execution_count": 62,
     "metadata": {},
     "output_type": "execute_result"
    }
   ],
   "source": [
    "(1 - 0.000001) * 0.3333"
   ]
  },
  {
   "cell_type": "code",
   "execution_count": 63,
   "id": "f6e9784e-8d7d-4b7c-8382-947febde13c6",
   "metadata": {},
   "outputs": [
    {
     "data": {
      "text/plain": [
       "0.9999980000020001"
      ]
     },
     "execution_count": 63,
     "metadata": {},
     "output_type": "execute_result"
    }
   ],
   "source": [
    "0.3332996667 / 0.3333003333"
   ]
  },
  {
   "cell_type": "code",
   "execution_count": 64,
   "id": "78603a52-ec66-4cd9-aa34-1194943058b1",
   "metadata": {},
   "outputs": [
    {
     "data": {
      "text/plain": [
       "0.6397759103641457"
      ]
     },
     "execution_count": 64,
     "metadata": {},
     "output_type": "execute_result"
    }
   ],
   "source": [
    "0.4 * 0.571 / (0.4 * 0.57 + 0.3 * 0.43)"
   ]
  },
  {
   "cell_type": "code",
   "execution_count": null,
   "id": "df45dcb3-dcc1-49a9-b85d-1df72e6c48b1",
   "metadata": {},
   "outputs": [],
   "source": []
  }
 ],
 "metadata": {
  "kernelspec": {
   "display_name": "Python 3",
   "language": "python",
   "name": "python3"
  },
  "language_info": {
   "codemirror_mode": {
    "name": "ipython",
    "version": 3
   },
   "file_extension": ".py",
   "mimetype": "text/x-python",
   "name": "python",
   "nbconvert_exporter": "python",
   "pygments_lexer": "ipython3",
   "version": "3.8.8"
  }
 },
 "nbformat": 4,
 "nbformat_minor": 5
}
